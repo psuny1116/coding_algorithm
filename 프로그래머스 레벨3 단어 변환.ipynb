{
 "cells": [
  {
   "cell_type": "markdown",
   "metadata": {},
   "source": [
    "# 단어 변환_레벨3 깊이/너비 우선 탐색(DFS/BFS)\n",
    "\n",
    "## 문제 설명\n",
    "\n",
    "- 두 개의 단어 begin, target과 단어의 집합 words가 있습니다. \n",
    "- 아래와 같은 규칙을 이용하여 begin에서 target으로 변환하는 가장 짧은 변환 과정을 찾으려고 합니다.\n",
    "    1. 한 번에 한 개의 알파벳만 바꿀 수 있습니다.\n",
    "    2. words에 있는 단어로만 변환할 수 있습니다.\n",
    "- 예를 들어 begin이 \"hit\", target가 \"cog\", words가 [\"hot\",\"dot\",\"dog\",\"lot\",\"log\",\"cog\"]라면 \"hit\" -> \"hot\" -> \"dot\" -> \"dog\" -> \"cog\"와 같이 4단계를 거쳐 변환할 수 있습니다.\n",
    "- 두 개의 단어 begin, target과 단어의 집합 words가 매개변수로 주어질 때, 최소 몇 단계의 과정을 거쳐 begin을 target으로 변환할 수 있는지 return 하도록 solution 함수를 작성해주세요.\n",
    "\n",
    "## 제한사항\n",
    "\n",
    "- 각 단어는 알파벳 소문자로만 이루어져 있습니다.\n",
    "- 각 단어의 길이는 3 이상 10 이하이며 모든 단어의 길이는 같습니다.\n",
    "- words에는 3개 이상 50개 이하의 단어가 있으며 중복되는 단어는 없습니다.\n",
    "- begin과 target은 같지 않습니다.\n",
    "- 변환할 수 없는 경우에는 0를 return 합니다.\n",
    "\n",
    "### 입출력 예\n",
    "\n",
    "begin|\ttarget|\twords|\treturn\n",
    "-|-|-|-\n",
    "\"hit\"|\t\"cog\"|\t[\"hot\", \"dot\", \"dog\", \"lot\", \"log\", \"cog\"]|\t4\n",
    "\"hit\"|\t\"cog\"|\t[\"hot\", \"dot\", \"dog\", \"lot\", \"log\"]|\t0\n",
    "\n",
    "### 입출력 예 설명\n",
    "\n",
    "- 예제1\n",
    "    - 문제에 나온 예와 같습니다.\n",
    "\n",
    "- 예제2\n",
    "    - target인 \"cog\"는 words 안에 없기 때문에 변환할 수 없습니다."
   ]
  },
  {
   "cell_type": "markdown",
   "metadata": {},
   "source": [
    "# 풀이1"
   ]
  },
  {
   "cell_type": "code",
   "execution_count": 1,
   "metadata": {},
   "outputs": [],
   "source": [
    "from collections import deque\n",
    "\n",
    "\n",
    "def get_adjacent(current, words):\n",
    "    for word in words:\n",
    "        if len(current) != len(word):\n",
    "            continue\n",
    "\n",
    "        count = 0\n",
    "        for c, w in zip(current, word):\n",
    "            if c != w:\n",
    "                count += 1\n",
    "\n",
    "        if count == 1:\n",
    "            yield word\n",
    "\n",
    "\n",
    "def solution(begin, target, words):\n",
    "    dist = {begin: 0}\n",
    "    queue = deque([begin])\n",
    "\n",
    "    while queue:\n",
    "        current = queue.popleft()\n",
    "\n",
    "        for next_word in get_adjacent(current, words):\n",
    "            if next_word not in dist:\n",
    "                dist[next_word] = dist[current] + 1\n",
    "                queue.append(next_word)\n",
    "\n",
    "    return dist.get(target, 0)"
   ]
  },
  {
   "cell_type": "code",
   "execution_count": 2,
   "metadata": {},
   "outputs": [
    {
     "data": {
      "text/plain": [
       "4"
      ]
     },
     "execution_count": 2,
     "metadata": {},
     "output_type": "execute_result"
    }
   ],
   "source": [
    "solution(\"hit\", \"cog\", [\"hot\", \"dot\", \"dog\", \"lot\", \"log\", \"cog\"])"
   ]
  },
  {
   "cell_type": "code",
   "execution_count": 3,
   "metadata": {},
   "outputs": [
    {
     "data": {
      "text/plain": [
       "0"
      ]
     },
     "execution_count": 3,
     "metadata": {},
     "output_type": "execute_result"
    }
   ],
   "source": [
    "solution(\"hit\", \"cog\", [\"hot\", \"dot\", \"dog\", \"lot\", \"log\"])"
   ]
  }
 ],
 "metadata": {
  "kernelspec": {
   "display_name": "Python 3",
   "language": "python",
   "name": "python3"
  },
  "language_info": {
   "codemirror_mode": {
    "name": "ipython",
    "version": 3
   },
   "file_extension": ".py",
   "mimetype": "text/x-python",
   "name": "python",
   "nbconvert_exporter": "python",
   "pygments_lexer": "ipython3",
   "version": "3.7.6"
  }
 },
 "nbformat": 4,
 "nbformat_minor": 4
}
