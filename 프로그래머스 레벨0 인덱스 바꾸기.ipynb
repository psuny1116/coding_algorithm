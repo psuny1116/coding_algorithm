{
 "cells": [
  {
   "cell_type": "markdown",
   "metadata": {},
   "source": [
    "# 인덱스 바꾸기_레벨0\n",
    "\n",
    "## 문제 설명\n",
    "\n",
    "- 문자열 my_string과 정수 num1, num2가 매개변수로 주어질 때, my_string에서 인덱스 num1과 인덱스 num2에 해당하는 문자를 바꾼 문자열을 return 하도록 solution 함수를 완성해보세요.\n",
    "\n",
    "## 제한사항\n",
    "\n",
    "- 1 < my_string의 길이 < 100\n",
    "- 0 ≤ num1, num2 < my_string의 길이\n",
    "- my_string은 소문자로 이루어져 있습니다.\n",
    "- num1 ≠ num2\n",
    "\n",
    "## 입출력 예\n",
    "\n",
    "my_string|\tnum1|\tnum2|\tresult\n",
    "-|-|-|-\n",
    "\"hello\"|\t1|\t2|\t\"hlelo\"\n",
    "\"I love you\"|\t3|\t6|\t\"I l veoyou\"\n",
    "\n",
    "## 입출력 예 설명\n",
    "\n",
    "### 입출력 예 #1\n",
    "\n",
    "- \"hello\"의 1번째 인덱스인 \"e\"와 2번째 인덱스인 \"l\"을 바꾸면 \"hlelo\"입니다.\n",
    "\n",
    "### 입출력 예 #2\n",
    "\n",
    "- \"I love you\"의 3번째 인덱스 \"o\"와 \" \"(공백)을 바꾸면 \"I l veoyou\"입니다."
   ]
  },
  {
   "cell_type": "markdown",
   "metadata": {},
   "source": [
    "# 풀이"
   ]
  },
  {
   "cell_type": "code",
   "execution_count": 141,
   "metadata": {},
   "outputs": [],
   "source": [
    "def solution(my_string, num1, num2):\n",
    "    answer = ''\n",
    "    for i in range(len(my_string)):\n",
    "        if i not in [num1, num2]:\n",
    "            answer += my_string[i]\n",
    "        elif i == num1:\n",
    "            answer += my_string[num2]\n",
    "        elif i == num2:\n",
    "            answer += my_string[num1]\n",
    "            \n",
    "    return answer"
   ]
  },
  {
   "cell_type": "code",
   "execution_count": 142,
   "metadata": {},
   "outputs": [
    {
     "data": {
      "text/plain": [
       "'hlelo'"
      ]
     },
     "execution_count": 142,
     "metadata": {},
     "output_type": "execute_result"
    }
   ],
   "source": [
    "solution(\"hello\", 1, 2)     # 'hlelo'"
   ]
  },
  {
   "cell_type": "code",
   "execution_count": 143,
   "metadata": {},
   "outputs": [
    {
     "data": {
      "text/plain": [
       "'I l veoyou'"
      ]
     },
     "execution_count": 143,
     "metadata": {},
     "output_type": "execute_result"
    }
   ],
   "source": [
    "solution(\"I love you\", 3, 6)     # \"I l veoyou\""
   ]
  },
  {
   "cell_type": "markdown",
   "metadata": {},
   "source": [
    "# 풀이2"
   ]
  },
  {
   "cell_type": "code",
   "execution_count": 1,
   "metadata": {},
   "outputs": [],
   "source": [
    "def solution(my_string, num1, num2):\n",
    "    s = list(my_string)\n",
    "    s[num1], s[num2] = s[num2], s[num1]\n",
    "    return ''.join(s)"
   ]
  },
  {
   "cell_type": "code",
   "execution_count": 2,
   "metadata": {},
   "outputs": [
    {
     "data": {
      "text/plain": [
       "'hlelo'"
      ]
     },
     "execution_count": 2,
     "metadata": {},
     "output_type": "execute_result"
    }
   ],
   "source": [
    "solution(\"hello\", 1, 2)"
   ]
  },
  {
   "cell_type": "code",
   "execution_count": 3,
   "metadata": {},
   "outputs": [
    {
     "data": {
      "text/plain": [
       "'I l veoyou'"
      ]
     },
     "execution_count": 3,
     "metadata": {},
     "output_type": "execute_result"
    }
   ],
   "source": [
    "solution(\"I love you\", 3, 6) "
   ]
  }
 ],
 "metadata": {
  "kernelspec": {
   "display_name": "Python 3",
   "language": "python",
   "name": "python3"
  },
  "language_info": {
   "codemirror_mode": {
    "name": "ipython",
    "version": 3
   },
   "file_extension": ".py",
   "mimetype": "text/x-python",
   "name": "python",
   "nbconvert_exporter": "python",
   "pygments_lexer": "ipython3",
   "version": "3.7.6"
  }
 },
 "nbformat": 4,
 "nbformat_minor": 4
}
