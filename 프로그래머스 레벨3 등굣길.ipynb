{
 "cells": [
  {
   "cell_type": "markdown",
   "metadata": {},
   "source": [
    "# 등굣길_레벨3 동적계획법(DP)\n",
    "\n",
    "## 문제 설명\n",
    "\n",
    "- 계속되는 폭우로 일부 지역이 물에 잠겼습니다. \n",
    "- 물에 잠기지 않은 지역을 통해 학교를 가려고 합니다. \n",
    "- 집에서 학교까지 가는 길은 m x n 크기의 격자모양으로 나타낼 수 있습니다.\n",
    "- 아래 그림은 m = 4, n = 3 인 경우입니다.\n",
    "- .\n",
    "- .\n",
    "- .\n",
    "- .\n",
    "- .\n",
    "- 가장 왼쪽 위, 즉 집이 있는 곳의 좌표는 (1, 1)로 나타내고 가장 오른쪽 아래, 즉 학교가 있는 곳의 좌표는 (m, n)으로 나타냅니다.\n",
    "- 격자의 크기 m, n과 물이 잠긴 지역의 좌표를 담은 2차원 배열 puddles이 매개변수로 주어집니다. \n",
    "- 오른쪽과 아래쪽으로만 움직여 집에서 학교까지 갈 수 있는 최단경로의 개수를 1,000,000,007로 나눈 나머지를 return 하도록 solution 함수를 작성해주세요.\n",
    "\n",
    "## 제한사항\n",
    "\n",
    "- 격자의 크기 m, n은 1 이상 100 이하인 자연수입니다.\n",
    "- m과 n이 모두 1인 경우는 입력으로 주어지지 않습니다.\n",
    "- 물에 잠긴 지역은 0개 이상 10개 이하입니다.\n",
    "- 집과 학교가 물에 잠긴 경우는 입력으로 주어지지 않습니다.\n",
    "\n",
    "### 입출력 예\n",
    "\n",
    "m|\tn|\tpuddles|\treturn\n",
    "-|-|-|-\n",
    "4|\t3|\t[[2, 2]]|\t4\n",
    "\n",
    "### 입출력 예 설명\n",
    "- .\n",
    "- .\n",
    "- .\n",
    "- .\n",
    "- ."
   ]
  },
  {
   "cell_type": "markdown",
   "metadata": {},
   "source": [
    "# 풀이1"
   ]
  },
  {
   "cell_type": "code",
   "execution_count": 1,
   "metadata": {},
   "outputs": [],
   "source": [
    "def solution(m,n,puddles):\n",
    "    grid = [[0]*(m+1) for i in range(n+1)] #왼쪽, 위로 한줄씩 만들어서 IndexError 방지\n",
    "    if puddles != [[]]:                    #물이 잠긴 지역이 0일 수 있음\n",
    "        for a, b in puddles:\n",
    "            grid[b][a] = -1                #미리 -1로 체크\n",
    "    grid[1][1] = 1\n",
    "    for j in range(1,n+1):\n",
    "        for k in range(1,m+1):\n",
    "            if j == k == 1:                #(1,1)은 1로 만들어두고, 0이 되지 않도록\n",
    "                continue\n",
    "            if grid[j][k] == -1:           #웅덩이는 0으로 만들어 다음 덧셈 때 영향끼치지 않게\n",
    "                grid[j][k] = 0\n",
    "                continue\n",
    "            grid[j][k] = (grid[j][k-1] + grid[j-1][k])%1000000007   #[a,b] = [a-1,b] + [a,b-1] 공식\n",
    "\n",
    "    return grid[n][m]"
   ]
  },
  {
   "cell_type": "code",
   "execution_count": 2,
   "metadata": {},
   "outputs": [
    {
     "data": {
      "text/plain": [
       "4"
      ]
     },
     "execution_count": 2,
     "metadata": {},
     "output_type": "execute_result"
    }
   ],
   "source": [
    "solution(4, 3, [[2, 2]])"
   ]
  }
 ],
 "metadata": {
  "kernelspec": {
   "display_name": "Python 3",
   "language": "python",
   "name": "python3"
  },
  "language_info": {
   "codemirror_mode": {
    "name": "ipython",
    "version": 3
   },
   "file_extension": ".py",
   "mimetype": "text/x-python",
   "name": "python",
   "nbconvert_exporter": "python",
   "pygments_lexer": "ipython3",
   "version": "3.7.6"
  }
 },
 "nbformat": 4,
 "nbformat_minor": 4
}
