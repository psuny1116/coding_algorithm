{
 "cells": [
  {
   "cell_type": "markdown",
   "metadata": {},
   "source": [
    "# 징검다리_레벨4 이분탐색\n",
    "\n",
    "## 문제 설명\n",
    "\n",
    "- 출발지점부터 distance만큼 떨어진 곳에 도착지점이 있습니다. \n",
    "- 그리고 그사이에는 바위들이 놓여있습니다. 바위 중 몇 개를 제거하려고 합니다.\n",
    "- 예를 들어, 도착지점이 25만큼 떨어져 있고, 바위가 [2, 14, 11, 21, 17] 지점에 놓여있을 때 바위 2개를 제거하면 출발지점, 도착지점, 바위 간의 거리가 아래와 같습니다.\n",
    "\n",
    "제거한 바위의 위치|\t각 바위 사이의 거리|\t거리의 최솟값\n",
    "-|-|-\n",
    "[21, 17]|\t[2, 9, 3, 11]|\t2\n",
    "[2, 21]|\t[11, 3, 3, 8]|\t3\n",
    "[2, 11]|\t[14, 3, 4, 4]|\t3\n",
    "[11, 21]|\t[2, 12, 3, 8]|\t2\n",
    "[2, 14]|\t[11, 6, 4, 4]|\t4\n",
    "\n",
    "- 위에서 구한 거리의 최솟값 중에 가장 큰 값은 4입니다.\n",
    "- 출발지점부터 도착지점까지의 거리 distance, 바위들이 있는 위치를 담은 배열 rocks, 제거할 바위의 수 n이 매개변수로 주어질 때, 바위를 n개 제거한 뒤 각 지점 사이의 거리의 최솟값 중에 가장 큰 값을 return 하도록 solution 함수를 작성해주세요.\n",
    "\n",
    "## 제한사항\n",
    "\n",
    "- 도착지점까지의 거리 distance는 1 이상 1,000,000,000 이하입니다.\n",
    "- 바위는 1개 이상 50,000개 이하가 있습니다.\n",
    "- n 은 1 이상 바위의 개수 이하입니다.\n",
    "\n",
    "### 입출력 예\n",
    "\n",
    "distance|\trocks|\tn|\treturn\n",
    "-|-|-|-\n",
    "25|\t[2, 14, 11, 21, 17]|\t2|\t4\n",
    "\n",
    "### 입출력 예 설명\n",
    "    - 문제에 나온 예와 같습니다."
   ]
  },
  {
   "cell_type": "markdown",
   "metadata": {},
   "source": [
    "# 풀이1"
   ]
  },
  {
   "cell_type": "code",
   "execution_count": 1,
   "metadata": {},
   "outputs": [],
   "source": [
    "def solution(distance, rocks, n):\n",
    "    answer = 0\n",
    "    sorted_rocks = sorted(rocks)\n",
    "    sorted_rocks.append(distance)\n",
    "    left = 0\n",
    "    right = distance\n",
    "    while (left <= right):\n",
    "        mid = int((left + right) / 2)\n",
    "        cnt = 0\n",
    "        p = 0\n",
    "        for i in range(len(sorted_rocks)):\n",
    "            if (sorted_rocks[i] - p < mid):\n",
    "                cnt += 1\n",
    "            else:\n",
    "                p = sorted_rocks[i]\n",
    "        if cnt > n:\n",
    "            right = mid - 1\n",
    "        else:\n",
    "            left = mid + 1\n",
    "            answer = mid\n",
    "    return answer"
   ]
  },
  {
   "cell_type": "code",
   "execution_count": 2,
   "metadata": {},
   "outputs": [
    {
     "data": {
      "text/plain": [
       "4"
      ]
     },
     "execution_count": 2,
     "metadata": {},
     "output_type": "execute_result"
    }
   ],
   "source": [
    "solution(25, [2, 14, 11, 21, 17], 2)"
   ]
  }
 ],
 "metadata": {
  "kernelspec": {
   "display_name": "Python 3",
   "language": "python",
   "name": "python3"
  },
  "language_info": {
   "codemirror_mode": {
    "name": "ipython",
    "version": 3
   },
   "file_extension": ".py",
   "mimetype": "text/x-python",
   "name": "python",
   "nbconvert_exporter": "python",
   "pygments_lexer": "ipython3",
   "version": "3.7.6"
  }
 },
 "nbformat": 4,
 "nbformat_minor": 4
}
