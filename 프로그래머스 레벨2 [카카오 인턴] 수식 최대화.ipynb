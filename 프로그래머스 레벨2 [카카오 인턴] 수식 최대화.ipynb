{
 "cells": [
  {
   "cell_type": "markdown",
   "metadata": {},
   "source": [
    "# [카카오 인턴] 수식 최대화_레벨2 2020카카오\n",
    "\n",
    "## 문제 설명\n",
    "\n",
    "- IT 벤처 회사를 운영하고 있는 라이언은 매년 사내 해커톤 대회를 개최하여 우승자에게 상금을 지급하고 있습니다.\n",
    "- 이번 대회에서는 우승자에게 지급되는 상금을 이전 대회와는 다르게 다음과 같은 방식으로 결정하려고 합니다.\n",
    "- 해커톤 대회에 참가하는 모든 참가자들에게는 숫자들과 3가지의 연산문자(+, -, * ) 만으로 이루어진 연산 수식이 전달되며, 참가자의 미션은 전달받은 수식에 포함된 연산자의 우선순위를 자유롭게 재정의하여 만들 수 있는 가장 큰 숫자를 제출하는 것입니다.\n",
    "- 단, 연산자의 우선순위를 새로 정의할 때, 같은 순위의 연산자는 없어야 합니다. \n",
    "- 즉, + > - > * 또는 - > * > + 등과 같이 연산자 우선순위를 정의할 수 있으나 +,* > - 또는 * > +,-처럼 2개 이상의 연산자가 동일한 순위를 가지도록 연산자 우선순위를 정의할 수는 없습니다. \n",
    "- 수식에 포함된 연산자가 2개라면 정의할 수 있는 연산자 우선순위 조합은 2! = 2가지이며, 연산자가 3개라면 3! = 6가지 조합이 가능합니다.\n",
    "- 만약 계산된 결과가 음수라면 해당 숫자의 절댓값으로 변환하여 제출하며 제출한 숫자가 가장 큰 참가자를 우승자로 선정하며, 우승자가 제출한 숫자를 우승상금으로 지급하게 됩니다.\n",
    "- 예를 들어, 참가자 중 네오가 아래와 같은 수식을 전달받았다고 가정합니다.\n",
    "- \"100-200*300-500+20\"\n",
    "- 일반적으로 수학 및 전산학에서 약속된 연산자 우선순위에 따르면 더하기와 빼기는 서로 동등하며 곱하기는 더하기, 빼기에 비해 우선순위가 높아 * > +,- 로 우선순위가 정의되어 있습니다.\n",
    "- 대회 규칙에 따라 + > - > * 또는 - > * > + 등과 같이 연산자 우선순위를 정의할 수 있으나 +,* > - 또는 * > +,- 처럼 2개 이상의 연산자가 동일한 순위를 가지도록 연산자 우선순위를 정의할 수는 없습니다.\n",
    "- 수식에 연산자가 3개 주어졌으므로 가능한 연산자 우선순위 조합은 3! = 6가지이며, 그 중 + > - > * 로 연산자 우선순위를 정한다면 결괏값은 22,000원이 됩니다.\n",
    "- 반면에 * > + > - 로 연산자 우선순위를 정한다면 수식의 결괏값은 -60,420 이지만, 규칙에 따라 우승 시 상금은 절댓값인 60,420원이 됩니다.\n",
    "- 참가자에게 주어진 연산 수식이 담긴 문자열 expression이 매개변수로 주어질 때, 우승 시 받을 수 있는 가장 큰 상금 금액을 return 하도록 solution 함수를 완성해주세요.\n",
    "\n",
    "## [제한사항]\n",
    "\n",
    "- expression은 길이가 3 이상 100 이하인 문자열입니다.\n",
    "- expression은 공백문자, 괄호문자 없이 오로지 숫자와 3가지의 연산자(+, -, * ) 만으로 이루어진 올바른 중위표기법(연산의 두 대상 사이에 연산기호를 사용하는 방식)으로 표현된 연산식입니다. 잘못된 연산식은 입력으로 주어지지 않습니다.\n",
    "- 즉, \"402+-561*\"처럼 잘못된 수식은 올바른 중위표기법이 아니므로 주어지지 않습니다.\n",
    "- expression의 피연산자(operand)는 0 이상 999 이하의 숫자입니다.\n",
    "- 즉, \"100-2145*458+12\"처럼 999를 초과하는 피연산자가 포함된 수식은 입력으로 주어지지 않습니다.\n",
    "- \"-56+100\"처럼 피연산자가 음수인 수식도 입력으로 주어지지 않습니다.\n",
    "- expression은 적어도 1개 이상의 연산자를 포함하고 있습니다.\n",
    "- 연산자 우선순위를 어떻게 적용하더라도, expression의 중간 계산값과 최종 결괏값은 절댓값이 2^63 - 1 이하가 되도록 입력이 주어집니다.\n",
    "- 같은 연산자끼리는 앞에 있는 것의 우선순위가 더 높습니다.\n",
    "\n",
    "### 입출력 예\n",
    "\n",
    "expression|\tresult\n",
    "-|-\n",
    "\"100-200*300-500+20\"|\t60420\n",
    "\"50*6-3*2\"|\t300\n",
    "\n",
    "### 입출력 예에 대한 설명\n",
    "\n",
    "- 입출력 예1\n",
    "    - $*$ > + > $-$ 로 연산자 우선순위를 정했을 때, 가장 큰 절댓값을 얻을 수 있습니다.\n",
    "    - 연산 순서는 아래와 같습니다.\n",
    "    - 100-200*300-500+20\n",
    "    - = 100-(200*300)-500+20\n",
    "    - = 100-60000-(500+20)\n",
    "    - = (100-60000)-520\n",
    "    - = (-59900-520)\n",
    "    - = -60420\n",
    "    - 따라서, 우승 시 받을 수 있는 상금은 |-60420| = 60420 입니다.\n",
    "\n",
    "- 입출력 예2\n",
    "    - $-$ > * 로 연산자 우선순위를 정했을 때, 가장 큰 절댓값을 얻을 수 있습니다.\n",
    "    - 연산 순서는 아래와 같습니다.\n",
    "    - (expression에서 + 연산자는 나타나지 않았으므로, 고려할 필요가 없습니다.)\n",
    "    - 50* 6-3*2\n",
    "    - = 50* (6-3)*2\n",
    "    - = (50* 3)*2\n",
    "    - = 150*2\n",
    "    - = 300\n",
    "    - 따라서, 우승 시 받을 수 있는 상금은 300 입니다."
   ]
  },
  {
   "cell_type": "markdown",
   "metadata": {},
   "source": [
    "# 풀이1"
   ]
  },
  {
   "cell_type": "code",
   "execution_count": 1,
   "metadata": {},
   "outputs": [],
   "source": [
    "def solution(expression):\n",
    "    operations = [('+', '-', '*'),('+', '*', '-'),('-', '+', '*'),('-', '*', '+'),('*', '+', '-'),('*', '-', '+')]\n",
    "    answer = []\n",
    "    for op in operations:\n",
    "        a = op[0]\n",
    "        b = op[1]\n",
    "        temp_list = []\n",
    "        for e in expression.split(a):\n",
    "            temp = [f\"({i})\" for i in e.split(b)]\n",
    "            temp_list.append(f'({b.join(temp)})')\n",
    "        answer.append(abs(eval(a.join(temp_list))))\n",
    "    return max(answer)"
   ]
  },
  {
   "cell_type": "code",
   "execution_count": 2,
   "metadata": {},
   "outputs": [
    {
     "data": {
      "text/plain": [
       "60420"
      ]
     },
     "execution_count": 2,
     "metadata": {},
     "output_type": "execute_result"
    }
   ],
   "source": [
    "solution(\"100-200*300-500+20\")"
   ]
  },
  {
   "cell_type": "code",
   "execution_count": 3,
   "metadata": {},
   "outputs": [
    {
     "data": {
      "text/plain": [
       "300"
      ]
     },
     "execution_count": 3,
     "metadata": {},
     "output_type": "execute_result"
    }
   ],
   "source": [
    "solution(\"50*6-3*2\")"
   ]
  },
  {
   "cell_type": "markdown",
   "metadata": {},
   "source": [
    "# 풀이2"
   ]
  },
  {
   "cell_type": "code",
   "execution_count": 4,
   "metadata": {},
   "outputs": [],
   "source": [
    "import re\n",
    "from itertools import permutations\n",
    "\n",
    "def solution(expression):\n",
    "    #1\n",
    "    op = [x for x in ['*','+','-'] if x in expression]\n",
    "    op = [list(y) for y in permutations(op)]\n",
    "    ex = re.split(r'(\\D)',expression)\n",
    "\n",
    "    #2\n",
    "    a = []\n",
    "    for x in op:\n",
    "        _ex = ex[:]\n",
    "        for y in x:\n",
    "            while y in _ex:\n",
    "                tmp = _ex.index(y)\n",
    "                _ex[tmp-1] = str(eval(_ex[tmp-1]+_ex[tmp]+_ex[tmp+1]))\n",
    "                _ex = _ex[:tmp]+_ex[tmp+2:]\n",
    "        a.append(_ex[-1])\n",
    "\n",
    "    #3\n",
    "    return max(abs(int(x)) for x in a)"
   ]
  },
  {
   "cell_type": "code",
   "execution_count": 5,
   "metadata": {},
   "outputs": [
    {
     "data": {
      "text/plain": [
       "60420"
      ]
     },
     "execution_count": 5,
     "metadata": {},
     "output_type": "execute_result"
    }
   ],
   "source": [
    "solution(\"100-200*300-500+20\")"
   ]
  },
  {
   "cell_type": "code",
   "execution_count": 6,
   "metadata": {},
   "outputs": [
    {
     "data": {
      "text/plain": [
       "300"
      ]
     },
     "execution_count": 6,
     "metadata": {},
     "output_type": "execute_result"
    }
   ],
   "source": [
    "solution(\"50*6-3*2\")"
   ]
  },
  {
   "cell_type": "markdown",
   "metadata": {},
   "source": [
    "# 풀이3"
   ]
  },
  {
   "cell_type": "code",
   "execution_count": 7,
   "metadata": {},
   "outputs": [],
   "source": [
    "from itertools import permutations\n",
    "def calc(priority, n, expression):\n",
    "    if n == 2:\n",
    "        return str(eval(expression))\n",
    "    if priority[n] == '*':\n",
    "        res = eval('*'.join([calc(priority, n + 1, e) for e in expression.split('*')]))\n",
    "    if priority[n] == '+':\n",
    "        res = eval('+'.join([calc(priority, n + 1, e) for e in expression.split('+')]))\n",
    "    if priority[n] == '-':\n",
    "        res = eval('-'.join([calc(priority, n + 1, e) for e in expression.split('-')]))\n",
    "    return str(res)\n",
    "\n",
    "\n",
    "def solution(expression):\n",
    "    answer = 0\n",
    "    priorities = (list(permutations(['*','-','+'], 3)))\n",
    "    for priority in priorities:\n",
    "        res = int(calc(priority, 0, expression))\n",
    "        answer = max(answer, abs(res))\n",
    "\n",
    "    return answer"
   ]
  },
  {
   "cell_type": "code",
   "execution_count": 8,
   "metadata": {},
   "outputs": [
    {
     "data": {
      "text/plain": [
       "60420"
      ]
     },
     "execution_count": 8,
     "metadata": {},
     "output_type": "execute_result"
    }
   ],
   "source": [
    "solution(\"100-200*300-500+20\")"
   ]
  },
  {
   "cell_type": "code",
   "execution_count": 9,
   "metadata": {},
   "outputs": [
    {
     "data": {
      "text/plain": [
       "300"
      ]
     },
     "execution_count": 9,
     "metadata": {},
     "output_type": "execute_result"
    }
   ],
   "source": [
    "solution(\"50*6-3*2\")"
   ]
  }
 ],
 "metadata": {
  "kernelspec": {
   "display_name": "Python 3",
   "language": "python",
   "name": "python3"
  },
  "language_info": {
   "codemirror_mode": {
    "name": "ipython",
    "version": 3
   },
   "file_extension": ".py",
   "mimetype": "text/x-python",
   "name": "python",
   "nbconvert_exporter": "python",
   "pygments_lexer": "ipython3",
   "version": "3.7.6"
  }
 },
 "nbformat": 4,
 "nbformat_minor": 4
}
