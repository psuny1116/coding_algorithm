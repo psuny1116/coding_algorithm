{
 "cells": [
  {
   "cell_type": "markdown",
   "metadata": {},
   "source": [
    "# 숨어있는 숫자의 덧셈 (2)_레벨0\n",
    "\n",
    "## 문제 설명\n",
    "\n",
    "- 문자열 my_string이 매개변수로 주어집니다. \n",
    "- my_string은 소문자, 대문자, 자연수로만 구성되어있습니다. my_string안의 자연수들의 합을 return하도록 solution 함수를 완성해주세요.\n",
    "\n",
    "## 제한사항\n",
    "\n",
    "- 1 ≤ my_string의 길이 ≤ 1,000\n",
    "- 1 ≤ my_string 안의 자연수 ≤ 1000\n",
    "- 연속된 수는 하나의 숫자로 간주합니다.\n",
    "- 000123과 같이 0이 선행하는 경우는 없습니다.\n",
    "- 문자열에 자연수가 없는 경우 0을 return 해주세요.\n",
    "\n",
    "## 입출력 예\n",
    "\n",
    "my_string|\tresult\n",
    "-|-\n",
    "\"aAb1B2cC34oOp\"|\t37\n",
    "\"1a2b3c4d123Z\"|\t133\n",
    "\n",
    "## 입출력 예 설명\n",
    "\n",
    "### 입출력 예 #1\n",
    "\n",
    "- \"aAb1B2cC34oOp\"안의 자연수는 1, 2, 34 입니다. 따라서 1 + 2 + 34 = 37 을 return합니다.\n",
    "\n",
    "### 입출력 예 #2\n",
    "\n",
    "- \"1a2b3c4d123Z\"안의 자연수는 1, 2, 3, 4, 123 입니다. 따라서 1 + 2 + 3 + 4 + 123 = 133 을 return합니다."
   ]
  },
  {
   "cell_type": "markdown",
   "metadata": {},
   "source": [
    "# 풀이"
   ]
  },
  {
   "cell_type": "code",
   "execution_count": 22,
   "metadata": {},
   "outputs": [],
   "source": [
    "def solution(my_string):\n",
    "    answer = 0\n",
    "    for i in my_string:\n",
    "        if i.isalpha() == True:\n",
    "            my_string = my_string.replace(i, ' ')\n",
    "    for i in my_string.split():\n",
    "        answer += int(i)\n",
    "    return answer"
   ]
  },
  {
   "cell_type": "code",
   "execution_count": 23,
   "metadata": {},
   "outputs": [
    {
     "data": {
      "text/plain": [
       "37"
      ]
     },
     "execution_count": 23,
     "metadata": {},
     "output_type": "execute_result"
    }
   ],
   "source": [
    "solution(\"aAb1B2cC34oOp\")     # 37"
   ]
  },
  {
   "cell_type": "code",
   "execution_count": 24,
   "metadata": {},
   "outputs": [
    {
     "data": {
      "text/plain": [
       "133"
      ]
     },
     "execution_count": 24,
     "metadata": {},
     "output_type": "execute_result"
    }
   ],
   "source": [
    "solution(\"1a2b3c4d123Z\")     # 133"
   ]
  }
 ],
 "metadata": {
  "kernelspec": {
   "display_name": "Python 3",
   "language": "python",
   "name": "python3"
  },
  "language_info": {
   "codemirror_mode": {
    "name": "ipython",
    "version": 3
   },
   "file_extension": ".py",
   "mimetype": "text/x-python",
   "name": "python",
   "nbconvert_exporter": "python",
   "pygments_lexer": "ipython3",
   "version": "3.7.6"
  }
 },
 "nbformat": 4,
 "nbformat_minor": 4
}
