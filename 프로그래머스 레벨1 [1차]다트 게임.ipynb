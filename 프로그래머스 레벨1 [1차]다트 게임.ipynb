{
 "cells": [
  {
   "cell_type": "markdown",
   "metadata": {},
   "source": [
    "# [1차] 다트 게임\n",
    "\n",
    "## 문제 설명\n",
    "다트 게임<br>\n",
    "카카오톡에 뜬 네 번째 별! 심심할 땐? 카카오톡 게임별~<br>\n",
    "\n",
    "카카오톡 게임별의 하반기 신규 서비스로 다트 게임을 출시하기로 했다.<br>\n",
    "다트 게임은 다트판에 다트를 세 차례 던져 그 점수의 합계로 실력을 겨루는 게임으로, 모두가 간단히 즐길 수 있다.<br>\n",
    "갓 입사한 무지는 코딩 실력을 인정받아 게임의 핵심 부분인 점수 계산 로직을 맡게 되었다. 다트 게임의 점수 계산 로직은 아래와 같다.<br>\n",
    "\n",
    "다트 게임은 총 3번의 기회로 구성된다.<br>\n",
    "각 기회마다 얻을 수 있는 점수는 0점에서 10점까지이다.<br>\n",
    "점수와 함께 Single(S), Double(D), Triple(T) 영역이 존재하고 각 영역 당첨 시 점수에서 1제곱, 2제곱, 3제곱 (점수1 , 점수2 , 점수3 )으로 계산된다.<br>\n",
    "옵션으로 스타상( * ) , 아차상(#)이 존재하며 스타상( * ) 당첨 시 해당 점수와 바로 전에 얻은 점수를 각 2배로 만든다.<br>\n",
    "아차상(#) 당첨 시 해당 점수는 마이너스된다.<br>\n",
    "스타상( * )은 첫 번째 기회에서도 나올 수 있다. <br>\n",
    "이 경우 첫 번째 스타상( * )의 점수만 2배가 된다. (예제 4번 참고)<br>\n",
    "스타상( * )의 효과는 다른 스타상( * )의 효과와 중첩될 수 있다.<br>\n",
    "이 경우 중첩된 스타상( * ) 점수는 4배가 된다. (예제 4번 참고)<br>\n",
    "스타상( * )의 효과는 아차상(#)의 효과와 중첩될 수 있다.<br>\n",
    "이 경우 중첩된 아차상(#)의 점수는 -2배가 된다. (예제 5번 참고)<br>\n",
    "Single(S), Double(D), Triple(T)은 점수마다 하나씩 존재한다.<br>\n",
    "스타상( * ), 아차상(#)은 점수마다 둘 중 하나만 존재할 수 있으며, 존재하지 않을 수도 있다.<br>\n",
    "0~10의 정수와 문자 S, D, T, * , #로 구성된 문자열이 입력될 시 총점수를 반환하는 함수를 작성하라.<br>\n",
    "\n",
    "## 입력 형식\n",
    "\"점수|보너스|[옵션]\"으로 이루어진 문자열 3세트.<br>\n",
    "예) 1S2D * 3T <br>\n",
    "\n",
    "점수는 0에서 10 사이의 정수이다.<br>\n",
    "보너스는 S, D, T 중 하나이다.<br>\n",
    "옵선은 * 이나 # 중 하나이며, 없을 수도 있다.<br>\n",
    "\n",
    "## 출력 형식\n",
    "3번의 기회에서 얻은 점수 합계에 해당하는 정수값을 출력한다.<br>\n",
    "예) 37"
   ]
  },
  {
   "cell_type": "markdown",
   "metadata": {},
   "source": [
    "# 내가 푼 방법"
   ]
  },
  {
   "cell_type": "code",
   "execution_count": 8,
   "metadata": {},
   "outputs": [],
   "source": [
    "def solution(dartResult):\n",
    "    answer = []\n",
    "    \n",
    "    score_list = ['0', '1', '2', '3', '4', '5', '6', '7', '8', '9', '10']\n",
    "    bonus_list = ['S', 'D', 'T']\n",
    "    option_list = ['*', '#']\n",
    "    \n",
    "    score = ''\n",
    "    i = 0\n",
    "    \n",
    "    for s in dartResult:\n",
    "        if s in score_list:\n",
    "            score += s\n",
    "        \n",
    "        elif s in bonus_list:\n",
    "            if s == bonus_list[0]:\n",
    "                answer.insert(i, int(score))     # insert()는 i자리에 int(score) 넣어줌\n",
    "            elif s == bonus_list[1]:\n",
    "                answer.insert(i, int(score)**2)\n",
    "            elif s == bonus_list[2]:\n",
    "                answer.insert(i, int(score)**3)\n",
    "        \n",
    "            score =''\n",
    "            i += 1\n",
    "                \n",
    "        elif s in option_list:\n",
    "            if s == option_list[0]:\n",
    "                if i - 1 == 0:\n",
    "                    answer[i - 1] *= 2\n",
    "                else:\n",
    "                    answer[i - 1] *= 2\n",
    "                    answer[i - 2] *= 2\n",
    "            elif s == option_list[1]:\n",
    "                answer[i - 1] *= -1\n",
    "                \n",
    "\n",
    "    return sum(answer)"
   ]
  },
  {
   "cell_type": "code",
   "execution_count": 9,
   "metadata": {},
   "outputs": [
    {
     "data": {
      "text/plain": [
       "37"
      ]
     },
     "execution_count": 9,
     "metadata": {},
     "output_type": "execute_result"
    }
   ],
   "source": [
    "solution('1S2D*3T')"
   ]
  },
  {
   "cell_type": "code",
   "execution_count": 10,
   "metadata": {},
   "outputs": [
    {
     "data": {
      "text/plain": [
       "9"
      ]
     },
     "execution_count": 10,
     "metadata": {},
     "output_type": "execute_result"
    }
   ],
   "source": [
    "solution('1D2S#10S')"
   ]
  },
  {
   "cell_type": "code",
   "execution_count": 11,
   "metadata": {},
   "outputs": [
    {
     "data": {
      "text/plain": [
       "3"
      ]
     },
     "execution_count": 11,
     "metadata": {},
     "output_type": "execute_result"
    }
   ],
   "source": [
    "solution('1D2S0T')"
   ]
  },
  {
   "cell_type": "code",
   "execution_count": 12,
   "metadata": {},
   "outputs": [
    {
     "data": {
      "text/plain": [
       "23"
      ]
     },
     "execution_count": 12,
     "metadata": {},
     "output_type": "execute_result"
    }
   ],
   "source": [
    "solution('1S*2T*3S')"
   ]
  },
  {
   "cell_type": "code",
   "execution_count": 13,
   "metadata": {},
   "outputs": [
    {
     "data": {
      "text/plain": [
       "5"
      ]
     },
     "execution_count": 13,
     "metadata": {},
     "output_type": "execute_result"
    }
   ],
   "source": [
    "solution('1D#2S*3S')"
   ]
  },
  {
   "cell_type": "code",
   "execution_count": 14,
   "metadata": {},
   "outputs": [
    {
     "data": {
      "text/plain": [
       "-4"
      ]
     },
     "execution_count": 14,
     "metadata": {},
     "output_type": "execute_result"
    }
   ],
   "source": [
    "solution('1T2D3D#')"
   ]
  },
  {
   "cell_type": "code",
   "execution_count": 15,
   "metadata": {},
   "outputs": [
    {
     "data": {
      "text/plain": [
       "59"
      ]
     },
     "execution_count": 15,
     "metadata": {},
     "output_type": "execute_result"
    }
   ],
   "source": [
    "solution('1D2S3T*')"
   ]
  },
  {
   "cell_type": "markdown",
   "metadata": {},
   "source": [
    "# 간단한 방법"
   ]
  },
  {
   "cell_type": "code",
   "execution_count": 18,
   "metadata": {},
   "outputs": [],
   "source": [
    "import re\n",
    "\n",
    "def solution(dartResult):\n",
    "    bonus = {'S': 1, 'D': 2, 'T': 3}\n",
    "    option = {'': 1, '*': 2, '#': -1}\n",
    "    p = re.compile('(\\d+)([SDT])([*#]?)')     # 정규표현식\n",
    "    dart = p.findall(dartResult)\n",
    "    for i in range(len(dart)):\n",
    "        if dart[i][2] == '*' and i > 0:\n",
    "            dart[i - 1] *= 2\n",
    "        dart[i] = int(dart[i][0]) ** bonus[dart[i][1]] * option[dart[i][2]]\n",
    "        \n",
    "    answer = sum(dart)\n",
    "    return answer"
   ]
  },
  {
   "cell_type": "code",
   "execution_count": 17,
   "metadata": {},
   "outputs": [
    {
     "data": {
      "text/plain": [
       "[('1', 'S', ''), ('2', 'D', '*'), ('3', 'T', '')]"
      ]
     },
     "execution_count": 17,
     "metadata": {},
     "output_type": "execute_result"
    }
   ],
   "source": [
    "# 예\n",
    "\n",
    "import re\n",
    "dartResult = '1S2D*3T'\n",
    "p = re.compile('(\\d+)([SDT])([*#]?)')     # 정규표현식\n",
    "dart = p.findall(dartResult)\n",
    "dart"
   ]
  },
  {
   "cell_type": "code",
   "execution_count": 19,
   "metadata": {},
   "outputs": [
    {
     "data": {
      "text/plain": [
       "37"
      ]
     },
     "execution_count": 19,
     "metadata": {},
     "output_type": "execute_result"
    }
   ],
   "source": [
    "solution('1S2D*3T')"
   ]
  },
  {
   "cell_type": "code",
   "execution_count": 20,
   "metadata": {},
   "outputs": [
    {
     "data": {
      "text/plain": [
       "9"
      ]
     },
     "execution_count": 20,
     "metadata": {},
     "output_type": "execute_result"
    }
   ],
   "source": [
    "solution('1D2S#10S')"
   ]
  },
  {
   "cell_type": "code",
   "execution_count": 21,
   "metadata": {},
   "outputs": [
    {
     "data": {
      "text/plain": [
       "3"
      ]
     },
     "execution_count": 21,
     "metadata": {},
     "output_type": "execute_result"
    }
   ],
   "source": [
    "solution('1D2S0T')"
   ]
  },
  {
   "cell_type": "code",
   "execution_count": 22,
   "metadata": {},
   "outputs": [
    {
     "data": {
      "text/plain": [
       "23"
      ]
     },
     "execution_count": 22,
     "metadata": {},
     "output_type": "execute_result"
    }
   ],
   "source": [
    "solution('1S*2T*3S')"
   ]
  },
  {
   "cell_type": "code",
   "execution_count": 23,
   "metadata": {},
   "outputs": [
    {
     "data": {
      "text/plain": [
       "5"
      ]
     },
     "execution_count": 23,
     "metadata": {},
     "output_type": "execute_result"
    }
   ],
   "source": [
    "solution('1D#2S*3S')"
   ]
  },
  {
   "cell_type": "code",
   "execution_count": 24,
   "metadata": {},
   "outputs": [
    {
     "data": {
      "text/plain": [
       "-4"
      ]
     },
     "execution_count": 24,
     "metadata": {},
     "output_type": "execute_result"
    }
   ],
   "source": [
    "solution('1T2D3D#')"
   ]
  },
  {
   "cell_type": "code",
   "execution_count": 25,
   "metadata": {},
   "outputs": [
    {
     "data": {
      "text/plain": [
       "59"
      ]
     },
     "execution_count": 25,
     "metadata": {},
     "output_type": "execute_result"
    }
   ],
   "source": [
    "solution('1D2S3T*')"
   ]
  }
 ],
 "metadata": {
  "kernelspec": {
   "display_name": "Python 3",
   "language": "python",
   "name": "python3"
  },
  "language_info": {
   "codemirror_mode": {
    "name": "ipython",
    "version": 3
   },
   "file_extension": ".py",
   "mimetype": "text/x-python",
   "name": "python",
   "nbconvert_exporter": "python",
   "pygments_lexer": "ipython3",
   "version": "3.7.6"
  }
 },
 "nbformat": 4,
 "nbformat_minor": 4
}
