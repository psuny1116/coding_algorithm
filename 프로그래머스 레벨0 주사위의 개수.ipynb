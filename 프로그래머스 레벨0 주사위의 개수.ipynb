{
 "cells": [
  {
   "cell_type": "markdown",
   "metadata": {},
   "source": [
    "# 주사위의 개수_레벨0\n",
    "\n",
    "## 문제 설명\n",
    "\n",
    "- 머쓱이는 직육면체 모양의 상자를 하나 가지고 있는데 이 상자에 정육면체 모양의 주사위를 최대한 많이 채우고 싶습니다. \n",
    "- 상자의 가로, 세로, 높이가 저장되어있는 배열 box와 주사위 모서리의 길이 정수 n이 매개변수로 주어졌을 때, 상자에 들어갈 수 있는 주사위의 최대 개수를 return 하도록 solution 함수를 완성해주세요.\n",
    "\n",
    "## 제한사항\n",
    "\n",
    "- box의 길이는 3입니다.\n",
    "- box[0] = 상자의 가로 길이\n",
    "- box[1] = 상자의 세로 길이\n",
    "- box[2] = 상자의 높이 길이\n",
    "- 1 ≤ box의 원소 ≤ 100\n",
    "- 1 ≤ n ≤ 50\n",
    "- n ≤ box의 원소\n",
    "- 주사위는 상자와 평행하게 넣습니다.\n",
    "\n",
    "## 입출력 예\n",
    "\n",
    "box|\tn|\tresult\n",
    "-|-|-\n",
    "[1, 1, 1]|\t1|\t1\n",
    "[10, 8, 6]|\t3|\t12\n",
    "\n",
    "## 입출력 예 설명\n",
    "\n",
    "### 입출력 예 #1\n",
    "\n",
    "- 상자의 크기가 가로 1, 세로 1, 높이 1이므로 모서리의 길이가 1인 주사위는 1개 들어갈 수 있습니다.\n",
    "\n",
    "### 입출력 예 #2\n",
    "\n",
    "- 상자의 크기가 가로 10, 세로 8, 높이 6이므로 모서리의 길이가 3인 주사위는 12개 들어갈 수 있습니다."
   ]
  },
  {
   "cell_type": "markdown",
   "metadata": {},
   "source": [
    "# 풀이"
   ]
  },
  {
   "cell_type": "code",
   "execution_count": 122,
   "metadata": {},
   "outputs": [],
   "source": [
    "def solution(box, n):\n",
    "    return (box[0] // n) * (box[1] // n) * (box[2] // n)"
   ]
  },
  {
   "cell_type": "code",
   "execution_count": 123,
   "metadata": {},
   "outputs": [
    {
     "data": {
      "text/plain": [
       "1"
      ]
     },
     "execution_count": 123,
     "metadata": {},
     "output_type": "execute_result"
    }
   ],
   "source": [
    "solution([1, 1, 1], 1)     # 1"
   ]
  },
  {
   "cell_type": "code",
   "execution_count": 124,
   "metadata": {},
   "outputs": [
    {
     "data": {
      "text/plain": [
       "12"
      ]
     },
     "execution_count": 124,
     "metadata": {},
     "output_type": "execute_result"
    }
   ],
   "source": [
    "solution([10, 8, 6], 3)     # 12"
   ]
  }
 ],
 "metadata": {
  "kernelspec": {
   "display_name": "Python 3",
   "language": "python",
   "name": "python3"
  },
  "language_info": {
   "codemirror_mode": {
    "name": "ipython",
    "version": 3
   },
   "file_extension": ".py",
   "mimetype": "text/x-python",
   "name": "python",
   "nbconvert_exporter": "python",
   "pygments_lexer": "ipython3",
   "version": "3.7.6"
  }
 },
 "nbformat": 4,
 "nbformat_minor": 4
}
