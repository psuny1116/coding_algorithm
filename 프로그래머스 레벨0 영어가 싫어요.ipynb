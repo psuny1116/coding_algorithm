{
 "cells": [
  {
   "cell_type": "markdown",
   "metadata": {},
   "source": [
    "# 영어가 싫어요_레벨0\n",
    "\n",
    "## 문제 설명\n",
    "\n",
    "- 영어가 싫은 머쓱이는 영어로 표기되어있는 숫자를 수로 바꾸려고 합니다. \n",
    "- 문자열 numbers가 매개변수로 주어질 때, numbers를 정수로 바꿔 return 하도록 solution 함수를 완성해 주세요.\n",
    "\n",
    "## 제한사항\n",
    "\n",
    "- numbers는 소문자로만 구성되어 있습니다.\n",
    "- numbers는 \"zero\", \"one\", \"two\", \"three\", \"four\", \"five\", \"six\", \"seven\", \"eight\", \"nine\" 들이 공백 없이 조합되어 있습니다.\n",
    "- 1 ≤ numbers의 길이 ≤ 50\n",
    "- \"zero\"는 numbers의 맨 앞에 올 수 없습니다.\n",
    "\n",
    "## 입출력 예\n",
    "\n",
    "numbers|\tresult\n",
    "-|-\n",
    "\"onetwothreefourfivesixseveneightnine\"|\t123456789\n",
    "\"onefourzerosixseven\"|\t14067\n",
    "\n",
    "## 입출력 예 설명\n",
    "\n",
    "### 입출력 예 #1\n",
    "\n",
    "- \"onetwothreefourfivesixseveneightnine\"를 숫자로 바꾼 123456789를 return합니다.\n",
    "\n",
    "### 입출력 예 #2\n",
    "\n",
    "- \"onefourzerosixseven\"를 숫자로 바꾼 14067를 return합니다."
   ]
  },
  {
   "cell_type": "markdown",
   "metadata": {},
   "source": [
    "# 풀이"
   ]
  },
  {
   "cell_type": "code",
   "execution_count": 31,
   "metadata": {},
   "outputs": [],
   "source": [
    "def solution(numbers):\n",
    "    numbers = numbers.replace('zero', '0')\n",
    "    numbers = numbers.replace('one', '1')\n",
    "    numbers = numbers.replace('two', '2')\n",
    "    numbers = numbers.replace('three', '3')\n",
    "    numbers = numbers.replace('four', '4')\n",
    "    numbers = numbers.replace('five', '5')\n",
    "    numbers = numbers.replace('six', '6')\n",
    "    numbers = numbers.replace('seven', '7')\n",
    "    numbers = numbers.replace('eight', '8')\n",
    "    numbers = numbers.replace('nine', '9')\n",
    "    return int(numbers)"
   ]
  },
  {
   "cell_type": "code",
   "execution_count": 32,
   "metadata": {},
   "outputs": [
    {
     "data": {
      "text/plain": [
       "123456789"
      ]
     },
     "execution_count": 32,
     "metadata": {},
     "output_type": "execute_result"
    }
   ],
   "source": [
    "solution('onetwothreefourfivesixseveneightnine')     # 123456789"
   ]
  },
  {
   "cell_type": "code",
   "execution_count": 33,
   "metadata": {},
   "outputs": [
    {
     "data": {
      "text/plain": [
       "14067"
      ]
     },
     "execution_count": 33,
     "metadata": {},
     "output_type": "execute_result"
    }
   ],
   "source": [
    "solution('onefourzerosixseven')     # 14067"
   ]
  },
  {
   "cell_type": "markdown",
   "metadata": {},
   "source": [
    "# 풀이2"
   ]
  },
  {
   "cell_type": "code",
   "execution_count": 1,
   "metadata": {},
   "outputs": [],
   "source": [
    "def solution(numbers):\n",
    "    for num, eng in enumerate(['zero', 'one', 'two', 'three', 'four', 'five', 'six', 'seven', 'eight', 'nine']):\n",
    "        numbers = numbers.replace(eng, str(num))\n",
    "    return int(numbers)"
   ]
  },
  {
   "cell_type": "code",
   "execution_count": 2,
   "metadata": {},
   "outputs": [
    {
     "data": {
      "text/plain": [
       "123456789"
      ]
     },
     "execution_count": 2,
     "metadata": {},
     "output_type": "execute_result"
    }
   ],
   "source": [
    "solution('onetwothreefourfivesixseveneightnine')"
   ]
  },
  {
   "cell_type": "code",
   "execution_count": 3,
   "metadata": {},
   "outputs": [
    {
     "data": {
      "text/plain": [
       "14067"
      ]
     },
     "execution_count": 3,
     "metadata": {},
     "output_type": "execute_result"
    }
   ],
   "source": [
    "solution('onefourzerosixseven')"
   ]
  }
 ],
 "metadata": {
  "kernelspec": {
   "display_name": "Python 3",
   "language": "python",
   "name": "python3"
  },
  "language_info": {
   "codemirror_mode": {
    "name": "ipython",
    "version": 3
   },
   "file_extension": ".py",
   "mimetype": "text/x-python",
   "name": "python",
   "nbconvert_exporter": "python",
   "pygments_lexer": "ipython3",
   "version": "3.7.6"
  }
 },
 "nbformat": 4,
 "nbformat_minor": 4
}
