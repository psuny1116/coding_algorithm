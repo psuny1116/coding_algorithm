{
 "cells": [
  {
   "cell_type": "markdown",
   "metadata": {},
   "source": [
    "# 약수의 개수와 덧셈\n",
    "\n",
    "## 문제 설명\n",
    "두 정수 left와 right가 매개변수로 주어집니다.<br>\n",
    "left부터 right까지의 모든 수들 중에서, 약수의 개수가 짝수인 수는 더하고, 약수의 개수가 홀수인 수는 뺀 수를 return 하도록 solution 함수를 완성해주세요.\n",
    "\n",
    "## 제한사항\n",
    "1 ≤ left ≤ right ≤ 1,000"
   ]
  },
  {
   "cell_type": "markdown",
   "metadata": {},
   "source": [
    "# 내가 푼 방법"
   ]
  },
  {
   "cell_type": "code",
   "execution_count": 8,
   "metadata": {},
   "outputs": [],
   "source": [
    "def solution(left, right):\n",
    "    left_right = []\n",
    "    num = []\n",
    "    c = []\n",
    "    answer = 0\n",
    "    \n",
    "    for j in range(left, right + 1):\n",
    "        left_right.append(j)\n",
    "        for i in range(1, 1001):\n",
    "            if j >= i and j % i == 0:\n",
    "                num.append(j)\n",
    "        if j in num:\n",
    "            c.append(num.count(j))\n",
    "\n",
    "    for a in range(len(c)):\n",
    "        if c[a] % 2 == 0:\n",
    "            answer += left_right[a]\n",
    "        else:\n",
    "            answer -= left_right[a]\n",
    "    \n",
    "    return answer"
   ]
  },
  {
   "cell_type": "code",
   "execution_count": 9,
   "metadata": {},
   "outputs": [
    {
     "data": {
      "text/plain": [
       "43"
      ]
     },
     "execution_count": 9,
     "metadata": {},
     "output_type": "execute_result"
    }
   ],
   "source": [
    "solution(13, 17)"
   ]
  },
  {
   "cell_type": "code",
   "execution_count": 10,
   "metadata": {},
   "outputs": [
    {
     "data": {
      "text/plain": [
       "52"
      ]
     },
     "execution_count": 10,
     "metadata": {},
     "output_type": "execute_result"
    }
   ],
   "source": [
    "solution(24, 27)"
   ]
  },
  {
   "cell_type": "markdown",
   "metadata": {},
   "source": [
    "# 간단한 방법"
   ]
  },
  {
   "cell_type": "markdown",
   "metadata": {},
   "source": [
    "- 약수의 갯수가 홀수인 것은 제곱수 밖에 없음"
   ]
  },
  {
   "cell_type": "code",
   "execution_count": 11,
   "metadata": {},
   "outputs": [],
   "source": [
    "def solution(left, right):\n",
    "    answer = 0\n",
    "    for i in range(left, right + 1):\n",
    "        if int(i ** 0.5) == i ** 0.5:     # 제곱수는 약수의 개수가 홀수\n",
    "            answer -= i\n",
    "        else:\n",
    "            answer += i\n",
    "    return answer"
   ]
  },
  {
   "cell_type": "code",
   "execution_count": 12,
   "metadata": {},
   "outputs": [
    {
     "data": {
      "text/plain": [
       "43"
      ]
     },
     "execution_count": 12,
     "metadata": {},
     "output_type": "execute_result"
    }
   ],
   "source": [
    "solution(13, 17)"
   ]
  },
  {
   "cell_type": "code",
   "execution_count": 13,
   "metadata": {},
   "outputs": [
    {
     "data": {
      "text/plain": [
       "52"
      ]
     },
     "execution_count": 13,
     "metadata": {},
     "output_type": "execute_result"
    }
   ],
   "source": [
    "solution(24, 27)"
   ]
  }
 ],
 "metadata": {
  "kernelspec": {
   "display_name": "Python 3",
   "language": "python",
   "name": "python3"
  },
  "language_info": {
   "codemirror_mode": {
    "name": "ipython",
    "version": 3
   },
   "file_extension": ".py",
   "mimetype": "text/x-python",
   "name": "python",
   "nbconvert_exporter": "python",
   "pygments_lexer": "ipython3",
   "version": "3.7.6"
  }
 },
 "nbformat": 4,
 "nbformat_minor": 4
}
