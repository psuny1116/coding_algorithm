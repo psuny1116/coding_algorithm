{
 "cells": [
  {
   "cell_type": "markdown",
   "metadata": {},
   "source": [
    "# 하노이의 탑\n",
    "\n",
    "## 문제 설명\n",
    "\n",
    "- 하노이 탑(Tower of Hanoi)은 퍼즐의 일종입니다. \n",
    "- 세 개의 기둥과 이 기동에 꽂을 수 있는 크기가 다양한 원판들이 있고, 퍼즐을 시작하기 전에는 한 기둥에 원판들이 작은 것이 위에 있도록 순서대로 쌓여 있습니다. \n",
    "- 게임의 목적은 다음 두 가지 조건을 만족시키면서, 한 기둥에 꽂힌 원판들을 그 순서 그대로 다른 기둥으로 옮겨서 다시 쌓는 것입니다.\n",
    "\n",
    "- 한 번에 하나의 원판만 옮길 수 있습니다.\n",
    "- 큰 원판이 작은 원판 위에 있어서는 안됩니다.\n",
    "- 하노이 탑의 세 개의 기둥을 왼쪽 부터 1번, 2번, 3번이라고 하겠습니다. 1번에는 n개의 원판이 있고 이 n개의 원판을 3번 원판으로 최소 횟수로 옮기려고 합니다.\n",
    "\n",
    "- 1번 기둥에 있는 원판의 개수 n이 매개변수로 주어질 때, n개의 원판을 3번 원판으로 최소로 옮기는 방법을 return하는 solution를 완성해주세요.\n",
    "\n",
    "## 제한사항\n",
    "\n",
    "- n은 15이하의 자연수 입니다.\n",
    "\n",
    "## 입출력 예\n",
    "\n",
    "n|\tresult\n",
    "-|-\n",
    "2|\t[ [1,2], [1,3], [2,3] ]"
   ]
  },
  {
   "cell_type": "code",
   "execution_count": 1,
   "metadata": {},
   "outputs": [],
   "source": [
    "def solution(n):\n",
    "    answer = hanoi(n,1,3,2)  \n",
    "    return answer\n",
    "\n",
    "def hanoi(n, start, end, bypass):\n",
    "    if n == 1:\n",
    "        return [[start, end]]\n",
    "    else:\n",
    "        path = []\n",
    "        path += hanoi(n-1, start, bypass, end)     # 재귀함수 사용 # n-1개를 start 막대에서 bypass 막대로 옮기기\n",
    "        path += [[start, end]]     # 마지막 n번째 막대를 start막대에서 end 막대로 옮기기\n",
    "        path += hanoi(n-1, bypass, end, start)     # 임시로 옮겨 놓은 n-1개를 bypass 막대에서 end 막대로 옮기기\n",
    "        \n",
    "        return path"
   ]
  },
  {
   "cell_type": "code",
   "execution_count": 2,
   "metadata": {},
   "outputs": [
    {
     "data": {
      "text/plain": [
       "[[1, 2], [1, 3], [2, 3]]"
      ]
     },
     "execution_count": 2,
     "metadata": {},
     "output_type": "execute_result"
    }
   ],
   "source": [
    "solution(2)"
   ]
  }
 ],
 "metadata": {
  "kernelspec": {
   "display_name": "Python 3",
   "language": "python",
   "name": "python3"
  },
  "language_info": {
   "codemirror_mode": {
    "name": "ipython",
    "version": 3
   },
   "file_extension": ".py",
   "mimetype": "text/x-python",
   "name": "python",
   "nbconvert_exporter": "python",
   "pygments_lexer": "ipython3",
   "version": "3.7.6"
  }
 },
 "nbformat": 4,
 "nbformat_minor": 4
}
