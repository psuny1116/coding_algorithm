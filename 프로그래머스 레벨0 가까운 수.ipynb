{
 "cells": [
  {
   "cell_type": "markdown",
   "metadata": {},
   "source": [
    "# 가까운 수_레벨0\n",
    "\n",
    "## 문제 설명\n",
    "\n",
    "- 정수 배열 array와 정수 n이 매개변수로 주어질 때, array에 들어있는 정수 중 n과 가장 가까운 수를 return 하도록 solution 함수를 완성해주세요.\n",
    "\n",
    "## 제한사항\n",
    "\n",
    "- 1 ≤ array의 길이 ≤ 100\n",
    "- 1 ≤ array의 원소 ≤ 100\n",
    "- 1 ≤ n ≤ 100\n",
    "- 가장 가까운 수가 여러 개일 경우 더 작은 수를 return 합니다.\n",
    "\n",
    "## 입출력 예\n",
    "\n",
    "array|\tn|\tresult\n",
    "-|-|-\n",
    "[3, 10, 28]|\t20|\t28\n",
    "[10, 11, 12]|\t13|\t12\n",
    "\n",
    "## 입출력 예 설명\n",
    "\n",
    "### 입출력 예 #1\n",
    "\n",
    "- 3, 10, 28 중 20과 가장 가까운 수는 28입니다.\n",
    "\n",
    "### 입출력 예 #2\n",
    "\n",
    "- 10, 11, 12 중 13과 가장 가까운 수는 12입니다."
   ]
  },
  {
   "cell_type": "markdown",
   "metadata": {},
   "source": [
    "# 풀이"
   ]
  },
  {
   "cell_type": "code",
   "execution_count": 4,
   "metadata": {},
   "outputs": [],
   "source": [
    "def solution(array, n):\n",
    "    answer = []\n",
    "    for i in sorted(array):\n",
    "        answer.append(abs(n - i))\n",
    "    return sorted(array)[answer.index(min(answer))]"
   ]
  },
  {
   "cell_type": "code",
   "execution_count": 6,
   "metadata": {},
   "outputs": [
    {
     "data": {
      "text/plain": [
       "28"
      ]
     },
     "execution_count": 6,
     "metadata": {},
     "output_type": "execute_result"
    }
   ],
   "source": [
    "solution([3, 10, 28], 20)     # 28"
   ]
  },
  {
   "cell_type": "code",
   "execution_count": 7,
   "metadata": {},
   "outputs": [
    {
     "data": {
      "text/plain": [
       "12"
      ]
     },
     "execution_count": 7,
     "metadata": {},
     "output_type": "execute_result"
    }
   ],
   "source": [
    "solution([10, 11, 12], 13)     # 12"
   ]
  }
 ],
 "metadata": {
  "kernelspec": {
   "display_name": "Python 3",
   "language": "python",
   "name": "python3"
  },
  "language_info": {
   "codemirror_mode": {
    "name": "ipython",
    "version": 3
   },
   "file_extension": ".py",
   "mimetype": "text/x-python",
   "name": "python",
   "nbconvert_exporter": "python",
   "pygments_lexer": "ipython3",
   "version": "3.7.6"
  }
 },
 "nbformat": 4,
 "nbformat_minor": 4
}
