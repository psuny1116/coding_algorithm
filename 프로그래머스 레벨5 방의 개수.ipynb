{
 "cells": [
  {
   "cell_type": "markdown",
   "metadata": {},
   "source": [
    "# 방의 개수_레벨5 그래프\n",
    "\n",
    "## 문제 설명\n",
    "\n",
    "- 원점(0,0)에서 시작해서 아래처럼 숫자가 적힌 방향으로 이동하며 선을 긋습니다.\n",
    "- .\n",
    "- .\n",
    "- .\n",
    "- .\n",
    "- .\n",
    "- .\n",
    "- .\n",
    "\n",
    "- ex) 1일때는 오른쪽 위로 이동\n",
    "- 그림을 그릴 때, 사방이 막히면 방하나로 샙니다.\n",
    "- 이동하는 방향이 담긴 배열 arrows가 매개변수로 주어질 때, 방의 갯수를 return 하도록 solution 함수를 작성하세요.\n",
    "\n",
    "## 제한사항\n",
    "\n",
    "- 배열 arrows의 크기는 1 이상 100,000 이하 입니다.\n",
    "- arrows의 원소는 0 이상 7 이하 입니다.\n",
    "- 방은 다른 방으로 둘러 싸여질 수 있습니다.\n",
    "\n",
    "### 입출력 예\n",
    "\n",
    "arrows|\treturn\n",
    "-|-\n",
    "[6, 6, 6, 4, 4, 4, 2, 2, 2, 0, 0, 0, 1, 6, 5, 5, 3, 6, 0]|\t3\n",
    "\n",
    "### 입출력 예 설명\n",
    "\n",
    "- .\n",
    "- .\n",
    "- .\n",
    "- .\n",
    "- .\n",
    "- .\n",
    "- .\n",
    "\n",
    "- (0,0) 부터 시작해서 6(왼쪽) 으로 3번 이동합니다. \n",
    "- 그 이후 주어진 arrows 를 따라 그립니다.\n",
    "- 삼각형 (1), 큰 사각형(1), 평행사변형(1) = 3"
   ]
  },
  {
   "cell_type": "markdown",
   "metadata": {},
   "source": [
    "# 풀이1"
   ]
  },
  {
   "cell_type": "code",
   "execution_count": 1,
   "metadata": {},
   "outputs": [],
   "source": [
    "def solution(arrows):\n",
    "    point=set([(0,0)])\n",
    "    line=set()\n",
    "    move=[[0,2],[2,2],[2,0],[2,-2],[0,-2],[-2,-2],[-2,0],[-2,2]]\n",
    "    pre_point=(0,0)\n",
    "    for A in arrows:\n",
    "        next_point=(pre_point[0]+move[A][0],  pre_point[1]+move[A][1] )\n",
    "        mid_point=(pre_point[0]+move[A][0]//2,  pre_point[1]+move[A][1]//2 )\n",
    "        point.add(next_point)\n",
    "        point.add(mid_point)\n",
    "        line.add((pre_point,mid_point))\n",
    "        line.add((mid_point,pre_point))\n",
    "        line.add((mid_point,next_point))\n",
    "        line.add((next_point,mid_point))\n",
    "        pre_point=next_point\n",
    "    answer = len(line)//2-len(point)+1\n",
    "    return answer if answer>=0 else 0"
   ]
  },
  {
   "cell_type": "code",
   "execution_count": 2,
   "metadata": {},
   "outputs": [
    {
     "data": {
      "text/plain": [
       "3"
      ]
     },
     "execution_count": 2,
     "metadata": {},
     "output_type": "execute_result"
    }
   ],
   "source": [
    "solution([6, 6, 6, 4, 4, 4, 2, 2, 2, 0, 0, 0, 1, 6, 5, 5, 3, 6, 0])"
   ]
  },
  {
   "cell_type": "markdown",
   "metadata": {},
   "source": [
    "# 풀이2"
   ]
  },
  {
   "cell_type": "code",
   "execution_count": 3,
   "metadata": {},
   "outputs": [],
   "source": [
    "def solution(arrows):   \n",
    "    def get_to(curr, move):\n",
    "        x, y = curr\n",
    "        x = curr[0] + (move in [1,2,3]) + -1*(move in [5,6,7])\n",
    "        y = curr[1] + (move in [0,1,7]) + -1*(move in [3,4,5])\n",
    "        return (x, y)\n",
    "    def get_crossed(line):\n",
    "        x1,y1 = line[0]\n",
    "        x2,y2 = line[1]       \n",
    "        return tuple(sorted([(x1+1,y1), (x2-1,y2)]))\n",
    "\n",
    "    rooms = 0\n",
    "    curr = (0,0)\n",
    "    lines = set()\n",
    "    passed = set()\n",
    "    passed.add(curr)\n",
    "    for move in arrows:\n",
    "        to = get_to(curr, move)\n",
    "        line = tuple(sorted([curr, to]))\n",
    "        # we've been there last time, so...\n",
    "        if line in lines:\n",
    "            curr = to\n",
    "            continue\n",
    "        # when \"to\" has reached the already passed point \n",
    "        elif to in passed:\n",
    "            lines.add(line)\n",
    "            rooms += 1\n",
    "        else:\n",
    "            lines.add(line)\n",
    "            passed.add(to)\n",
    "        # any line crossed?\n",
    "        if line[0][0] != line[1][0] and line[0][1] != line[1][1]:\n",
    "            if get_crossed(line) in lines:\n",
    "                rooms += 1\n",
    "        curr = to\n",
    "    return rooms"
   ]
  },
  {
   "cell_type": "code",
   "execution_count": 4,
   "metadata": {},
   "outputs": [
    {
     "data": {
      "text/plain": [
       "3"
      ]
     },
     "execution_count": 4,
     "metadata": {},
     "output_type": "execute_result"
    }
   ],
   "source": [
    "solution([6, 6, 6, 4, 4, 4, 2, 2, 2, 0, 0, 0, 1, 6, 5, 5, 3, 6, 0])"
   ]
  }
 ],
 "metadata": {
  "kernelspec": {
   "display_name": "Python 3",
   "language": "python",
   "name": "python3"
  },
  "language_info": {
   "codemirror_mode": {
    "name": "ipython",
    "version": 3
   },
   "file_extension": ".py",
   "mimetype": "text/x-python",
   "name": "python",
   "nbconvert_exporter": "python",
   "pygments_lexer": "ipython3",
   "version": "3.7.6"
  }
 },
 "nbformat": 4,
 "nbformat_minor": 4
}
