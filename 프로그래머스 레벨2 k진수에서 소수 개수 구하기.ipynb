{
 "cells": [
  {
   "cell_type": "markdown",
   "metadata": {},
   "source": [
    "# k진수에서 소수 개수 구하기\n",
    "\n",
    "## 문제 설명\n",
    "\n",
    "- 양의 정수 n이 주어집니다. 이 숫자를 k진수로 바꿨을 때, 변환된 수 안에 아래 조건에 맞는 소수(Prime number)가 몇 개인지 알아보려 합니다.\n",
    "    - 0P0처럼 소수 양쪽에 0이 있는 경우\n",
    "    - P0처럼 소수 오른쪽에만 0이 있고 왼쪽에는 아무것도 없는 경우\n",
    "    - 0P처럼 소수 왼쪽에만 0이 있고 오른쪽에는 아무것도 없는 경우\n",
    "    - P처럼 소수 양쪽에 아무것도 없는 경우\n",
    "    - 단, P는 각 자릿수에 0을 포함하지 않는 소수입니다.\n",
    "    - 예를 들어, 101은 P가 될 수 없습니다.\n",
    "- 예를 들어, 437674을 3진수로 바꾸면 211020101011입니다. 여기서 찾을 수 있는 조건에 맞는 소수는 왼쪽부터 순서대로 211, 2, 11이 있으며, 총 3개입니다. (211, 2, 11을 k진법으로 보았을 때가 아닌, 10진법으로 보았을 때 소수여야 한다는 점에 주의합니다.) 211은 P0 형태에서 찾을 수 있으며, 2는 0P0에서, 11은 0P에서 찾을 수 있습니다.\n",
    "\n",
    "- 정수 n과 k가 매개변수로 주어집니다. n을 k진수로 바꿨을 때, 변환된 수 안에서 찾을 수 있는 위 조건에 맞는 소수의 개수를 return 하도록 solution 함수를 완성해 주세요.\n",
    "\n",
    "## 제한사항\n",
    "\n",
    "- 1 ≤ n ≤ 1,000,000\n",
    "- 3 ≤ k ≤ 10\n",
    "\n",
    "## 입출력 예\n",
    "\n",
    "n|\tk|\tresult\n",
    "-|-|-\n",
    "437674|\t3|\t3\n",
    "110011|\t10|\t2\n",
    "\n",
    "## 입출력 예 설명\n",
    "### 입출력 예 #1\n",
    "- 문제 예시와 같습니다.\n",
    "\n",
    "### 입출력 예 #2\n",
    "- 110011을 10진수로 바꾸면 110011입니다. 여기서 찾을 수 있는 조건에 맞는 소수는 11, 11 2개입니다. 이와 같이, 중복되는 소수를 발견하더라도 모두 따로 세어야 합니다."
   ]
  },
  {
   "cell_type": "markdown",
   "metadata": {},
   "source": [
    "# 풀이"
   ]
  },
  {
   "cell_type": "code",
   "execution_count": 7,
   "metadata": {},
   "outputs": [],
   "source": [
    "def solution(n, k):\n",
    "    word= ''\n",
    "    while n:     # n을 k진법으로 변환\n",
    "        word = str(n % k) + word\n",
    "        n = n // k\n",
    "        \n",
    "    word = word.split('0')     # 변환된 숫자를 0을 기준으로 나눔\n",
    "    \n",
    "    count = 0\n",
    "    \n",
    "    for w in word:\n",
    "        if len(w) == 0:     # 만약 빈공간이면 continue를 통해 건너뜀\n",
    "            continue\n",
    "        if int(w) < 2:     # 만약 0 또는 1이면 continue를 통해 건너뜀\n",
    "            continue\n",
    "        \n",
    "        sosu = True\n",
    "        \n",
    "        for i in range(2, int(int(w)**0.5) + 1):     # 소수 찾기. 2부터 해당숫자의 제곱근보다 작은 숫자까지만 나눗셈\n",
    "            if int(w) % i == 0:                       # 나누어 떨어지는 수가 있다면 소수 아님\n",
    "                sosu = False\n",
    "                break\n",
    "        if sosu:\n",
    "            count += 1\n",
    "            \n",
    "    return count"
   ]
  },
  {
   "cell_type": "code",
   "execution_count": 8,
   "metadata": {},
   "outputs": [
    {
     "data": {
      "text/plain": [
       "3"
      ]
     },
     "execution_count": 8,
     "metadata": {},
     "output_type": "execute_result"
    }
   ],
   "source": [
    "solution(437674, 3)"
   ]
  },
  {
   "cell_type": "code",
   "execution_count": 9,
   "metadata": {},
   "outputs": [
    {
     "data": {
      "text/plain": [
       "2"
      ]
     },
     "execution_count": 9,
     "metadata": {},
     "output_type": "execute_result"
    }
   ],
   "source": [
    "solution(110011, 10)"
   ]
  }
 ],
 "metadata": {
  "kernelspec": {
   "display_name": "Python 3",
   "language": "python",
   "name": "python3"
  },
  "language_info": {
   "codemirror_mode": {
    "name": "ipython",
    "version": 3
   },
   "file_extension": ".py",
   "mimetype": "text/x-python",
   "name": "python",
   "nbconvert_exporter": "python",
   "pygments_lexer": "ipython3",
   "version": "3.7.6"
  }
 },
 "nbformat": 4,
 "nbformat_minor": 4
}
