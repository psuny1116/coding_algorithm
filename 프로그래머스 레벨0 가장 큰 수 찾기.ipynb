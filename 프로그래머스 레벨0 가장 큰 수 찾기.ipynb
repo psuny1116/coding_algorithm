{
 "cells": [
  {
   "cell_type": "markdown",
   "metadata": {},
   "source": [
    "# 가장 큰 수 찾기_레벨0\n",
    "\n",
    "## 문제 설명\n",
    "\n",
    "- 정수 배열 array가 매개변수로 주어질 때, 가장 큰 수와 그 수의 인덱스를 담은 배열을 return 하도록 solution 함수를 완성해보세요.\n",
    "\n",
    "## 제한사항\n",
    "\n",
    "- 1 ≤ array의 길이 ≤ 100\n",
    "- 0 ≤ array 원소 ≤ 1,000\n",
    "- array에 중복된 숫자는 없습니다.\n",
    "\n",
    "## 입출력 예\n",
    "\n",
    "array|\tresult\n",
    "-|-\n",
    "[1, 8, 3]|\t[8, 1]\n",
    "[9, 10, 11, 8]|\t[11, 2]\n",
    "\n",
    "## 입출력 예 설명\n",
    "\n",
    "### 입출력 예 #1\n",
    "\n",
    "- 1, 8, 3 중 가장 큰 수는 8이고 인덱스 1에 있습니다.\n",
    "\n",
    "### 입출력 예 #2\n",
    "\n",
    "- 9, 10, 11, 8 중 가장 큰 수는 11이고 인덱스 2에 있습니다."
   ]
  },
  {
   "cell_type": "markdown",
   "metadata": {},
   "source": [
    "# 풀이"
   ]
  },
  {
   "cell_type": "code",
   "execution_count": 129,
   "metadata": {},
   "outputs": [],
   "source": [
    "def solution(array):\n",
    "    return [max(array), array.index(max(array))]"
   ]
  },
  {
   "cell_type": "code",
   "execution_count": 130,
   "metadata": {},
   "outputs": [
    {
     "data": {
      "text/plain": [
       "[8, 1]"
      ]
     },
     "execution_count": 130,
     "metadata": {},
     "output_type": "execute_result"
    }
   ],
   "source": [
    "solution([1, 8, 3])     # [8, 1]"
   ]
  },
  {
   "cell_type": "code",
   "execution_count": 131,
   "metadata": {},
   "outputs": [
    {
     "data": {
      "text/plain": [
       "[11, 2]"
      ]
     },
     "execution_count": 131,
     "metadata": {},
     "output_type": "execute_result"
    }
   ],
   "source": [
    "solution([9, 10, 11, 8])     # [11, 2]"
   ]
  }
 ],
 "metadata": {
  "kernelspec": {
   "display_name": "Python 3",
   "language": "python",
   "name": "python3"
  },
  "language_info": {
   "codemirror_mode": {
    "name": "ipython",
    "version": 3
   },
   "file_extension": ".py",
   "mimetype": "text/x-python",
   "name": "python",
   "nbconvert_exporter": "python",
   "pygments_lexer": "ipython3",
   "version": "3.7.6"
  }
 },
 "nbformat": 4,
 "nbformat_minor": 4
}
