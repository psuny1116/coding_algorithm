{
 "cells": [
  {
   "cell_type": "markdown",
   "metadata": {},
   "source": [
    "# 빛의 경로 사이클_레벨2 월간코드챌린지시즌3\n",
    "\n",
    "## 문제 설명\n",
    "\n",
    "- 각 칸마다 S, L, 또는 R가 써져 있는 격자가 있습니다. \n",
    "- 당신은 이 격자에서 빛을 쏘고자 합니다. 이 격자의 각 칸에는 다음과 같은 특이한 성질이 있습니다.\n",
    "- 빛이 \"S\"가 써진 칸에 도달한 경우, 직진합니다.\n",
    "- 빛이 \"L\"이 써진 칸에 도달한 경우, 좌회전을 합니다.\n",
    "- 빛이 \"R\"이 써진 칸에 도달한 경우, 우회전을 합니다.\n",
    "- 빛이 격자의 끝을 넘어갈 경우, 반대쪽 끝으로 다시 돌아옵니다. 예를 들어, 빛이 1행에서 행이 줄어드는 방향으로 이동할 경우, 같은 열의 반대쪽 끝 행으로 다시 돌아옵니다.\n",
    "- 당신은 이 격자 내에서 빛이 이동할 수 있는 경로 사이클이 몇 개 있고, 각 사이클의 길이가 얼마인지 알고 싶습니다. \n",
    "- 경로 사이클이란, 빛이 이동하는 순환 경로를 의미합니다.\n",
    "- 예를 들어, 다음 그림은 격자 [\"SL\",\"LR\"]에서 1행 1열에서 2행 1열 방향으로 빛을 쏠 경우, 해당 빛이 이동하는 경로 사이클을 표현한 것입니다.\n",
    "- .\n",
    "- .\n",
    "- .\n",
    "- .\n",
    "- .\n",
    "- .\n",
    "- .\n",
    "- 이 격자에는 길이가 16인 사이클 1개가 있으며, 다른 사이클은 존재하지 않습니다.\n",
    "- 격자의 정보를 나타내는 1차원 문자열 배열 grid가 매개변수로 주어집니다. \n",
    "- 주어진 격자를 통해 만들어지는 빛의 경로 사이클의 모든 길이들을 배열에 담아 오름차순으로 정렬하여 return 하도록 solution 함수를 완성해주세요.\n",
    "\n",
    "## 제한사항\n",
    "\n",
    "- 1 ≤ grid의 길이 ≤ 500\n",
    "- 1 ≤ grid의 각 문자열의 길이 ≤ 500\n",
    "- grid의 모든 문자열의 길이는 서로 같습니다.\n",
    "- grid의 모든 문자열은 'L', 'R', 'S'로 이루어져 있습니다.\n",
    "\n",
    "### 입출력 예\n",
    "\n",
    "grid|\tresult\n",
    "-|-\n",
    "[\"SL\",\"LR\"]|\t[16]\n",
    "[\"S\"]|\t[1,1,1,1]\n",
    "[\"R\",\"R\"]|\t[4,4]\n",
    "\n",
    "### 입출력 예 설명\n",
    "\n",
    "- 입출력 예1\n",
    "    - 문제 예시와 같습니다.\n",
    "    - 길이가 16인 사이클이 하나 존재하므로(다른 사이클은 없습니다.), [16]을 return 해야 합니다.\n",
    "\n",
    "- 입출력 예2\n",
    "    - 주어진 격자를 통해 만들 수 있는 사이클들은 다음 그림과 같습니다.\n",
    "    - .\n",
    "    - .\n",
    "    - .\n",
    "    - .\n",
    "    - .\n",
    "    - .\n",
    "    - .\n",
    "    - 4개의 사이클의 길이가 모두 1이므로, [1,1,1,1]을 return 해야 합니다.\n",
    "\n",
    "- 입출력 예3\n",
    "    - 주어진 격자를 통해 만들 수 있는 사이클들은 다음 그림과 같습니다.\n",
    "    - .\n",
    "    - .\n",
    "    - .\n",
    "    - .\n",
    "    - .\n",
    "    - .\n",
    "    - .\n",
    "    - 2개의 사이클의 길이가 모두 4이므로, [4,4]를 return 해야 합니다."
   ]
  },
  {
   "cell_type": "markdown",
   "metadata": {},
   "source": [
    "# 풀이1"
   ]
  },
  {
   "cell_type": "code",
   "execution_count": 1,
   "metadata": {},
   "outputs": [],
   "source": [
    "from collections import deque\n",
    "\n",
    "visited = []\n",
    "r, c = 0, 0\n",
    "NORTH = 0\n",
    "SOUTH = 1\n",
    "EAST = 2\n",
    "WEST = 3\n",
    "\n",
    "def get_next_step(to, y, x):\n",
    "    if to == NORTH: return y-1, x\n",
    "    elif to == SOUTH: return y+1, x\n",
    "    elif to == WEST: return y, x-1\n",
    "    else: return y, x+1\n",
    "\n",
    "def get_next_to(to, ny, nx, grid):\n",
    "    if to == NORTH:\n",
    "        if grid[ny][nx] == 'L': return WEST\n",
    "        elif grid[ny][nx] == 'S': return NORTH\n",
    "        elif grid[ny][nx] == 'R': return EAST\n",
    "\n",
    "    elif to == SOUTH:\n",
    "        if grid[ny][nx] == 'L': return EAST\n",
    "        elif grid[ny][nx] == 'R': return WEST\n",
    "        else: return SOUTH\n",
    "\n",
    "    elif to == EAST:\n",
    "        if grid[ny][nx] == 'L': return NORTH\n",
    "        elif grid[ny][nx] == 'R': return SOUTH\n",
    "        else: return EAST\n",
    "\n",
    "    else:\n",
    "        if grid[ny][nx] == 'L': return SOUTH\n",
    "        elif grid[ny][nx] == 'R': return NORTH\n",
    "        else: return WEST\n",
    "\n",
    "def bfs(grid, sy, sx, sto):\n",
    "    global r, c, visited\n",
    "    visited[sy][sx][sto] = True\n",
    "    q = deque()\n",
    "    cnt = 1\n",
    "    q.append((sy, sx, sto, cnt))\n",
    "\n",
    "    while q:\n",
    "        y, x, to, cnt = q.popleft()\n",
    "        ny, nx = get_next_step(to, y, x)\n",
    "        if ny <= -1: ny = r-1\n",
    "        elif ny >= r: ny = 0\n",
    "\n",
    "        if nx <= -1: nx = c-1\n",
    "        elif nx >= c: nx = 0\n",
    "        nto = get_next_to(to, ny, nx, grid)\n",
    "\n",
    "        if visited[ny][nx][nto]: return cnt\n",
    "        visited[ny][nx][nto] = True\n",
    "        q.append((ny, nx, nto, cnt+1))\n",
    "\n",
    "def solution(grid):\n",
    "    global visited, r, c\n",
    "    r = len(grid)\n",
    "    c = len(grid[0])\n",
    "    visited = [[[False for _ in range(4)] for _ in range(c)] for _ in range(r)]\n",
    "    answer = []\n",
    "    for i in range(r):\n",
    "        for j in range(c):\n",
    "            for k in (NORTH, SOUTH, EAST, WEST):\n",
    "                if not visited[i][j][k]: answer.append(bfs(grid, i, j, k))\n",
    "\n",
    "    answer.sort()\n",
    "    return answer"
   ]
  },
  {
   "cell_type": "code",
   "execution_count": 2,
   "metadata": {},
   "outputs": [
    {
     "data": {
      "text/plain": [
       "[16]"
      ]
     },
     "execution_count": 2,
     "metadata": {},
     "output_type": "execute_result"
    }
   ],
   "source": [
    "solution([\"SL\",\"LR\"])"
   ]
  },
  {
   "cell_type": "code",
   "execution_count": 3,
   "metadata": {},
   "outputs": [
    {
     "data": {
      "text/plain": [
       "[1, 1, 1, 1]"
      ]
     },
     "execution_count": 3,
     "metadata": {},
     "output_type": "execute_result"
    }
   ],
   "source": [
    "solution([\"S\"])"
   ]
  },
  {
   "cell_type": "code",
   "execution_count": 4,
   "metadata": {},
   "outputs": [
    {
     "data": {
      "text/plain": [
       "[4, 4]"
      ]
     },
     "execution_count": 4,
     "metadata": {},
     "output_type": "execute_result"
    }
   ],
   "source": [
    "solution([\"R\",\"R\"])"
   ]
  },
  {
   "cell_type": "markdown",
   "metadata": {},
   "source": [
    "# 풀이2"
   ]
  },
  {
   "cell_type": "code",
   "execution_count": 5,
   "metadata": {},
   "outputs": [],
   "source": [
    "import sys\n",
    "sys.setrecursionlimit(10 ** 6)\n",
    "\n",
    "def solution(grid):\n",
    "    global cnt\n",
    "    n = len(grid)\n",
    "    m = len(grid[0])\n",
    "    answer = []\n",
    "    visited = [[[False] * 4 for _ in range(m)] for __ in range(n)]\n",
    "    dx = [1,0,-1,0]\n",
    "    dy = [0,1,0,-1]\n",
    "    cnt = 0\n",
    "\n",
    "    def f(x, y, dir):\n",
    "        global cnt\n",
    "        cnt += 1\n",
    "        visited[x][y][dir] = True\n",
    "        nx = x + dx[dir]\n",
    "        ny = y + dy[dir]\n",
    "        if nx < 0: nx = n - 1\n",
    "        if ny < 0: ny = m - 1\n",
    "        if nx >= n: nx = 0\n",
    "        if ny >= m: ny = 0\n",
    "        if grid[nx][ny] == 'S':\n",
    "            next_dir = dir\n",
    "        elif grid[nx][ny] == 'L':\n",
    "            next_dir = (dir+1) % 4\n",
    "        else:\n",
    "            next_dir = (dir-1) % 4\n",
    "        if visited[nx][ny][next_dir]:\n",
    "            answer.append(cnt)\n",
    "            return\n",
    "        f(nx, ny, next_dir)\n",
    "        return\n",
    "\n",
    "    for i in range(n):\n",
    "        for j in range(m):\n",
    "            for k in range(4):\n",
    "                if not visited[i][j][k]:\n",
    "                    cnt = 0\n",
    "                    f(i, j, k)\n",
    "\n",
    "    return sorted(answer)"
   ]
  },
  {
   "cell_type": "code",
   "execution_count": 6,
   "metadata": {},
   "outputs": [
    {
     "data": {
      "text/plain": [
       "[16]"
      ]
     },
     "execution_count": 6,
     "metadata": {},
     "output_type": "execute_result"
    }
   ],
   "source": [
    "solution([\"SL\",\"LR\"])"
   ]
  },
  {
   "cell_type": "code",
   "execution_count": 7,
   "metadata": {},
   "outputs": [
    {
     "data": {
      "text/plain": [
       "[1, 1, 1, 1]"
      ]
     },
     "execution_count": 7,
     "metadata": {},
     "output_type": "execute_result"
    }
   ],
   "source": [
    "solution([\"S\"])"
   ]
  },
  {
   "cell_type": "code",
   "execution_count": 8,
   "metadata": {},
   "outputs": [
    {
     "data": {
      "text/plain": [
       "[4, 4]"
      ]
     },
     "execution_count": 8,
     "metadata": {},
     "output_type": "execute_result"
    }
   ],
   "source": [
    "solution([\"R\",\"R\"])"
   ]
  }
 ],
 "metadata": {
  "kernelspec": {
   "display_name": "Python 3",
   "language": "python",
   "name": "python3"
  },
  "language_info": {
   "codemirror_mode": {
    "name": "ipython",
    "version": 3
   },
   "file_extension": ".py",
   "mimetype": "text/x-python",
   "name": "python",
   "nbconvert_exporter": "python",
   "pygments_lexer": "ipython3",
   "version": "3.7.6"
  }
 },
 "nbformat": 4,
 "nbformat_minor": 4
}
