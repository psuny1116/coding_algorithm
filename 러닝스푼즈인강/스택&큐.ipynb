{
 "cells": [
  {
   "cell_type": "markdown",
   "metadata": {},
   "source": [
    "# 스택\n",
    "\n",
    "* 데이터 구조의 하나로 먼저 들어온 것이 가장 나중에 나가는 후입선출 구조(last in first out)\n",
    "* 데이터의 삽입은 push, 제거는 pop이라고 명령\n",
    "* 파이썬에서는 리스트를 활용하여 스택을 구현할 수 있음"
   ]
  },
  {
   "cell_type": "code",
   "execution_count": 1,
   "metadata": {},
   "outputs": [],
   "source": [
    "# stack\n",
    "\n",
    "def size():     # stack 크기 확인\n",
    "    print(len(stack))\n",
    "    \n",
    "def isEmpty():     # stack 비어 있는지 확인\n",
    "    if len(stack) == 0:\n",
    "        return True\n",
    "    else:\n",
    "        return False\n",
    "    \n",
    "def push(n):     # stack에 값을 넣을 때\n",
    "    stack.append(n)\n",
    "    \n",
    "def pop():     # stack에 값을 제거할 때\n",
    "    n = stack[len(stack) - 1]     # 리스트에 들어 있는 제일 마지막 값을 반환한 후\n",
    "    stack.pop()     # 제거\n",
    "    return n\n",
    "\n",
    "def top():     # stack의 맨 위에 있는 값 확인\n",
    "    return stack[len(stack) - 1]     # 리스트에 들어있는 제일 마지막 값\n",
    "\n",
    "stack = []"
   ]
  },
  {
   "cell_type": "code",
   "execution_count": 2,
   "metadata": {},
   "outputs": [
    {
     "name": "stdout",
     "output_type": "stream",
     "text": [
      "[7]\n"
     ]
    }
   ],
   "source": [
    "push(7)\n",
    "print(stack)"
   ]
  },
  {
   "cell_type": "code",
   "execution_count": 3,
   "metadata": {},
   "outputs": [
    {
     "name": "stdout",
     "output_type": "stream",
     "text": [
      "[7, 5]\n"
     ]
    }
   ],
   "source": [
    "push(5)\n",
    "print(stack)"
   ]
  },
  {
   "cell_type": "code",
   "execution_count": 4,
   "metadata": {},
   "outputs": [
    {
     "name": "stdout",
     "output_type": "stream",
     "text": [
      "[7, 5, 3]\n"
     ]
    }
   ],
   "source": [
    "push(3)\n",
    "print(stack)"
   ]
  },
  {
   "cell_type": "code",
   "execution_count": 5,
   "metadata": {},
   "outputs": [
    {
     "name": "stdout",
     "output_type": "stream",
     "text": [
      "[7, 5, 3, 2]\n"
     ]
    }
   ],
   "source": [
    "push(2)\n",
    "print(stack)"
   ]
  },
  {
   "cell_type": "code",
   "execution_count": 6,
   "metadata": {},
   "outputs": [
    {
     "data": {
      "text/plain": [
       "2"
      ]
     },
     "execution_count": 6,
     "metadata": {},
     "output_type": "execute_result"
    }
   ],
   "source": [
    "pop()"
   ]
  },
  {
   "cell_type": "code",
   "execution_count": 7,
   "metadata": {},
   "outputs": [
    {
     "data": {
      "text/plain": [
       "3"
      ]
     },
     "execution_count": 7,
     "metadata": {},
     "output_type": "execute_result"
    }
   ],
   "source": [
    "pop()"
   ]
  },
  {
   "cell_type": "code",
   "execution_count": 8,
   "metadata": {},
   "outputs": [
    {
     "name": "stdout",
     "output_type": "stream",
     "text": [
      "[7, 5, 4]\n"
     ]
    }
   ],
   "source": [
    "push(4)\n",
    "print(stack)"
   ]
  },
  {
   "cell_type": "markdown",
   "metadata": {},
   "source": [
    "# 큐\n",
    "* 데이터 구조의 하나로 먼저 들어온 것이 먼저 나가는 선입선출 구조(first in first out)\n",
    "* 데이터의 삽입은 enqueue, 제거는 dequeue라고 명령\n",
    "* 파이썬에서는 큐 모듈을 활용하여 큐를 구현할 수 있음"
   ]
  },
  {
   "cell_type": "code",
   "execution_count": 9,
   "metadata": {},
   "outputs": [],
   "source": [
    "# queue\n",
    "\n",
    "import queue\n",
    "\n",
    "def size():     # 크기 확인\n",
    "    print(que.qsize())\n",
    "    \n",
    "def isEmpty():     # 비어있는지 확인\n",
    "    return que.empty()\n",
    "\n",
    "def enqueue(n):     # 값 삽입\n",
    "    que.put(n)\n",
    "    \n",
    "def dequeue():     # 값 삭제\n",
    "    return que.get()\n",
    "\n",
    "def front():     # 가장 앞에 있는 숫자 확인\n",
    "    return que.queue[0]\n",
    "\n",
    "que = queue.Queue()"
   ]
  },
  {
   "cell_type": "code",
   "execution_count": 10,
   "metadata": {},
   "outputs": [
    {
     "name": "stdout",
     "output_type": "stream",
     "text": [
      "deque([7])\n"
     ]
    }
   ],
   "source": [
    "enqueue(7)\n",
    "print(que.queue)"
   ]
  },
  {
   "cell_type": "code",
   "execution_count": 11,
   "metadata": {},
   "outputs": [
    {
     "name": "stdout",
     "output_type": "stream",
     "text": [
      "deque([7, 5])\n"
     ]
    }
   ],
   "source": [
    "enqueue(5)\n",
    "print(que.queue)"
   ]
  },
  {
   "cell_type": "code",
   "execution_count": 12,
   "metadata": {},
   "outputs": [
    {
     "name": "stdout",
     "output_type": "stream",
     "text": [
      "deque([7, 5, 3])\n"
     ]
    }
   ],
   "source": [
    "enqueue(3)\n",
    "print(que.queue)"
   ]
  },
  {
   "cell_type": "code",
   "execution_count": 13,
   "metadata": {},
   "outputs": [
    {
     "name": "stdout",
     "output_type": "stream",
     "text": [
      "deque([7, 5, 3, 2])\n"
     ]
    }
   ],
   "source": [
    "enqueue(2)\n",
    "print(que.queue)"
   ]
  },
  {
   "cell_type": "code",
   "execution_count": 14,
   "metadata": {},
   "outputs": [
    {
     "data": {
      "text/plain": [
       "7"
      ]
     },
     "execution_count": 14,
     "metadata": {},
     "output_type": "execute_result"
    }
   ],
   "source": [
    "dequeue()"
   ]
  },
  {
   "cell_type": "code",
   "execution_count": 15,
   "metadata": {},
   "outputs": [
    {
     "data": {
      "text/plain": [
       "5"
      ]
     },
     "execution_count": 15,
     "metadata": {},
     "output_type": "execute_result"
    }
   ],
   "source": [
    "dequeue()"
   ]
  },
  {
   "cell_type": "code",
   "execution_count": 16,
   "metadata": {},
   "outputs": [
    {
     "name": "stdout",
     "output_type": "stream",
     "text": [
      "deque([3, 2, 4])\n"
     ]
    }
   ],
   "source": [
    "enqueue(4)\n",
    "print(que.queue)"
   ]
  }
 ],
 "metadata": {
  "kernelspec": {
   "display_name": "Python 3",
   "language": "python",
   "name": "python3"
  },
  "language_info": {
   "codemirror_mode": {
    "name": "ipython",
    "version": 3
   },
   "file_extension": ".py",
   "mimetype": "text/x-python",
   "name": "python",
   "nbconvert_exporter": "python",
   "pygments_lexer": "ipython3",
   "version": "3.7.6"
  }
 },
 "nbformat": 4,
 "nbformat_minor": 4
}
