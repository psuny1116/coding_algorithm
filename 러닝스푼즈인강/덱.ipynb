{
 "cells": [
  {
   "cell_type": "markdown",
   "metadata": {},
   "source": [
    "# 덱(deque)\n",
    "\n",
    "* deque은 double ended queue의 약자로 데이터의 양 끝 모두 삽입, 삭제가 가능\n",
    "* 스택, 큐 모두 활용 가능\n",
    "* append(x), appendleft(x), pop(), popleft() 등 메소드 활용이 편리함\n",
    "* 파이썬에서는 덱 모듈을 활용하여 덱을 구현할 수 있음 → 값의 삽입, 삭제 속도가 빠름"
   ]
  },
  {
   "cell_type": "markdown",
   "metadata": {},
   "source": [
    "## 덱 메소드 & 활용 함수\n",
    "\n",
    "- append(x): 덱의 가장 오른쪽에 x 추가\n",
    "- appendleft(x): 덱의 가장 왼쪽에 x 추가\n",
    "- pop(): 덱의 가장 오른쪽 값 삭제\n",
    "- popleft(): 덱의 가장 왼쪽 값 삭제\n",
    "- extend(iterable): 덱의 오른쪽에 배열 추가\n",
    "- extendleft(iterable): 덱의 왼쪽에 배열 추가\n",
    "- insert(i, x): i 위치에 x 추가\n",
    "- remove(x): x 삭제\n",
    "- count(x): x의 개수 반환\n",
    "- index(x): x의 위치 반환\n",
    "- clear(): 전체 삭제\n",
    "- reverse(): 전체 역순\n",
    "- len(iterable): 배열의 개수\n",
    "- sum(iterable): 배열의 합\n",
    "- max(iterable): 전체 요소 중 최대값\n",
    "- min(iterable): 전체 요소 중 최소값"
   ]
  },
  {
   "cell_type": "markdown",
   "metadata": {},
   "source": [
    "## deque"
   ]
  },
  {
   "cell_type": "code",
   "execution_count": 1,
   "metadata": {},
   "outputs": [
    {
     "data": {
      "text/plain": [
       "deque([4, 5, 6])"
      ]
     },
     "execution_count": 1,
     "metadata": {},
     "output_type": "execute_result"
    }
   ],
   "source": [
    "# deque\n",
    "\n",
    "from collections import deque\n",
    "\n",
    "deq = deque([4, 5, 6])\n",
    "print(deq)"
   ]
  },
  {
   "cell_type": "code",
   "execution_count": 2,
   "metadata": {},
   "outputs": [
    {
     "data": {
      "text/plain": [
       "deque([4, 5, 6, 7])"
      ]
     },
     "execution_count": 2,
     "metadata": {},
     "output_type": "execute_result"
    }
   ],
   "source": [
    "deq.append(7)\n",
    "print(deq)"
   ]
  },
  {
   "cell_type": "code",
   "execution_count": 3,
   "metadata": {},
   "outputs": [
    {
     "name": "stdout",
     "output_type": "stream",
     "text": [
      "deque([3, 4, 5, 6, 7])\n"
     ]
    }
   ],
   "source": [
    "deq.appendleft(3)\n",
    "print(deq)"
   ]
  },
  {
   "cell_type": "code",
   "execution_count": 4,
   "metadata": {},
   "outputs": [
    {
     "data": {
      "text/plain": [
       "7"
      ]
     },
     "execution_count": 4,
     "metadata": {},
     "output_type": "execute_result"
    }
   ],
   "source": [
    "deq.pop()"
   ]
  },
  {
   "cell_type": "code",
   "execution_count": 5,
   "metadata": {},
   "outputs": [
    {
     "data": {
      "text/plain": [
       "3"
      ]
     },
     "execution_count": 5,
     "metadata": {},
     "output_type": "execute_result"
    }
   ],
   "source": [
    "deq.popleft()"
   ]
  },
  {
   "cell_type": "code",
   "execution_count": 6,
   "metadata": {},
   "outputs": [
    {
     "name": "stdout",
     "output_type": "stream",
     "text": [
      "deque([4, 5, 6])\n"
     ]
    }
   ],
   "source": [
    "print(deq)"
   ]
  },
  {
   "cell_type": "code",
   "execution_count": 7,
   "metadata": {},
   "outputs": [
    {
     "name": "stdout",
     "output_type": "stream",
     "text": [
      "deque([4, 5, 6, 1, 2, 3])\n"
     ]
    }
   ],
   "source": [
    "li = [1, 2, 3]\n",
    "deq.extend(li)\n",
    "print(deq)"
   ]
  },
  {
   "cell_type": "code",
   "execution_count": 8,
   "metadata": {},
   "outputs": [
    {
     "name": "stdout",
     "output_type": "stream",
     "text": [
      "deque([3, 2, 1, 4, 5, 6, 1, 2, 3])\n"
     ]
    }
   ],
   "source": [
    "deq.extendleft(li)     # 왼쪽에 붙을 땐 값이 역순으로 됨\n",
    "print(deq)"
   ]
  },
  {
   "cell_type": "code",
   "execution_count": 10,
   "metadata": {},
   "outputs": [
    {
     "name": "stdout",
     "output_type": "stream",
     "text": [
      "deque([4, 5, 0, 6])\n"
     ]
    }
   ],
   "source": [
    "deq = deque([4, 5, 6])\n",
    "\n",
    "deq.insert(2, 0)\n",
    "print(deq)"
   ]
  },
  {
   "cell_type": "code",
   "execution_count": 11,
   "metadata": {},
   "outputs": [
    {
     "name": "stdout",
     "output_type": "stream",
     "text": [
      "deque([4, 5, 6])\n"
     ]
    }
   ],
   "source": [
    "deq.remove(0)\n",
    "print(deq)"
   ]
  },
  {
   "cell_type": "code",
   "execution_count": 12,
   "metadata": {},
   "outputs": [
    {
     "name": "stdout",
     "output_type": "stream",
     "text": [
      "2\n"
     ]
    }
   ],
   "source": [
    "deq = deque([4, 5, 6, 4])\n",
    "print(deq.count(4))"
   ]
  },
  {
   "cell_type": "code",
   "execution_count": 13,
   "metadata": {},
   "outputs": [
    {
     "name": "stdout",
     "output_type": "stream",
     "text": [
      "0\n"
     ]
    }
   ],
   "source": [
    "print(deq.index(4))     # 4가 여러 개일 땐, 처음 4가 나오는 위치가 반환됨"
   ]
  },
  {
   "cell_type": "code",
   "execution_count": 15,
   "metadata": {},
   "outputs": [
    {
     "name": "stdout",
     "output_type": "stream",
     "text": [
      "deque([6, 5, 4])\n"
     ]
    }
   ],
   "source": [
    "deq = deque([4, 5, 6])\n",
    "\n",
    "deq.reverse()\n",
    "print(deq)"
   ]
  },
  {
   "cell_type": "code",
   "execution_count": 17,
   "metadata": {},
   "outputs": [
    {
     "name": "stdout",
     "output_type": "stream",
     "text": [
      "길이:  3\n",
      "합:  15\n",
      "최대:  6\n",
      "최소:  4\n"
     ]
    }
   ],
   "source": [
    "deq = deque([4, 5, 6])\n",
    "\n",
    "print('길이: ', len(deq))\n",
    "print('합: ', sum(deq))\n",
    "print('최대: ', max(deq))\n",
    "print('최소: ', min(deq))"
   ]
  },
  {
   "cell_type": "code",
   "execution_count": 18,
   "metadata": {},
   "outputs": [
    {
     "name": "stdout",
     "output_type": "stream",
     "text": [
      "deque([])\n"
     ]
    }
   ],
   "source": [
    "deq.clear()\n",
    "print(deq)"
   ]
  },
  {
   "cell_type": "markdown",
   "metadata": {},
   "source": [
    "## deque으로 stack 만들기"
   ]
  },
  {
   "cell_type": "code",
   "execution_count": 20,
   "metadata": {},
   "outputs": [],
   "source": [
    "from collections import deque\n",
    "\n",
    "def size():\n",
    "    print(len(stack))\n",
    "    \n",
    "def isEmpty():\n",
    "    if len(stack) == 0:\n",
    "        return True\n",
    "    else:\n",
    "        return False\n",
    "    \n",
    "def push(n):\n",
    "    stack.append(n)\n",
    "    \n",
    "def pop():\n",
    "    if isEmpty():\n",
    "        return\n",
    "    n = stack[len(stack) - 1]\n",
    "    stack.pop()\n",
    "    return n\n",
    "\n",
    "def top():\n",
    "    if isEmpty():\n",
    "        return\n",
    "    return stack[len(stack) - 1]\n",
    "\n",
    "stack = deque()"
   ]
  },
  {
   "cell_type": "code",
   "execution_count": 21,
   "metadata": {},
   "outputs": [
    {
     "name": "stdout",
     "output_type": "stream",
     "text": [
      "deque([7])\n"
     ]
    }
   ],
   "source": [
    "push(7)\n",
    "print(stack)"
   ]
  },
  {
   "cell_type": "code",
   "execution_count": 22,
   "metadata": {},
   "outputs": [
    {
     "name": "stdout",
     "output_type": "stream",
     "text": [
      "deque([7, 5])\n"
     ]
    }
   ],
   "source": [
    "push(5)\n",
    "print(stack)"
   ]
  },
  {
   "cell_type": "code",
   "execution_count": 23,
   "metadata": {},
   "outputs": [
    {
     "name": "stdout",
     "output_type": "stream",
     "text": [
      "deque([7, 5, 3])\n"
     ]
    }
   ],
   "source": [
    "push(3)\n",
    "print(stack)"
   ]
  },
  {
   "cell_type": "code",
   "execution_count": 24,
   "metadata": {},
   "outputs": [
    {
     "name": "stdout",
     "output_type": "stream",
     "text": [
      "deque([7, 5, 3, 2])\n"
     ]
    }
   ],
   "source": [
    "push(2)\n",
    "print(stack)"
   ]
  },
  {
   "cell_type": "code",
   "execution_count": 25,
   "metadata": {},
   "outputs": [
    {
     "data": {
      "text/plain": [
       "2"
      ]
     },
     "execution_count": 25,
     "metadata": {},
     "output_type": "execute_result"
    }
   ],
   "source": [
    "pop()"
   ]
  },
  {
   "cell_type": "code",
   "execution_count": 26,
   "metadata": {},
   "outputs": [
    {
     "data": {
      "text/plain": [
       "3"
      ]
     },
     "execution_count": 26,
     "metadata": {},
     "output_type": "execute_result"
    }
   ],
   "source": [
    "pop()"
   ]
  },
  {
   "cell_type": "code",
   "execution_count": 27,
   "metadata": {},
   "outputs": [
    {
     "name": "stdout",
     "output_type": "stream",
     "text": [
      "deque([7, 5, 4])\n"
     ]
    }
   ],
   "source": [
    "push(4)\n",
    "print(stack)"
   ]
  },
  {
   "cell_type": "code",
   "execution_count": 28,
   "metadata": {},
   "outputs": [
    {
     "data": {
      "text/plain": [
       "4"
      ]
     },
     "execution_count": 28,
     "metadata": {},
     "output_type": "execute_result"
    }
   ],
   "source": [
    "pop()"
   ]
  },
  {
   "cell_type": "code",
   "execution_count": 31,
   "metadata": {},
   "outputs": [
    {
     "name": "stdout",
     "output_type": "stream",
     "text": [
      "deque([7, 5])\n"
     ]
    }
   ],
   "source": [
    "print(stack)"
   ]
  },
  {
   "cell_type": "code",
   "execution_count": 32,
   "metadata": {},
   "outputs": [
    {
     "data": {
      "text/plain": [
       "5"
      ]
     },
     "execution_count": 32,
     "metadata": {},
     "output_type": "execute_result"
    }
   ],
   "source": [
    "top()"
   ]
  },
  {
   "cell_type": "code",
   "execution_count": 33,
   "metadata": {},
   "outputs": [
    {
     "name": "stdout",
     "output_type": "stream",
     "text": [
      "deque([7, 5])\n"
     ]
    }
   ],
   "source": [
    "print(stack)"
   ]
  },
  {
   "cell_type": "markdown",
   "metadata": {},
   "source": [
    "## deque로 queue 만들기"
   ]
  },
  {
   "cell_type": "code",
   "execution_count": 47,
   "metadata": {},
   "outputs": [],
   "source": [
    "from collections import deque\n",
    "\n",
    "def size():\n",
    "    print(len(que))\n",
    "    \n",
    "def isEmpty():\n",
    "    if len(que) == 0:\n",
    "        return True\n",
    "    else:\n",
    "        return False\n",
    "    \n",
    "def enqueue(n):\n",
    "    que.append(n)\n",
    "    \n",
    "def dequeue():\n",
    "    if isEmpty():\n",
    "        return\n",
    "    n = que[0]\n",
    "    que.popleft()\n",
    "    return n\n",
    "\n",
    "def front():\n",
    "    if isEmpty():\n",
    "        return\n",
    "    return que[0]\n",
    "\n",
    "que = deque()"
   ]
  },
  {
   "cell_type": "code",
   "execution_count": 48,
   "metadata": {},
   "outputs": [
    {
     "name": "stdout",
     "output_type": "stream",
     "text": [
      "deque([7])\n"
     ]
    }
   ],
   "source": [
    "enqueue(7)\n",
    "print(que)"
   ]
  },
  {
   "cell_type": "code",
   "execution_count": 49,
   "metadata": {},
   "outputs": [
    {
     "name": "stdout",
     "output_type": "stream",
     "text": [
      "deque([7, 5])\n"
     ]
    }
   ],
   "source": [
    "enqueue(5)\n",
    "print(que)"
   ]
  },
  {
   "cell_type": "code",
   "execution_count": 50,
   "metadata": {},
   "outputs": [
    {
     "name": "stdout",
     "output_type": "stream",
     "text": [
      "deque([7, 5, 3])\n"
     ]
    }
   ],
   "source": [
    "enqueue(3)\n",
    "print(que)"
   ]
  },
  {
   "cell_type": "code",
   "execution_count": 51,
   "metadata": {},
   "outputs": [
    {
     "name": "stdout",
     "output_type": "stream",
     "text": [
      "deque([7, 5, 3, 2])\n"
     ]
    }
   ],
   "source": [
    "enqueue(2)\n",
    "print(que)"
   ]
  },
  {
   "cell_type": "code",
   "execution_count": 52,
   "metadata": {},
   "outputs": [
    {
     "data": {
      "text/plain": [
       "7"
      ]
     },
     "execution_count": 52,
     "metadata": {},
     "output_type": "execute_result"
    }
   ],
   "source": [
    "dequeue()"
   ]
  },
  {
   "cell_type": "code",
   "execution_count": 53,
   "metadata": {},
   "outputs": [
    {
     "data": {
      "text/plain": [
       "5"
      ]
     },
     "execution_count": 53,
     "metadata": {},
     "output_type": "execute_result"
    }
   ],
   "source": [
    "dequeue()"
   ]
  },
  {
   "cell_type": "code",
   "execution_count": 54,
   "metadata": {},
   "outputs": [
    {
     "name": "stdout",
     "output_type": "stream",
     "text": [
      "deque([3, 2])\n"
     ]
    }
   ],
   "source": [
    "print(que)"
   ]
  },
  {
   "cell_type": "code",
   "execution_count": 55,
   "metadata": {},
   "outputs": [
    {
     "name": "stdout",
     "output_type": "stream",
     "text": [
      "deque([3, 2, 4])\n"
     ]
    }
   ],
   "source": [
    "enqueue(4)\n",
    "print(que)"
   ]
  }
 ],
 "metadata": {
  "kernelspec": {
   "display_name": "Python 3",
   "language": "python",
   "name": "python3"
  },
  "language_info": {
   "codemirror_mode": {
    "name": "ipython",
    "version": 3
   },
   "file_extension": ".py",
   "mimetype": "text/x-python",
   "name": "python",
   "nbconvert_exporter": "python",
   "pygments_lexer": "ipython3",
   "version": "3.7.6"
  }
 },
 "nbformat": 4,
 "nbformat_minor": 4
}
