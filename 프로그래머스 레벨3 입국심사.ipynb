{
 "cells": [
  {
   "cell_type": "markdown",
   "metadata": {},
   "source": [
    "# 입국심사_레벨3 이분탐색\n",
    "\n",
    "## 문제 설명\n",
    "\n",
    "- n명이 입국심사를 위해 줄을 서서 기다리고 있습니다. \n",
    "- 각 입국심사대에 있는 심사관마다 심사하는데 걸리는 시간은 다릅니다.\n",
    "- 처음에 모든 심사대는 비어있습니다. \n",
    "- 한 심사대에서는 동시에 한 명만 심사를 할 수 있습니다. \n",
    "- 가장 앞에 서 있는 사람은 비어 있는 심사대로 가서 심사를 받을 수 있습니다. \n",
    "- 하지만 더 빨리 끝나는 심사대가 있으면 기다렸다가 그곳으로 가서 심사를 받을 수도 있습니다.\n",
    "- 모든 사람이 심사를 받는데 걸리는 시간을 최소로 하고 싶습니다.\n",
    "- 입국심사를 기다리는 사람 수 n, 각 심사관이 한 명을 심사하는데 걸리는 시간이 담긴 배열 times가 매개변수로 주어질 때, 모든 사람이 심사를 받는데 걸리는 시간의 최솟값을 return 하도록 solution 함수를 작성해주세요.\n",
    "\n",
    "## 제한사항\n",
    "\n",
    "- 입국심사를 기다리는 사람은 1명 이상 1,000,000,000명 이하입니다.\n",
    "- 각 심사관이 한 명을 심사하는데 걸리는 시간은 1분 이상 1,000,000,000분 이하입니다.\n",
    "- 심사관은 1명 이상 100,000명 이하입니다.\n",
    "\n",
    "### 입출력 예\n",
    "\n",
    "n|\ttimes|\treturn\n",
    "-|-|-\n",
    "6|\t[7, 10]|\t28\n",
    "\n",
    "### 입출력 예 설명\n",
    "\n",
    "- 가장 첫 두 사람은 바로 심사를 받으러 갑니다.\n",
    "- 7분이 되었을 때, 첫 번째 심사대가 비고 3번째 사람이 심사를 받습니다.\n",
    "- 10분이 되었을 때, 두 번째 심사대가 비고 4번째 사람이 심사를 받습니다.\n",
    "- 14분이 되었을 때, 첫 번째 심사대가 비고 5번째 사람이 심사를 받습니다.\n",
    "- 20분이 되었을 때, 두 번째 심사대가 비지만 6번째 사람이 그곳에서 심사를 받지 않고 1분을 더 기다린 후에 첫 번째 심사대에서 심사를 받으면 28분에 모든 사람의 심사가 끝납니다."
   ]
  },
  {
   "cell_type": "markdown",
   "metadata": {},
   "source": [
    "# 풀이1"
   ]
  },
  {
   "cell_type": "code",
   "execution_count": 1,
   "metadata": {},
   "outputs": [],
   "source": [
    "def solution(n, times):\n",
    "    answer = 0\n",
    "    start, end, mid = 1, times[-1] * n, 0\n",
    "\n",
    "    while start < end:\n",
    "        mid = (start + end) // 2\n",
    "        total = 0\n",
    "        for time in times:\n",
    "            total += mid // time\n",
    "\n",
    "        if total >= n:\n",
    "            end = mid\n",
    "        else:\n",
    "            start = mid + 1\n",
    "    answer = start\n",
    "    return answer"
   ]
  },
  {
   "cell_type": "code",
   "execution_count": 2,
   "metadata": {},
   "outputs": [
    {
     "data": {
      "text/plain": [
       "28"
      ]
     },
     "execution_count": 2,
     "metadata": {},
     "output_type": "execute_result"
    }
   ],
   "source": [
    "solution(6, [7, 10])"
   ]
  }
 ],
 "metadata": {
  "kernelspec": {
   "display_name": "Python 3",
   "language": "python",
   "name": "python3"
  },
  "language_info": {
   "codemirror_mode": {
    "name": "ipython",
    "version": 3
   },
   "file_extension": ".py",
   "mimetype": "text/x-python",
   "name": "python",
   "nbconvert_exporter": "python",
   "pygments_lexer": "ipython3",
   "version": "3.7.6"
  }
 },
 "nbformat": 4,
 "nbformat_minor": 4
}
