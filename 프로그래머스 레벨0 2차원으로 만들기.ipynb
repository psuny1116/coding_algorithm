{
 "cells": [
  {
   "cell_type": "markdown",
   "metadata": {},
   "source": [
    "# 2차원으로 만들기_레벨0\n",
    "\n",
    "## 문제 설명\n",
    "\n",
    "- 정수 배열 num_list와 정수 n이 매개변수로 주어집니다. \n",
    "- num_list를 다음 설명과 같이 2차원 배열로 바꿔 return하도록 solution 함수를 완성해주세요.\n",
    "\n",
    "- num_list가 [1, 2, 3, 4, 5, 6, 7, 8] 로 길이가 8이고 n이 2이므로 num_list를 2 * 4 배열로 다음과 같이 변경합니다. \n",
    "- 2차원으로 바꿀 때에는 num_list의 원소들을 앞에서부터 n개씩 나눠 2차원 배열로 변경합니다.\n",
    "\n",
    "num_list|\tn|\tresult\n",
    "-|-|-\n",
    "[1, 2, 3, 4, 5, 6, 7, 8]|\t2|\t[[1, 2], [3, 4], [5, 6], [7, 8]]\n",
    "\n",
    "## 제한사항\n",
    "\n",
    "- num_list의 길이는 n의 배 수개입니다.\n",
    "- 0 ≤ num_list의 길이 ≤ 150\n",
    "- 2 ≤ n < num_list의 길이\n",
    "\n",
    "## 입출력 예\n",
    "\n",
    "num_list|\tn|\tresult\n",
    "-|-|-\n",
    "[1, 2, 3, 4, 5, 6, 7, 8]|\t2|\t[[1, 2], [3, 4], [5, 6], [7, 8]]\n",
    "[100, 95, 2, 4, 5, 6, 18, 33, 948]|\t3|\t[[100, 95, 2], [4, 5, 6], [18, 33, 948]]\n",
    "\n",
    "## 입출력 예 설명\n",
    "\n",
    "### 입출력 예 #1\n",
    "\n",
    "- num_list가 [1, 2, 3, 4, 5, 6, 7, 8] 로 길이가 8이고 n이 2이므로 2 * 4 배열로 변경한 [[1, 2], [3, 4], [5, 6], [7, 8]] 을 return합니다.\n",
    "\n",
    "### 입출력 예 #2\n",
    "\n",
    "- num_list가 [100, 95, 2, 4, 5, 6, 18, 33, 948] 로 길이가 9이고 n이 3이므로 3 * 3 배열로 변경한 [[100, 95, 2], [4, 5, 6], [18, 33, 948]] 을 return합니다."
   ]
  },
  {
   "cell_type": "markdown",
   "metadata": {},
   "source": [
    "# 풀이"
   ]
  },
  {
   "cell_type": "code",
   "execution_count": 1,
   "metadata": {},
   "outputs": [],
   "source": [
    "import numpy as np\n",
    "def solution(num_list, n):\n",
    "    return np.reshape(num_list, (len(num_list) // n, n)).tolist()"
   ]
  },
  {
   "cell_type": "code",
   "execution_count": 2,
   "metadata": {},
   "outputs": [
    {
     "data": {
      "text/plain": [
       "[[1, 2], [3, 4], [5, 6], [7, 8]]"
      ]
     },
     "execution_count": 2,
     "metadata": {},
     "output_type": "execute_result"
    }
   ],
   "source": [
    "solution([1, 2, 3, 4, 5, 6, 7, 8], 2)     # [[1, 2], [3, 4], [5, 6], [7, 8]]"
   ]
  },
  {
   "cell_type": "code",
   "execution_count": 4,
   "metadata": {},
   "outputs": [
    {
     "data": {
      "text/plain": [
       "[[100, 95, 2], [4, 5, 6], [18, 33, 948]]"
      ]
     },
     "execution_count": 4,
     "metadata": {},
     "output_type": "execute_result"
    }
   ],
   "source": [
    "solution([100, 95, 2, 4, 5, 6, 18, 33, 948], 3)     # [[100, 95, 2], [4, 5, 6], [18, 33, 948]]"
   ]
  },
  {
   "cell_type": "markdown",
   "metadata": {},
   "source": [
    "# 풀이2"
   ]
  },
  {
   "cell_type": "code",
   "execution_count": 5,
   "metadata": {},
   "outputs": [],
   "source": [
    "def solution(num_list, n):\n",
    "    return [num_list[i : i + n] for i in range(0, len(num_list), n)]"
   ]
  },
  {
   "cell_type": "code",
   "execution_count": 6,
   "metadata": {},
   "outputs": [
    {
     "data": {
      "text/plain": [
       "[[1, 2], [3, 4], [5, 6], [7, 8]]"
      ]
     },
     "execution_count": 6,
     "metadata": {},
     "output_type": "execute_result"
    }
   ],
   "source": [
    "solution([1, 2, 3, 4, 5, 6, 7, 8], 2)"
   ]
  },
  {
   "cell_type": "code",
   "execution_count": 7,
   "metadata": {},
   "outputs": [
    {
     "data": {
      "text/plain": [
       "[[100, 95, 2], [4, 5, 6], [18, 33, 948]]"
      ]
     },
     "execution_count": 7,
     "metadata": {},
     "output_type": "execute_result"
    }
   ],
   "source": [
    "solution([100, 95, 2, 4, 5, 6, 18, 33, 948], 3)"
   ]
  }
 ],
 "metadata": {
  "kernelspec": {
   "display_name": "Python 3",
   "language": "python",
   "name": "python3"
  },
  "language_info": {
   "codemirror_mode": {
    "name": "ipython",
    "version": 3
   },
   "file_extension": ".py",
   "mimetype": "text/x-python",
   "name": "python",
   "nbconvert_exporter": "python",
   "pygments_lexer": "ipython3",
   "version": "3.7.6"
  }
 },
 "nbformat": 4,
 "nbformat_minor": 4
}
