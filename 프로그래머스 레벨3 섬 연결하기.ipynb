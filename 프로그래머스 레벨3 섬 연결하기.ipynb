{
 "cells": [
  {
   "cell_type": "markdown",
   "metadata": {},
   "source": [
    "# 섬 연결하기_레벨3 탐욕법(greedy)\n",
    "\n",
    "## 문제 설명\n",
    "\n",
    "- n개의 섬 사이에 다리를 건설하는 비용(costs)이 주어질 때, 최소의 비용으로 모든 섬이 서로 통행 가능하도록 만들 때 필요한 최소 비용을 return 하도록 solution을 완성하세요.\n",
    "- 다리를 여러 번 건너더라도, 도달할 수만 있으면 통행 가능하다고 봅니다. \n",
    "- 예를 들어 A 섬과 B 섬 사이에 다리가 있고, B 섬과 C 섬 사이에 다리가 있으면 A 섬과 C 섬은 서로 통행 가능합니다.\n",
    "\n",
    "## 제한사항\n",
    "\n",
    "- 섬의 개수 n은 1 이상 100 이하입니다.\n",
    "- costs의 길이는 ((n-1) * n) / 2이하입니다.\n",
    "- 임의의 i에 대해, costs[i][0] 와 costs[i] [1]에는 다리가 연결되는 두 섬의 번호가 들어있고, costs[i] [2]에는 이 두 섬을 연결하는 다리를 건설할 때 드는 비용입니다.\n",
    "- 같은 연결은 두 번 주어지지 않습니다. 또한 순서가 바뀌더라도 같은 연결로 봅니다. 즉 0과 1 사이를 연결하는 비용이 주어졌을 때, 1과 0의 비용이 주어지지 않습니다.\n",
    "- 모든 섬 사이의 다리 건설 비용이 주어지지 않습니다. 이 경우, 두 섬 사이의 건설이 불가능한 것으로 봅니다.\n",
    "- 연결할 수 없는 섬은 주어지지 않습니다.\n",
    "\n",
    "### 입출력 예\n",
    "\n",
    "n|\tcosts|\treturn\n",
    "-|-|-\n",
    "4|\t[[0,1,1],[0,2,2],[1,2,5],[1,3,1],[2,3,8]]|\t4\n",
    "\n",
    "### 입출력 예 설명\n",
    "\n",
    "- costs를 그림으로 표현하면 다음과 같으며, 이때 초록색 경로로 연결하는 것이 가장 적은 비용으로 모두를 통행할 수 있도록 만드는 방법입니다.\n",
    "- .\n",
    "- .\n",
    "- .\n",
    "- .\n",
    "- ."
   ]
  },
  {
   "cell_type": "markdown",
   "metadata": {},
   "source": [
    "# 풀이1"
   ]
  },
  {
   "cell_type": "code",
   "execution_count": 1,
   "metadata": {},
   "outputs": [],
   "source": [
    "def solution(n, costs):\n",
    "    costs = sorted(costs, key=lambda x:x[2])\n",
    "    node = set([costs[0][0], costs[0][1]])\n",
    "    answer = costs[0][2]\n",
    "\n",
    "    while len(node) != n:\n",
    "        for i in range(1, len(costs)):\n",
    "            if costs[i][0] in node and costs[i][1] in node:\n",
    "                continue\n",
    "            if costs[i][0] in node or costs[i][1] in node:\n",
    "                node.update([costs[i][0], costs[i][1]])\n",
    "                answer += costs[i][2]\n",
    "                break\n",
    "    return answer"
   ]
  },
  {
   "cell_type": "code",
   "execution_count": 2,
   "metadata": {},
   "outputs": [
    {
     "data": {
      "text/plain": [
       "4"
      ]
     },
     "execution_count": 2,
     "metadata": {},
     "output_type": "execute_result"
    }
   ],
   "source": [
    "solution(4, [[0,1,1],[0,2,2],[1,2,5],[1,3,1],[2,3,8]])"
   ]
  }
 ],
 "metadata": {
  "kernelspec": {
   "display_name": "Python 3",
   "language": "python",
   "name": "python3"
  },
  "language_info": {
   "codemirror_mode": {
    "name": "ipython",
    "version": 3
   },
   "file_extension": ".py",
   "mimetype": "text/x-python",
   "name": "python",
   "nbconvert_exporter": "python",
   "pygments_lexer": "ipython3",
   "version": "3.7.6"
  }
 },
 "nbformat": 4,
 "nbformat_minor": 4
}
