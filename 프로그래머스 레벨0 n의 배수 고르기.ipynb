{
 "cells": [
  {
   "cell_type": "markdown",
   "metadata": {},
   "source": [
    "# n의 배수 고르기_레벨0\n",
    "\n",
    "## 문제 설명\n",
    "\n",
    "- 정수 n과 정수 배열 numlist가 매개변수로 주어질 때, numlist에서 n의 배수가 아닌 수들을 제거한 배열을 return하도록 solution 함수를 완성해주세요.\n",
    "\n",
    "## 제한사항\n",
    "\n",
    "- 1 ≤ n ≤ 10,000 \n",
    "- 1 ≤ numlist의 크기 ≤ 100\n",
    "- 1 ≤ numlist의 원소 ≤ 100,000\n",
    "\n",
    "## 입출력 예\n",
    "\n",
    "n|\tnumlist|\tresult\n",
    "-|-|-\n",
    "3|\t[4, 5, 6, 7, 8, 9, 10, 11, 12]|\t[6, 9, 12]\n",
    "5|\t[1, 9, 3, 10, 13, 5]|\t[10, 5]\n",
    "12|\t[2, 100, 120, 600, 12, 12]|\t[120, 600, 12, 12]\n",
    "\n",
    "## 입출력 예 설명\n",
    "\n",
    "### 입출력 예 #1\n",
    "\n",
    "- numlist에서 3의 배수만을 남긴 [6, 9, 12]를 return합니다.\n",
    "\n",
    "### 입출력 예 #2\n",
    "\n",
    "- numlist에서 5의 배수만을 남긴 [10, 5]를 return합니다.\n",
    "\n",
    "### 입출력 예 #3\n",
    "\n",
    "- numlist에서 12의 배수만을 남긴 [120, 600, 12, 12]를 return합니다."
   ]
  },
  {
   "cell_type": "markdown",
   "metadata": {},
   "source": [
    "# 풀이"
   ]
  },
  {
   "cell_type": "code",
   "execution_count": 113,
   "metadata": {},
   "outputs": [],
   "source": [
    "def solution(n, numlist):\n",
    "    return [i for i in numlist if i % n == 0]"
   ]
  },
  {
   "cell_type": "code",
   "execution_count": 114,
   "metadata": {},
   "outputs": [
    {
     "data": {
      "text/plain": [
       "[6, 9, 12]"
      ]
     },
     "execution_count": 114,
     "metadata": {},
     "output_type": "execute_result"
    }
   ],
   "source": [
    "solution(3, [4, 5, 6, 7, 8, 9, 10, 11, 12])     # [6, 9, 12]"
   ]
  },
  {
   "cell_type": "code",
   "execution_count": 115,
   "metadata": {},
   "outputs": [
    {
     "data": {
      "text/plain": [
       "[10, 5]"
      ]
     },
     "execution_count": 115,
     "metadata": {},
     "output_type": "execute_result"
    }
   ],
   "source": [
    "solution(5, [1, 9, 3, 10, 13, 5])     # [10, 5]"
   ]
  },
  {
   "cell_type": "code",
   "execution_count": 116,
   "metadata": {},
   "outputs": [
    {
     "data": {
      "text/plain": [
       "[120, 600, 12, 12]"
      ]
     },
     "execution_count": 116,
     "metadata": {},
     "output_type": "execute_result"
    }
   ],
   "source": [
    "solution(12, [2, 100, 120, 600, 12, 12])     # [120, 600, 12, 12]"
   ]
  }
 ],
 "metadata": {
  "kernelspec": {
   "display_name": "Python 3",
   "language": "python",
   "name": "python3"
  },
  "language_info": {
   "codemirror_mode": {
    "name": "ipython",
    "version": 3
   },
   "file_extension": ".py",
   "mimetype": "text/x-python",
   "name": "python",
   "nbconvert_exporter": "python",
   "pygments_lexer": "ipython3",
   "version": "3.7.6"
  }
 },
 "nbformat": 4,
 "nbformat_minor": 4
}
