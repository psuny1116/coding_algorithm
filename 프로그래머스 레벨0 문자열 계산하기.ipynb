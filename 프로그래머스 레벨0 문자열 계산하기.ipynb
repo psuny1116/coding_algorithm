{
 "cells": [
  {
   "cell_type": "markdown",
   "metadata": {},
   "source": [
    "# 문자열 계산하기_레벨0\n",
    "\n",
    "## 문제 설명\n",
    "\n",
    "- my_string은 \"3 + 5\"처럼 문자열로 된 수식입니다. \n",
    "- 문자열 my_string이 매개변수로 주어질 때, 수식을 계산한 값을 return 하는 solution 함수를 완성해주세요.\n",
    "\n",
    "## 제한사항\n",
    "\n",
    "- 연산자는 +, -만 존재합니다.\n",
    "- 문자열의 시작과 끝에는 공백이 없습니다.\n",
    "- 0으로 시작하는 숫자는 주어지지 않습니다.\n",
    "- 잘못된 수식은 주어지지 않습니다.\n",
    "- 5 ≤ my_string의 길이 ≤ 100\n",
    "- my_string을 계산한 결과값은 1 이상 100,000 이하입니다.\n",
    "- my_string의 중간 계산 값은 -100,000 이상 100,000 이하입니다.\n",
    "- 계산에 사용하는 숫자는 1 이상 20,000 이하인 자연수입니다.\n",
    "- my_string에는 연산자가 적어도 하나 포함되어 있습니다.\n",
    "- return type 은 정수형입니다.\n",
    "- my_string의 숫자와 연산자는 공백 하나로 구분되어 있습니다.\n",
    "\n",
    "## 입출력 예\n",
    "\n",
    "my_string|\tresult\n",
    "-|-\n",
    "\"3 + 4\"|\t7\n",
    "\n",
    "## 입출력 예 설명\n",
    "\n",
    "### 입출력 예 #1\n",
    "\n",
    "- 3 + 4 = 7을 return 합니다."
   ]
  },
  {
   "cell_type": "markdown",
   "metadata": {},
   "source": [
    "# 풀이"
   ]
  },
  {
   "cell_type": "code",
   "execution_count": 17,
   "metadata": {},
   "outputs": [],
   "source": [
    "def solution(my_string):\n",
    "    my_string = my_string.split()\n",
    "    answer = int(my_string[0])\n",
    "    for i in range(1, len(my_string)):\n",
    "        if my_string[i] == '+':\n",
    "            answer += int(my_string[i+1])\n",
    "        elif my_string[i] == '-':\n",
    "            answer -= int(my_string[i+1])\n",
    "    return answer"
   ]
  },
  {
   "cell_type": "code",
   "execution_count": 18,
   "metadata": {},
   "outputs": [
    {
     "data": {
      "text/plain": [
       "7"
      ]
     },
     "execution_count": 18,
     "metadata": {},
     "output_type": "execute_result"
    }
   ],
   "source": [
    "solution('3 + 4')      # 7"
   ]
  }
 ],
 "metadata": {
  "kernelspec": {
   "display_name": "Python 3",
   "language": "python",
   "name": "python3"
  },
  "language_info": {
   "codemirror_mode": {
    "name": "ipython",
    "version": 3
   },
   "file_extension": ".py",
   "mimetype": "text/x-python",
   "name": "python",
   "nbconvert_exporter": "python",
   "pygments_lexer": "ipython3",
   "version": "3.7.6"
  }
 },
 "nbformat": 4,
 "nbformat_minor": 4
}
