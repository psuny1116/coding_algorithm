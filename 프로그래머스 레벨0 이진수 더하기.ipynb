{
 "cells": [
  {
   "cell_type": "markdown",
   "metadata": {},
   "source": [
    "# 이진수 더하기_레벨0\n",
    "\n",
    "## 문제 설명\n",
    "\n",
    "- 이진수를 의미하는 두 개의 문자열 bin1과 bin2가 매개변수로 주어질 때, 두 이진수의 합을 return하도록 solution 함수를 완성해주세요.\n",
    "\n",
    "## 제한사항\n",
    "\n",
    "- return 값은 이진수를 의미하는 문자열입니다.\n",
    "- 1 ≤ bin1, bin2의 길이 ≤ 10\n",
    "- bin1과 bin2는 0과 1로만 이루어져 있습니다.\n",
    "- bin1과 bin2는 \"0\"을 제외하고 0으로 시작하지 않습니다.\n",
    "\n",
    "## 입출력 예\n",
    "\n",
    "bin1|\tbin2|\tresult\n",
    "-|-|-\n",
    "\"10\"|\t\"11\"|\t\"101\"\n",
    "\"1001\"|\t\"1111\"|\t\"11000\"\n",
    "\n",
    "## 입출력 예 설명\n",
    "\n",
    "### 입출력 예 #1\n",
    "\n",
    "- 10 + 11 = 101 이므로 \"101\" 을 return합니다.\n",
    "\n",
    "### 입출력 예 #2\n",
    "\n",
    "- 1001 + 1111 = 11000 이므로 \"11000\"을 return합니다."
   ]
  },
  {
   "cell_type": "markdown",
   "metadata": {},
   "source": [
    "# 풀이"
   ]
  },
  {
   "cell_type": "code",
   "execution_count": 31,
   "metadata": {},
   "outputs": [],
   "source": [
    "def solution(bin1, bin2):\n",
    "    return bin(int(bin1, 2) + int(bin2, 2))[2:]"
   ]
  },
  {
   "cell_type": "code",
   "execution_count": 32,
   "metadata": {},
   "outputs": [
    {
     "data": {
      "text/plain": [
       "'101'"
      ]
     },
     "execution_count": 32,
     "metadata": {},
     "output_type": "execute_result"
    }
   ],
   "source": [
    "solution('10', '11')     # '101'"
   ]
  },
  {
   "cell_type": "code",
   "execution_count": 33,
   "metadata": {},
   "outputs": [
    {
     "data": {
      "text/plain": [
       "'11000'"
      ]
     },
     "execution_count": 33,
     "metadata": {},
     "output_type": "execute_result"
    }
   ],
   "source": [
    "solution('1001', '1111')     # '11000'"
   ]
  }
 ],
 "metadata": {
  "kernelspec": {
   "display_name": "Python 3",
   "language": "python",
   "name": "python3"
  },
  "language_info": {
   "codemirror_mode": {
    "name": "ipython",
    "version": 3
   },
   "file_extension": ".py",
   "mimetype": "text/x-python",
   "name": "python",
   "nbconvert_exporter": "python",
   "pygments_lexer": "ipython3",
   "version": "3.7.6"
  }
 },
 "nbformat": 4,
 "nbformat_minor": 4
}
