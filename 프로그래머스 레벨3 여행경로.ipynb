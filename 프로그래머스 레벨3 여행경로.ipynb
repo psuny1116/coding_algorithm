{
 "cells": [
  {
   "cell_type": "markdown",
   "metadata": {},
   "source": [
    "# 여행경로_레벨3 깊이/너비 우선 탐색(DFS/BFS)\n",
    "\n",
    "## 문제 설명\n",
    "\n",
    "- 주어진 항공권을 모두 이용하여 여행경로를 짜려고 합니다. \n",
    "- 항상 \"ICN\" 공항에서 출발합니다.\n",
    "- 항공권 정보가 담긴 2차원 배열 tickets가 매개변수로 주어질 때, 방문하는 공항 경로를 배열에 담아 return 하도록 solution 함수를 작성해주세요.\n",
    "\n",
    "## 제한사항\n",
    "\n",
    "- 모든 공항은 알파벳 대문자 3글자로 이루어집니다.\n",
    "- 주어진 공항 수는 3개 이상 10,000개 이하입니다.\n",
    "- tickets의 각 행 [a, b]는 a 공항에서 b 공항으로 가는 항공권이 있다는 의미입니다.\n",
    "- 주어진 항공권은 모두 사용해야 합니다.\n",
    "- 만일 가능한 경로가 2개 이상일 경우 알파벳 순서가 앞서는 경로를 return 합니다.\n",
    "- 모든 도시를 방문할 수 없는 경우는 주어지지 않습니다.\n",
    "\n",
    "### 입출력 예\n",
    "\n",
    "tickets|\treturn\n",
    "-|-\n",
    "[[\"ICN\", \"JFK\"], [\"HND\", \"IAD\"], [\"JFK\", \"HND\"]]|\t[\"ICN\", \"JFK\", \"HND\", \"IAD\"]\n",
    "[[\"ICN\", \"SFO\"], [\"ICN\", \"ATL\"], [\"SFO\", \"ATL\"], [\"ATL\", \"ICN\"], [\"ATL\",\"SFO\"]]|\t[\"ICN\", \"ATL\", \"ICN\", \"SFO\", \"ATL\", \"SFO\"]\n",
    "\n",
    "### 입출력 예 설명\n",
    "\n",
    "- 예제1\n",
    "    - [\"ICN\", \"JFK\", \"HND\", \"IAD\"] 순으로 방문할 수 있습니다.\n",
    "\n",
    "- 예제2\n",
    "    - [\"ICN\", \"SFO\", \"ATL\", \"ICN\", \"ATL\", \"SFO\"] 순으로 방문할 수도 있지만 [\"ICN\", \"ATL\", \"ICN\", \"SFO\", \"ATL\", \"SFO\"] 가 알파벳 순으로 앞섭니다."
   ]
  },
  {
   "cell_type": "markdown",
   "metadata": {},
   "source": [
    "# 풀이1"
   ]
  },
  {
   "cell_type": "code",
   "execution_count": 1,
   "metadata": {},
   "outputs": [],
   "source": [
    "def solution(tickets):\n",
    "    routes = {}\n",
    "    for t in tickets:\n",
    "        routes[t[0]] = routes.get(t[0], []) + [t[1]]\n",
    "    for r in routes:\n",
    "        routes[r].sort(reverse=True)\n",
    "    stack = [\"ICN\"]\n",
    "    path = []\n",
    "    while len(stack) > 0:\n",
    "        top = stack[-1]\n",
    "        if top not in routes or len(routes[top]) == 0:\n",
    "            path.append(stack.pop())\n",
    "        else:\n",
    "            stack.append(routes[top][-1])\n",
    "            routes[top] = routes[top][:-1]\n",
    "    return path[::-1]\n"
   ]
  },
  {
   "cell_type": "code",
   "execution_count": 2,
   "metadata": {},
   "outputs": [
    {
     "data": {
      "text/plain": [
       "['ICN', 'JFK', 'HND', 'IAD']"
      ]
     },
     "execution_count": 2,
     "metadata": {},
     "output_type": "execute_result"
    }
   ],
   "source": [
    "solution([[\"ICN\", \"JFK\"], [\"HND\", \"IAD\"], [\"JFK\", \"HND\"]])"
   ]
  },
  {
   "cell_type": "code",
   "execution_count": 3,
   "metadata": {},
   "outputs": [
    {
     "data": {
      "text/plain": [
       "['ICN', 'ATL', 'ICN', 'SFO', 'ATL', 'SFO']"
      ]
     },
     "execution_count": 3,
     "metadata": {},
     "output_type": "execute_result"
    }
   ],
   "source": [
    "solution([[\"ICN\", \"SFO\"], [\"ICN\", \"ATL\"], [\"SFO\", \"ATL\"], [\"ATL\", \"ICN\"], [\"ATL\",\"SFO\"]])"
   ]
  }
 ],
 "metadata": {
  "kernelspec": {
   "display_name": "Python 3",
   "language": "python",
   "name": "python3"
  },
  "language_info": {
   "codemirror_mode": {
    "name": "ipython",
    "version": 3
   },
   "file_extension": ".py",
   "mimetype": "text/x-python",
   "name": "python",
   "nbconvert_exporter": "python",
   "pygments_lexer": "ipython3",
   "version": "3.7.6"
  }
 },
 "nbformat": 4,
 "nbformat_minor": 4
}
