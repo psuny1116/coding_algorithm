{
 "cells": [
  {
   "cell_type": "markdown",
   "metadata": {},
   "source": [
    "# 모스부호 (1)_레벨0\n",
    "\n",
    "## 문제 설명\n",
    "\n",
    "- 머쓱이는 친구에게 모스부호를 이용한 편지를 받았습니다. \n",
    "- 그냥은 읽을 수 없어 이를 해독하는 프로그램을 만들려고 합니다. \n",
    "- 문자열 letter가 매개변수로 주어질 때, letter를 영어 소문자로 바꾼 문자열을 return 하도록 solution 함수를 완성해보세요. \n",
    "- 모스부호는 다음과 같습니다.\n",
    "\n",
    "- morse = { \n",
    "    '.-':'a','-...':'b','-.-.':'c','-..':'d','.':'e','..-.':'f',\n",
    "    '--.':'g','....':'h','..':'i','.---':'j','-.-':'k','.-..':'l',\n",
    "    '--':'m','-.':'n','---':'o','.--.':'p','--.-':'q','.-.':'r',\n",
    "    '...':'s','-':'t','..-':'u','...-':'v','.--':'w','-..-':'x',\n",
    "    '-.--':'y','--..':'z'}\n",
    "\n",
    "## 제한사항\n",
    "\n",
    "- 1 ≤ letter의 길이 ≤ 1,000\n",
    "- return값은 소문자입니다.\n",
    "- letter의 모스부호는 공백으로 나누어져 있습니다.\n",
    "- letter에 공백은 연속으로 두 개 이상 존재하지 않습니다.\n",
    "- 해독할 수 없는 편지는 주어지지 않습니다.\n",
    "- 편지의 시작과 끝에는 공백이 없습니다.\n",
    "\n",
    "## 입출력 예\n",
    "\n",
    "letter|\tresult\n",
    "-|-\n",
    "\".... . .-.. .-.. ---\"|\t\"hello\"\n",
    "\".--. -.-- - .... --- -.\"|\t\"python\"\n",
    "\n",
    "## 입출력 예 설명\n",
    "\n",
    "### 입출력 예 #1\n",
    "\n",
    "- .... = h\n",
    "- . = e\n",
    "- .-.. = l\n",
    "- .-.. = l\n",
    "- --- = o\n",
    "- 따라서 \"hello\"를 return 합니다.\n",
    "\n",
    "### 입출력 예 #2\n",
    "\n",
    "- .--. = p\n",
    "- -.-- = y\n",
    "- - = t\n",
    "- .... = h\n",
    "- --- = o\n",
    "- -. = n\n",
    "- 따라서 \"python\"을 return 합니다.\n",
    "\n",
    "### a ~ z에 해당하는 모스부호가 순서대로 담긴 배열입니다.\n",
    "- {\".-\",\"-...\",\"-.-.\",\"-..\",\".\",\"..-.\",\"--.\",\"....\",\"..\",\".---\",\"-.-\",\".-..\",\"--\",\"-.\",\"---\",\".--.\",\"--.-\",\".-.\",\"...\",\"-\",\"..-\",\"...-\",\".--\",\"-..-\",\"-.--\",\"--..\"}"
   ]
  },
  {
   "cell_type": "markdown",
   "metadata": {},
   "source": [
    "# 풀이"
   ]
  },
  {
   "cell_type": "code",
   "execution_count": 27,
   "metadata": {},
   "outputs": [],
   "source": [
    "def solution(letter):\n",
    "    morse = { '.-':'a','-...':'b','-.-.':'c','-..':'d','.':'e','..-.':'f', '--.':'g','....':'h','..':'i','.---':'j','-.-':'k','.-..':'l', '--':'m','-.':'n','---':'o','.--.':'p','--.-':'q','.-.':'r', '...':'s','-':'t','..-':'u','...-':'v','.--':'w','-..-':'x', '-.--':'y','--..':'z'}\n",
    "    return ''.join(morse[i] for i in letter.split())"
   ]
  },
  {
   "cell_type": "code",
   "execution_count": 28,
   "metadata": {},
   "outputs": [
    {
     "data": {
      "text/plain": [
       "'hello'"
      ]
     },
     "execution_count": 28,
     "metadata": {},
     "output_type": "execute_result"
    }
   ],
   "source": [
    "solution(\".... . .-.. .-.. ---\")     # 'hello'"
   ]
  },
  {
   "cell_type": "code",
   "execution_count": 29,
   "metadata": {},
   "outputs": [
    {
     "data": {
      "text/plain": [
       "'python'"
      ]
     },
     "execution_count": 29,
     "metadata": {},
     "output_type": "execute_result"
    }
   ],
   "source": [
    "solution(\".--. -.-- - .... --- -.\")     # 'python'"
   ]
  }
 ],
 "metadata": {
  "kernelspec": {
   "display_name": "Python 3",
   "language": "python",
   "name": "python3"
  },
  "language_info": {
   "codemirror_mode": {
    "name": "ipython",
    "version": 3
   },
   "file_extension": ".py",
   "mimetype": "text/x-python",
   "name": "python",
   "nbconvert_exporter": "python",
   "pygments_lexer": "ipython3",
   "version": "3.7.6"
  }
 },
 "nbformat": 4,
 "nbformat_minor": 4
}
