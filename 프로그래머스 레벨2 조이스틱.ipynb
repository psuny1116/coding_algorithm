{
 "cells": [
  {
   "cell_type": "markdown",
   "metadata": {},
   "source": [
    "# 조이스틱_레벨2 탐욕법(greedy)\n",
    "\n",
    "## 문제 설명\n",
    "\n",
    "- 조이스틱으로 알파벳 이름을 완성하세요. 맨 처음엔 A로만 이루어져 있습니다.\n",
    "- ex) 완성해야 하는 이름이 세 글자면 AAA, 네 글자면 AAAA\n",
    "- 조이스틱을 각 방향으로 움직이면 아래와 같습니다.\n",
    "- ▲ - 다음 알파벳\n",
    "- ▼ - 이전 알파벳 (A에서 아래쪽으로 이동하면 Z로)\n",
    "- ◀ - 커서를 왼쪽으로 이동 (첫 번째 위치에서 왼쪽으로 이동하면 마지막 문자에 커서)\n",
    "- ▶ - 커서를 오른쪽으로 이동 (마지막 위치에서 오른쪽으로 이동하면 첫 번째 문자에 커서)\n",
    "- 예를 들어 아래의 방법으로 \"JAZ\"를 만들 수 있습니다.\n",
    "    - 첫 번째 위치에서 조이스틱을 위로 9번 조작하여 J를 완성합니다.\n",
    "    - 조이스틱을 왼쪽으로 1번 조작하여 커서를 마지막 문자 위치로 이동시킵니다.\n",
    "    - 마지막 위치에서 조이스틱을 아래로 1번 조작하여 Z를 완성합니다.\n",
    "- 따라서 11번 이동시켜 \"JAZ\"를 만들 수 있고, 이때가 최소 이동입니다.\n",
    "- 만들고자 하는 이름 name이 매개변수로 주어질 때, 이름에 대해 조이스틱 조작 횟수의 최솟값을 return 하도록 solution 함수를 만드세요.\n",
    "\n",
    "## 제한 사항\n",
    "\n",
    "- name은 알파벳 대문자로만 이루어져 있습니다.\n",
    "- name의 길이는 1 이상 20 이하입니다.\n",
    "\n",
    "### 입출력 예\n",
    "\n",
    "name|\treturn\n",
    "-|-\n",
    "\"JEROEN\"|\t56\n",
    "\"JAN\"|\t23"
   ]
  },
  {
   "cell_type": "markdown",
   "metadata": {},
   "source": [
    "# 풀이1"
   ]
  },
  {
   "cell_type": "code",
   "execution_count": 1,
   "metadata": {},
   "outputs": [],
   "source": [
    "def solution(name):\n",
    "    answer = 0\n",
    "    n = len(name)\n",
    "\n",
    "    def alphabet_to_num(char):\n",
    "        num_char = [i for i in range(14)] + [j for j in range(12, 0, -1)]\n",
    "        return num_char[ord(char) - ord('A')]\n",
    "\n",
    "    for ch in name:\n",
    "        answer += alphabet_to_num(ch)\n",
    "\n",
    "    move = n - 1\n",
    "    for idx in range(n):\n",
    "        next_idx = idx + 1\n",
    "        while (next_idx < n) and (name[next_idx] == 'A'):\n",
    "            next_idx += 1\n",
    "        distance = min(idx, n - next_idx)\n",
    "        move = min(move, idx + n - next_idx + distance)\n",
    "\n",
    "    answer += move\n",
    "    return answer"
   ]
  },
  {
   "cell_type": "code",
   "execution_count": 2,
   "metadata": {},
   "outputs": [
    {
     "data": {
      "text/plain": [
       "56"
      ]
     },
     "execution_count": 2,
     "metadata": {},
     "output_type": "execute_result"
    }
   ],
   "source": [
    "solution(\"JEROEN\")"
   ]
  },
  {
   "cell_type": "code",
   "execution_count": 3,
   "metadata": {},
   "outputs": [
    {
     "data": {
      "text/plain": [
       "23"
      ]
     },
     "execution_count": 3,
     "metadata": {},
     "output_type": "execute_result"
    }
   ],
   "source": [
    "solution(\"JAN\")"
   ]
  }
 ],
 "metadata": {
  "kernelspec": {
   "display_name": "Python 3",
   "language": "python",
   "name": "python3"
  },
  "language_info": {
   "codemirror_mode": {
    "name": "ipython",
    "version": 3
   },
   "file_extension": ".py",
   "mimetype": "text/x-python",
   "name": "python",
   "nbconvert_exporter": "python",
   "pygments_lexer": "ipython3",
   "version": "3.7.6"
  }
 },
 "nbformat": 4,
 "nbformat_minor": 4
}
