{
 "cells": [
  {
   "cell_type": "markdown",
   "metadata": {},
   "source": [
    "# 문자열안에 문자열_레벨0\n",
    "\n",
    "## 문제 설명\n",
    "\n",
    "- 문자열 str1, str2가 매개변수로 주어집니다. \n",
    "- str1 안에 str2가 있다면 1을 없다면 2를 return하도록 solution 함수를 완성해주세요.\n",
    "\n",
    "## 제한사항\n",
    "\n",
    "- 1 ≤ str1의 길이 ≤ 100\n",
    "- 1 ≤ str2의 길이 ≤ 100\n",
    "- 문자열은 알파벳 대문자, 소문자, 숫자로 구성되어 있습니다.\n",
    "\n",
    "## 입출력 예\n",
    "\n",
    "str1|\tstr2|\tresult\n",
    "-|-|-\n",
    "\"ab6CDE443fgh22iJKlmn1o\"|\t\"6CD\"|\t1\n",
    "\"ppprrrogrammers\"|\t\"pppp\"|\t2\n",
    "\"AbcAbcA\"|\t\"AAA\"|\t2\n",
    "\n",
    "## 입출력 예 설명\n",
    "\n",
    "### 입출력 예 #1\n",
    "\n",
    "- \"ab6CDE443fgh22iJKlmn1o\" str1에 str2가 존재하므로 1을 return합니다.\n",
    "\n",
    "### 입출력 예 #2\n",
    "\n",
    "- \"ppprrrogrammers\" str1에 str2가 없으므로 2를 return합니다.\n",
    "\n",
    "### 입출력 예 #3\n",
    "\n",
    "- \"AbcAbcA\" str1에 str2가 없으므로 2를 return합니다."
   ]
  },
  {
   "cell_type": "markdown",
   "metadata": {},
   "source": [
    "# 풀이"
   ]
  },
  {
   "cell_type": "code",
   "execution_count": 1,
   "metadata": {},
   "outputs": [],
   "source": [
    "def solution(str1, str2):\n",
    "    return 1 if str2 in str1 else 2"
   ]
  },
  {
   "cell_type": "code",
   "execution_count": 2,
   "metadata": {},
   "outputs": [
    {
     "data": {
      "text/plain": [
       "1"
      ]
     },
     "execution_count": 2,
     "metadata": {},
     "output_type": "execute_result"
    }
   ],
   "source": [
    "solution(\"ab6CDE443fgh22iJKlmn1o\", \"6CD\")     # 1"
   ]
  },
  {
   "cell_type": "code",
   "execution_count": 3,
   "metadata": {},
   "outputs": [
    {
     "data": {
      "text/plain": [
       "2"
      ]
     },
     "execution_count": 3,
     "metadata": {},
     "output_type": "execute_result"
    }
   ],
   "source": [
    "solution(\"ppprrrogrammers\", \"pppp\")     # 2"
   ]
  },
  {
   "cell_type": "code",
   "execution_count": 4,
   "metadata": {},
   "outputs": [
    {
     "data": {
      "text/plain": [
       "2"
      ]
     },
     "execution_count": 4,
     "metadata": {},
     "output_type": "execute_result"
    }
   ],
   "source": [
    "solution(\"AbcAbcA\", \"AAA\")     # 2"
   ]
  }
 ],
 "metadata": {
  "kernelspec": {
   "display_name": "Python 3",
   "language": "python",
   "name": "python3"
  },
  "language_info": {
   "codemirror_mode": {
    "name": "ipython",
    "version": 3
   },
   "file_extension": ".py",
   "mimetype": "text/x-python",
   "name": "python",
   "nbconvert_exporter": "python",
   "pygments_lexer": "ipython3",
   "version": "3.7.6"
  }
 },
 "nbformat": 4,
 "nbformat_minor": 4
}
