{
 "cells": [
  {
   "cell_type": "markdown",
   "metadata": {},
   "source": [
    "# 중복된 숫자 개수_레벨0\n",
    "\n",
    "## 문제 설명\n",
    "\n",
    "- 정수가 담긴 배열 array와 정수 n이 매개변수로 주어질 때, array에 n이 몇 개 있는 지를 return 하도록 solution 함수를 완성해보세요.\n",
    "\n",
    "## 제한사항\n",
    "\n",
    "- 1 ≤ array의 길이 ≤ 100\n",
    "- 0 ≤ array의 원소 ≤ 1,000\n",
    "- 0 ≤ n ≤ 1,000\n",
    "\n",
    "## 입출력 예\n",
    "\n",
    "array|\tn|\tresult\n",
    "-|-|-\n",
    "[1, 1, 2, 3, 4, 5]|\t1|\t2\n",
    "[0, 2, 3, 4]|\t1|\t0\n",
    "\n",
    "## 입출력 예 설명\n",
    "\n",
    "### 입출력 예 #1\n",
    "\n",
    "- [1, 1, 2, 3, 4, 5] 에는 1이 2개 있습니다.\n",
    "\n",
    "### 입출력 예 #2\n",
    "\n",
    "- [0, 2, 3, 4] 에는 1이 0개 있습니다."
   ]
  },
  {
   "cell_type": "markdown",
   "metadata": {},
   "source": [
    "# 풀이"
   ]
  },
  {
   "cell_type": "code",
   "execution_count": 93,
   "metadata": {},
   "outputs": [],
   "source": [
    "def solution(array, n):\n",
    "    return array.count(n)"
   ]
  },
  {
   "cell_type": "code",
   "execution_count": 94,
   "metadata": {},
   "outputs": [
    {
     "data": {
      "text/plain": [
       "2"
      ]
     },
     "execution_count": 94,
     "metadata": {},
     "output_type": "execute_result"
    }
   ],
   "source": [
    "solution([1, 1, 2, 3, 4, 5], 1)     # 2"
   ]
  },
  {
   "cell_type": "code",
   "execution_count": 95,
   "metadata": {},
   "outputs": [
    {
     "data": {
      "text/plain": [
       "0"
      ]
     },
     "execution_count": 95,
     "metadata": {},
     "output_type": "execute_result"
    }
   ],
   "source": [
    "solution([0, 2, 3, 4], 1)      # 0"
   ]
  }
 ],
 "metadata": {
  "kernelspec": {
   "display_name": "Python 3",
   "language": "python",
   "name": "python3"
  },
  "language_info": {
   "codemirror_mode": {
    "name": "ipython",
    "version": 3
   },
   "file_extension": ".py",
   "mimetype": "text/x-python",
   "name": "python",
   "nbconvert_exporter": "python",
   "pygments_lexer": "ipython3",
   "version": "3.7.6"
  }
 },
 "nbformat": 4,
 "nbformat_minor": 4
}
