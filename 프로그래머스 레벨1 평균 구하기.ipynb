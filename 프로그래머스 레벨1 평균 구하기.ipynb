{
 "cells": [
  {
   "cell_type": "markdown",
   "metadata": {},
   "source": [
    "# 평균 구하기\n",
    "\n",
    "## 문제 설명\n",
    "정수를 담고 있는 배열 arr의 평균값을 return하는 함수, solution을 완성해보세요.\n",
    "\n",
    "## 제한사항\n",
    "arr은 길이 1 이상, 100 이하인 배열입니다.<br>\n",
    "arr의 원소는 -10,000 이상 10,000 이하인 정수입니다."
   ]
  },
  {
   "cell_type": "code",
   "execution_count": 11,
   "metadata": {},
   "outputs": [],
   "source": [
    "def solution(arr):\n",
    "    answer = 0\n",
    "    answer = sum(arr) / len(arr)\n",
    "    return answer"
   ]
  },
  {
   "cell_type": "code",
   "execution_count": 12,
   "metadata": {},
   "outputs": [
    {
     "data": {
      "text/plain": [
       "2.5"
      ]
     },
     "execution_count": 12,
     "metadata": {},
     "output_type": "execute_result"
    }
   ],
   "source": [
    "solution([1,2,3,4])"
   ]
  }
 ],
 "metadata": {
  "kernelspec": {
   "display_name": "Python 3",
   "language": "python",
   "name": "python3"
  },
  "language_info": {
   "codemirror_mode": {
    "name": "ipython",
    "version": 3
   },
   "file_extension": ".py",
   "mimetype": "text/x-python",
   "name": "python",
   "nbconvert_exporter": "python",
   "pygments_lexer": "ipython3",
   "version": "3.7.6"
  }
 },
 "nbformat": 4,
 "nbformat_minor": 4
}
