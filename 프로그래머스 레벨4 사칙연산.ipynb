{
 "cells": [
  {
   "cell_type": "markdown",
   "metadata": {},
   "source": [
    "# 사칙연산_레벨4\n",
    "\n",
    "## 유형: 동적계획법(DP)\n",
    "\n",
    "## 문제 설명\n",
    "\n",
    "- 사칙연산에서 더하기(+)는 결합법칙이 성립하지만, 빼기(-)는 결합법칙이 성립하지 않습니다.\n",
    "- 예를 들어 식 1 - 5 - 3은 연산 순서에 따라 다음과 같이 다른 결과를 가집니다.\n",
    "\n",
    "- ((1 - 5) - 3) = -7\n",
    "- (1 - (5 - 3)) = -1\n",
    "- 위 예시와 같이 뺄셈은 연산 순서에 따라 그 결과가 바뀔 수 있습니다.\n",
    "- 또 다른 예로 식 1 - 3 + 5 - 8은 연산 순서에 따라 다음과 같이 5가지 결과가 나옵니다.\n",
    "\n",
    "- (((1 - 3) + 5) - 8) = -5\n",
    "- ((1 - (3 + 5)) - 8) = -15\n",
    "- (1 - ((3 + 5) - 8)) = 1\n",
    "- (1 - (3 + (5 - 8))) = 1\n",
    "- ((1 - 3) + (5 - 8)) = -5\n",
    "- 위와 같이 서로 다른 연산 순서의 계산 결과는 [-15, -5, -5, 1, 1]이 되며, 이중 최댓값은 1입니다.\n",
    "- 문자열 형태의 숫자와, 더하기 기호(\"+\"), 뺄셈 기호(\"-\")가 들어있는 배열 arr가 매개변수로 주어질 때, 서로 다른 연산순서의 계산 결과 중 최댓값을 return 하도록 solution 함수를 완성해 주세요.\n",
    "\n",
    "## 제한 사항\n",
    "\n",
    "- arr는 두 연산자 \"+\", \"-\" 와 숫자가 들어있는 배열이며, 길이는 3 이상 201 이하 입니다.\n",
    "- arr의 길이는 항상 홀수입니다.\n",
    "- arr에 들어있는 숫자의 개수는 2개 이상 101개 이하이며, 연산자의 개수는 (숫자의 개수) -1 입니다.\n",
    "- 숫자는 1 이상 1,000 이하의 자연수가 문자열 형태로 들어있습니다.. (ex : \"456\")\n",
    "- 배열의 첫 번째 원소와 마지막 원소는 반드시 숫자이며, 숫자와 연산자가 항상 번갈아가며 들어있습니다.\n",
    "\n",
    "## 입출력 예\n",
    "\n",
    "arr|\tresult\n",
    "-|-\n",
    "[\"1\", \"-\", \"3\", \"+\", \"5\", \"-\", \"8\"]|\t1\n",
    "[\"5\", \"-\", \"3\", \"+\", \"1\", \"+\", \"2\", \"-\", \"4\"]|\t3\n",
    "\n",
    "## 입출력 예시\n",
    "\n",
    "### 입출력 예 #1\n",
    "\n",
    "- 위의 예시와 같이 (1-(3+(5-8))) = 1 입니다.\n",
    "\n",
    "### 입출력 예 #2\n",
    "\n",
    "- (5-(3+((1+2)-4))) = 3 입니다."
   ]
  },
  {
   "cell_type": "markdown",
   "metadata": {},
   "source": [
    "# 풀이"
   ]
  },
  {
   "cell_type": "code",
   "execution_count": 1,
   "metadata": {},
   "outputs": [],
   "source": [
    "def solution(arr):\n",
    "    arrs = ''.join(arr).split('-')\n",
    "    val0 = sum(list(map(int, arrs[0].split('+'))))\n",
    "    if len(arrs) == 1:\n",
    "        return val0\n",
    "\n",
    "    min_val = 0\n",
    "    max_val = 0\n",
    "    for arr in arrs[:0:-1]:\n",
    "        x = list(map(int, arr.split('+')))\n",
    "        _min_val = -(sum(x))\n",
    "        _max_val = sum(x[1:]) - x[0]\n",
    "        min_val, max_val = min(_min_val + min_val, _min_val - max_val), max(_max_val + max_val, _min_val - min_val)\n",
    "\n",
    "    return val0 + max_val"
   ]
  },
  {
   "cell_type": "code",
   "execution_count": 2,
   "metadata": {},
   "outputs": [
    {
     "data": {
      "text/plain": [
       "1"
      ]
     },
     "execution_count": 2,
     "metadata": {},
     "output_type": "execute_result"
    }
   ],
   "source": [
    "solution([\"1\", \"-\", \"3\", \"+\", \"5\", \"-\", \"8\"])"
   ]
  },
  {
   "cell_type": "code",
   "execution_count": 3,
   "metadata": {},
   "outputs": [
    {
     "data": {
      "text/plain": [
       "3"
      ]
     },
     "execution_count": 3,
     "metadata": {},
     "output_type": "execute_result"
    }
   ],
   "source": [
    "solution([\"5\", \"-\", \"3\", \"+\", \"1\", \"+\", \"2\", \"-\", \"4\"])"
   ]
  }
 ],
 "metadata": {
  "kernelspec": {
   "display_name": "Python 3",
   "language": "python",
   "name": "python3"
  },
  "language_info": {
   "codemirror_mode": {
    "name": "ipython",
    "version": 3
   },
   "file_extension": ".py",
   "mimetype": "text/x-python",
   "name": "python",
   "nbconvert_exporter": "python",
   "pygments_lexer": "ipython3",
   "version": "3.7.6"
  }
 },
 "nbformat": 4,
 "nbformat_minor": 4
}
