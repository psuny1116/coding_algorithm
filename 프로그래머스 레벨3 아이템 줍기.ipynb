{
 "cells": [
  {
   "cell_type": "markdown",
   "metadata": {},
   "source": [
    "# 아이템 줍기_레벨3\n",
    "\n",
    "## 유형: 깊이/너비 우선 탐색(DFS/BFS)\n",
    "\n",
    "## 문제 설명\n",
    "\n",
    "- 다음과 같은 다각형 모양 지형에서 캐릭터가 아이템을 줍기 위해 이동하려 합니다.\n",
    "- 지형은 각 변이 x축, y축과 평행한 직사각형이 겹쳐진 형태로 표현하며, 캐릭터는 이 다각형의 둘레(굵은 선)를 따라서 이동합니다.\n",
    "\n",
    "- 만약 직사각형을 겹친 후 다음과 같이 중앙에 빈 공간이 생기는 경우, 다각형의 가장 바깥쪽 테두리가 캐릭터의 이동 경로가 됩니다.\n",
    "- 단, 서로 다른 두 직사각형의 x축 좌표 또는 y축 좌표가 같은 경우는 없습니다.\n",
    "- 즉, 위 그림처럼 서로 다른 두 직사각형이 꼭짓점에서 만나거나, 변이 겹치는 경우 등은 없습니다.\n",
    "\n",
    "- 다음 그림과 같이 지형이 2개 이상으로 분리된 경우도 없습니다.\n",
    "- 한 직사각형이 다른 직사각형 안에 완전히 포함되는 경우 또한 없습니다.\n",
    "- 지형을 나타내는 직사각형이 담긴 2차원 배열 rectangle, 초기 캐릭터의 위치 characterX, characterY, 아이템의 위치 itemX, itemY가 solution 함수의 매개변수로 주어질 때, 캐릭터가 아이템을 줍기 위해 이동해야 하는 가장 짧은 거리를 return 하도록 solution 함수를 완성해주세요.\n",
    "\n",
    "## 제한사항\n",
    "\n",
    "- rectangle의 세로(행) 길이는 1 이상 4 이하입니다.\n",
    "- rectangle의 원소는 각 직사각형의 [좌측 하단 x, 좌측 하단 y, 우측 상단 x, 우측 상단 y] 좌표 형태입니다.\n",
    "- 직사각형을 나타내는 모든 좌표값은 1 이상 50 이하인 자연수입니다.\n",
    "- 서로 다른 두 직사각형의 x축 좌표, 혹은 y축 좌표가 같은 경우는 없습니다.\n",
    "- 문제에 주어진 조건에 맞는 직사각형만 입력으로 주어집니다.\n",
    "- charcterX, charcterY는 1 이상 50 이하인 자연수입니다.\n",
    "- 지형을 나타내는 다각형 테두리 위의 한 점이 주어집니다.\n",
    "- itemX, itemY는 1 이상 50 이하인 자연수입니다.\n",
    "- 지형을 나타내는 다각형 테두리 위의 한 점이 주어집니다.\n",
    "- 캐릭터와 아이템의 처음 위치가 같은 경우는 없습니다.\n",
    "- 전체 배점의 50%는 직사각형이 1개인 경우입니다.\n",
    "- 전체 배점의 25%는 직사각형이 2개인 경우입니다.\n",
    "- 전체 배점의 25%는 직사각형이 3개 또는 4개인 경우입니다.\n",
    "\n",
    "## 입출력 예\n",
    "\n",
    "rectangle|\tcharacterX|\tcharacterY|\titemX|\titemY|\tresult\n",
    "-|-|-|-|-|-\n",
    "[[1,1,7,4],[3,2,5,5],[4,3,6,9],[2,6,8,8]]|\t1|\t3|\t7|\t8|\t17\n",
    "[[1,1,8,4],[2,2,4,9],[3,6,9,8],[6,3,7,7]]|\t9|\t7|\t6|\t1|\t11\n",
    "[[1,1,5,7]]|\t1|\t1|\t4|\t7|\t9\n",
    "[[2,1,7,5],[6,4,10,10]]|\t3|\t1|\t7|\t10|\t15\n",
    "[[2,2,5,5],[1,3,6,4],[3,1,4,6]]|\t1|\t4|\t6|\t3|\t10\n",
    "\n",
    "## 입출력 예 설명\n",
    "\n",
    "### 입출력 예 #1\n",
    "\n",
    "- 캐릭터 위치는 (1, 3)이며, 아이템 위치는 (7, 8)입니다. 위 그림과 같이 굵은 선을 따라 이동하는 경로가 가장 짧습니다.\n",
    "\n",
    "### 입출력 예 #2\n",
    "\n",
    "- 캐릭터 위치는 (9, 7)이며, 아이템 위치는 (6, 1)입니다. 위 그림과 같이 굵은 선을 따라 이동하는 경로가 가장 짧습니다.\n",
    "\n",
    "### 입출력 예 #3\n",
    "\n",
    "- 캐릭터 위치는 (1, 1)이며, 아이템 위치는 (4, 7)입니다. 위 그림과 같이 굵은 선을 따라 이동하는 경로가 가장 짧습니다."
   ]
  },
  {
   "cell_type": "markdown",
   "metadata": {},
   "source": [
    "# 풀이"
   ]
  },
  {
   "cell_type": "code",
   "execution_count": 1,
   "metadata": {},
   "outputs": [],
   "source": [
    "from collections import deque\n",
    "\n",
    "def solution(rectangle, characterX, characterY, itemX, itemY):\n",
    "    answer = 0\n",
    "    \n",
    "    # 제한사항에서 모든 좌표값은 1 이상 50 이하라고 했고 2배의 좌표를 그려야 하므로 102*102 크기의 2차원 배열 선언\n",
    "    field = [[-1] * 102 for i in range(102)]\n",
    "    \n",
    "    # 직사각형 그리기\n",
    "    for r in rectangle:\n",
    "    \t# 모든 좌표값 2배\n",
    "        x1, y1, x2, y2 = map(lambda x: x*2, r)\n",
    "        # x1부터 x2, y1부터 y2까지 순회\n",
    "        for i in range(x1, x2+1):\n",
    "            for j in range(y1, y2+1):\n",
    "            \t# x1, x2, y1, y2는 테두리이므로 제외하고 내부만 0으로 채움\n",
    "                if x1 < i < x2 and y1 < j < y2:\n",
    "                    field[i][j] = 0\n",
    "                # 다른 직사각형의 내부가 아니면서 테두리일 때 1로 채움\n",
    "                elif field[i][j] != 0:\n",
    "                    field[i][j] = 1\n",
    "                    \n",
    "    dx = [-1, 1, 0, 0]\n",
    "    dy = [0, 0, -1, 1]\n",
    "    \n",
    "    # 큐에 캐릭터 출발지점 추가 & 최단거리를 적어줄 visited 배열 선언\n",
    "    q = deque()\n",
    "    q.append([characterX * 2, characterY * 2])\n",
    "    visited = [[1] * 102 for i in range(102)]\n",
    "    \n",
    "    while q:\n",
    "        x, y = q.popleft()\n",
    "        # 도착한 곳이 아이템이 있는 장소라면 현재의 최단거리(나누기 2)를 answer로 하고 while문을 빠져나옴\n",
    "        if x == itemX * 2 and y == itemY * 2:\n",
    "            answer = visited[x][y] // 2\n",
    "            break\n",
    "        # 아니라면 상하좌우 네 방향을 체크하면서\n",
    "        for k in range(4):\n",
    "            nx = x + dx[k]\n",
    "            ny = y + dy[k]\n",
    "            # 현재 좌표가 테두리이고 아직 방문하지 않은 곳이라면 q에 추가 후 visited 최단거리로 갱신\n",
    "            if field[nx][ny] == 1 and visited[nx][ny] == 1:\n",
    "                q.append([nx, ny])\n",
    "                visited[nx][ny] = visited[x][y] + 1\n",
    "    \n",
    "    return answer"
   ]
  },
  {
   "cell_type": "code",
   "execution_count": 2,
   "metadata": {},
   "outputs": [
    {
     "data": {
      "text/plain": [
       "17"
      ]
     },
     "execution_count": 2,
     "metadata": {},
     "output_type": "execute_result"
    }
   ],
   "source": [
    "solution([[1,1,7,4],[3,2,5,5],[4,3,6,9],[2,6,8,8]], 1, 3, 7, 8)"
   ]
  },
  {
   "cell_type": "code",
   "execution_count": 3,
   "metadata": {},
   "outputs": [
    {
     "data": {
      "text/plain": [
       "11"
      ]
     },
     "execution_count": 3,
     "metadata": {},
     "output_type": "execute_result"
    }
   ],
   "source": [
    "solution([[1,1,8,4],[2,2,4,9],[3,6,9,8],[6,3,7,7]], 9, 7, 6, 1)"
   ]
  },
  {
   "cell_type": "code",
   "execution_count": 4,
   "metadata": {},
   "outputs": [
    {
     "data": {
      "text/plain": [
       "9"
      ]
     },
     "execution_count": 4,
     "metadata": {},
     "output_type": "execute_result"
    }
   ],
   "source": [
    "solution([[1,1,5,7]], 1, 1, 4, 7)"
   ]
  },
  {
   "cell_type": "code",
   "execution_count": 5,
   "metadata": {},
   "outputs": [
    {
     "data": {
      "text/plain": [
       "15"
      ]
     },
     "execution_count": 5,
     "metadata": {},
     "output_type": "execute_result"
    }
   ],
   "source": [
    "solution([[2,1,7,5],[6,4,10,10]], 3, 1, 7, 10)"
   ]
  },
  {
   "cell_type": "code",
   "execution_count": 6,
   "metadata": {},
   "outputs": [
    {
     "data": {
      "text/plain": [
       "10"
      ]
     },
     "execution_count": 6,
     "metadata": {},
     "output_type": "execute_result"
    }
   ],
   "source": [
    "solution([[2,2,5,5],[1,3,6,4],[3,1,4,6]], 1, 4, 6, 3)"
   ]
  }
 ],
 "metadata": {
  "kernelspec": {
   "display_name": "Python 3",
   "language": "python",
   "name": "python3"
  },
  "language_info": {
   "codemirror_mode": {
    "name": "ipython",
    "version": 3
   },
   "file_extension": ".py",
   "mimetype": "text/x-python",
   "name": "python",
   "nbconvert_exporter": "python",
   "pygments_lexer": "ipython3",
   "version": "3.7.6"
  }
 },
 "nbformat": 4,
 "nbformat_minor": 4
}
