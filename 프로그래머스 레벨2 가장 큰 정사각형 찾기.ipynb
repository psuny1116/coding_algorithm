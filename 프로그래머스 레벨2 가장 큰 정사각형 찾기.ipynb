{
 "cells": [
  {
   "cell_type": "markdown",
   "metadata": {},
   "source": [
    "# 가장 큰 정사각형 찾기\n",
    "\n",
    "## 문제 설명\n",
    "\n",
    "- 1와 0로 채워진 표(board)가 있습니다. 표 1칸은 1 x 1 의 정사각형으로 이루어져 있습니다. \n",
    "- 표에서 1로 이루어진 가장 큰 정사각형을 찾아 넓이를 return 하는 solution 함수를 완성해 주세요. (단, 정사각형이란 축에 평행한 정사각형을 말합니다.)\n",
    "\n",
    "- 예를 들어\n",
    "\n",
    "1|\t2|\t3|\t4\n",
    "-|-|-|-\n",
    "0|\t1|\t1|\t1|\n",
    "1|\t1|\t1|\t1|\n",
    "1|\t1|\t1|\t1|\n",
    "0|\t0|\t1|\t0|\n",
    "\n",
    "- 가 있다면 가장 큰 정사각형의 넓이는 9가 되므로 9를 반환해 주면 됩니다.\n",
    "\n",
    "## 제한사항\n",
    "\n",
    "- 표(board)는 2차원 배열로 주어집니다.\n",
    "- 표(board)의 행(row)의 크기 : 1,000 이하의 자연수\n",
    "- 표(board)의 열(column)의 크기 : 1,000 이하의 자연수\n",
    "- 표(board)의 값은 1또는 0으로만 이루어져 있습니다.\n",
    "\n",
    "## 입출력 예\n",
    "\n",
    "board|\tanswer\n",
    "-|-\n",
    "[[0,1,1,1],[1,1,1,1],[1,1,1,1],[0,0,1,0]]|\t9\n",
    "[[0,0,1,1],[1,1,1,1]]|\t4\n",
    "\n",
    "## 입출력 예 설명\n",
    "### 입출력 예 #1\n",
    "- 위의 예시와 같습니다.\n",
    "\n",
    "### 입출력 예 #2\n",
    "\n",
    "1|2|3|4\n",
    "-|-|-|-\n",
    "0 | 0 | 1 | 1 \n",
    "1 | 1 | 1 | 1 \n",
    "\n",
    "- 로 가장 큰 정사각형의 넓이는 4가 되므로 4를 return합니다."
   ]
  },
  {
   "cell_type": "markdown",
   "metadata": {},
   "source": [
    "# 풀이"
   ]
  },
  {
   "cell_type": "code",
   "execution_count": 1,
   "metadata": {},
   "outputs": [],
   "source": [
    "def solution(board):\n",
    "    answer = 0\n",
    "    \n",
    "    for i in range(1, len(board)):\n",
    "        for j in range(1, len(board[0])):\n",
    "            if board[i][j] == 1:\n",
    "                board[i][j] += min(board[i - 1][j - 1], board[i][j - 1], board[i - 1][j])\n",
    "   \n",
    "    for i in board:\n",
    "        if answer < max(i):\n",
    "            answer = max(i)\n",
    "            \n",
    "    return answer ** 2"
   ]
  },
  {
   "cell_type": "code",
   "execution_count": 2,
   "metadata": {},
   "outputs": [
    {
     "data": {
      "text/plain": [
       "9"
      ]
     },
     "execution_count": 2,
     "metadata": {},
     "output_type": "execute_result"
    }
   ],
   "source": [
    "solution([[0,1,1,1],[1,1,1,1],[1,1,1,1],[0,0,1,0]])"
   ]
  },
  {
   "cell_type": "code",
   "execution_count": 3,
   "metadata": {},
   "outputs": [
    {
     "data": {
      "text/plain": [
       "4"
      ]
     },
     "execution_count": 3,
     "metadata": {},
     "output_type": "execute_result"
    }
   ],
   "source": [
    "solution([[0,0,1,1],[1,1,1,1]])"
   ]
  },
  {
   "cell_type": "markdown",
   "metadata": {},
   "source": [
    "# 다른 풀이"
   ]
  },
  {
   "cell_type": "code",
   "execution_count": 4,
   "metadata": {},
   "outputs": [],
   "source": [
    "def solution(board):\n",
    "    row = len(board)\n",
    "    col = len(board[0])\n",
    "    \n",
    "    for i in range(row):\n",
    "        for j in range(col):\n",
    "            if i == 0 or j == 0:\n",
    "                continue\n",
    "            if board[i][j] == 1:\n",
    "                board[i][j] += min(board[i - 1][j - 1], board[i - 1][j], board[i][j - 1])\n",
    "    answer = []\n",
    "    \n",
    "    for i in range(row):\n",
    "        answer.append(max(board[i]))\n",
    "    return max(answer) ** 2"
   ]
  },
  {
   "cell_type": "code",
   "execution_count": 5,
   "metadata": {},
   "outputs": [
    {
     "data": {
      "text/plain": [
       "9"
      ]
     },
     "execution_count": 5,
     "metadata": {},
     "output_type": "execute_result"
    }
   ],
   "source": [
    "solution([[0,1,1,1],[1,1,1,1],[1,1,1,1],[0,0,1,0]])"
   ]
  },
  {
   "cell_type": "code",
   "execution_count": 6,
   "metadata": {},
   "outputs": [
    {
     "data": {
      "text/plain": [
       "4"
      ]
     },
     "execution_count": 6,
     "metadata": {},
     "output_type": "execute_result"
    }
   ],
   "source": [
    "solution([[0,0,1,1],[1,1,1,1]])"
   ]
  }
 ],
 "metadata": {
  "kernelspec": {
   "display_name": "Python 3",
   "language": "python",
   "name": "python3"
  },
  "language_info": {
   "codemirror_mode": {
    "name": "ipython",
    "version": 3
   },
   "file_extension": ".py",
   "mimetype": "text/x-python",
   "name": "python",
   "nbconvert_exporter": "python",
   "pygments_lexer": "ipython3",
   "version": "3.7.6"
  }
 },
 "nbformat": 4,
 "nbformat_minor": 4
}
