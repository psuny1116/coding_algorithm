{
 "cells": [
  {
   "cell_type": "markdown",
   "metadata": {},
   "source": [
    "# 도둑질_레벨4 동적계획법(DP)\n",
    "\n",
    "## 문제 설명\n",
    "\n",
    "- 도둑이 어느 마을을 털 계획을 하고 있습니다. \n",
    "- 이 마을의 모든 집들은 아래 그림과 같이 동그랗게 배치되어 있습니다.\n",
    "- .\n",
    "- .\n",
    "- .\n",
    "- .\n",
    "- .\n",
    "- 각 집들은 서로 인접한 집들과 방범장치가 연결되어 있기 때문에 인접한 두 집을 털면 경보가 울립니다.\n",
    "- 각 집에 있는 돈이 담긴 배열 money가 주어질 때, 도둑이 훔칠 수 있는 돈의 최댓값을 return 하도록 solution 함수를 작성하세요.\n",
    "\n",
    "## 제한사항\n",
    "\n",
    "- 이 마을에 있는 집은 3개 이상 1,000,000개 이하입니다.\n",
    "- money 배열의 각 원소는 0 이상 1,000 이하인 정수입니다.\n",
    "\n",
    "### 입출력 예\n",
    "\n",
    "money|\treturn\n",
    "-|-\n",
    "[1, 2, 3, 1]|\t4"
   ]
  },
  {
   "cell_type": "markdown",
   "metadata": {},
   "source": [
    "# 풀이1"
   ]
  },
  {
   "cell_type": "code",
   "execution_count": 1,
   "metadata": {},
   "outputs": [],
   "source": [
    "def solution(a):\n",
    "    x1, y1, z1 = a[0], a[1], a[0]+a[2]\n",
    "    x2, y2, z2 = 0, a[1], a[2]\n",
    "    for i in a[3:]:\n",
    "        x1, y1, z1 = y1, z1, max(x1, y1)+i\n",
    "        x2, y2, z2 = y2, z2, max(x2, y2)+i\n",
    "    return max(x1, y1, y2, z2)"
   ]
  },
  {
   "cell_type": "code",
   "execution_count": 2,
   "metadata": {},
   "outputs": [
    {
     "data": {
      "text/plain": [
       "4"
      ]
     },
     "execution_count": 2,
     "metadata": {},
     "output_type": "execute_result"
    }
   ],
   "source": [
    "solution([1, 2, 3, 1])"
   ]
  },
  {
   "cell_type": "markdown",
   "metadata": {},
   "source": [
    "# 풀이2"
   ]
  },
  {
   "cell_type": "code",
   "execution_count": 3,
   "metadata": {},
   "outputs": [],
   "source": [
    "def solution(money):\n",
    "    answer = 0\n",
    "\n",
    "    dp1 = [] # 첫 집을 털었을 때\n",
    "    dp2 = [] # 첫 집을 안 털고 두 번째 집을 털었을 때\n",
    "    dp3 = [] # 첫 집과 두 번째 집을 안 털었을 때\n",
    "    for i in money:\n",
    "        dp1.append(0)\n",
    "        dp2.append(0)\n",
    "        dp3.append(0)\n",
    "    dp1[0] = money[0]\n",
    "    dp1[1] = dp1[0]\n",
    "    dp2[1] = money[1]\n",
    "\n",
    "    for i in range(2, len(money) - 1):\n",
    "        dp1[i] = max(dp1[i - 1], dp1[i - 2] + money[i])\n",
    "        dp2[i] = max(dp2[i - 1], dp2[i - 2] + money[i])\n",
    "        dp3[i] = max(dp3[i - 1], dp3[i - 2] + money[i])\n",
    "    e = len(money) - 1\n",
    "    dp1[e] = dp1[e - 1]\n",
    "    dp2[e] = max(dp2[e - 1], dp2[e - 2] + money[e])\n",
    "    dp3[e] = max(dp3[e - 1], dp3[e - 2] + money[e])\n",
    "    answer = max(dp1[e], dp2[e], dp3[e])\n",
    "\n",
    "    return answer\n"
   ]
  },
  {
   "cell_type": "code",
   "execution_count": 4,
   "metadata": {},
   "outputs": [
    {
     "data": {
      "text/plain": [
       "4"
      ]
     },
     "execution_count": 4,
     "metadata": {},
     "output_type": "execute_result"
    }
   ],
   "source": [
    "solution([1, 2, 3, 1])"
   ]
  }
 ],
 "metadata": {
  "kernelspec": {
   "display_name": "Python 3",
   "language": "python",
   "name": "python3"
  },
  "language_info": {
   "codemirror_mode": {
    "name": "ipython",
    "version": 3
   },
   "file_extension": ".py",
   "mimetype": "text/x-python",
   "name": "python",
   "nbconvert_exporter": "python",
   "pygments_lexer": "ipython3",
   "version": "3.7.6"
  }
 },
 "nbformat": 4,
 "nbformat_minor": 4
}
