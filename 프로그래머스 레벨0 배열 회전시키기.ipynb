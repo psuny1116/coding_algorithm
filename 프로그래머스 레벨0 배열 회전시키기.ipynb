{
 "cells": [
  {
   "cell_type": "markdown",
   "metadata": {},
   "source": [
    "# 배열 회전시키기_레벨0\n",
    "\n",
    "## 문제 설명\n",
    "\n",
    "- 정수가 담긴 배열 numbers와 문자열 direction가 매개변수로 주어집니다. \n",
    "- 배열 numbers의 원소를 direction방향으로 한 칸씩 회전시킨 배열을 return하도록 solution 함수를 완성해주세요.\n",
    "\n",
    "## 제한사항\n",
    "\n",
    "- 3 ≤ numbers의 길이 ≤ 20\n",
    "- direction은 \"left\" 와 \"right\" 둘 중 하나입니다.\n",
    "\n",
    "## 입출력 예\n",
    "\n",
    "numbers|\tdirection|\tresult\n",
    "-|-|-\n",
    "[1, 2, 3]|\t\"right\"|\t[3, 1, 2]\n",
    "[4, 455, 6, 4, -1, 45, 6]|\t\"left\"|\t[455, 6, 4, -1, 45, 6, 4]\n",
    "\n",
    "## 입출력 예 설명\n",
    "\n",
    "### 입출력 예 #1\n",
    "\n",
    "- numbers 가 [1, 2, 3]이고 direction이 \"right\" 이므로 오른쪽으로 한 칸씩 회전시킨 [3, 1, 2]를 return합니다.\n",
    "\n",
    "### 입출력 예 #2\n",
    "\n",
    "- numbers 가 [4, 455, 6, 4, -1, 45, 6]이고 direction이 \"left\" 이므로 왼쪽으로 한 칸씩 회전시킨 [455, 6, 4, -1, 45, 6, 4]를 return합니다."
   ]
  },
  {
   "cell_type": "markdown",
   "metadata": {},
   "source": [
    "# 풀이"
   ]
  },
  {
   "cell_type": "code",
   "execution_count": 150,
   "metadata": {},
   "outputs": [],
   "source": [
    "def solution(numbers, direction):\n",
    "    answer = []\n",
    "    if direction == 'right':\n",
    "        answer.append(numbers[-1])\n",
    "        for i in range(len(numbers) - 1):\n",
    "            answer.append(numbers[i])\n",
    "    else:\n",
    "        for i in range(1, len(numbers)):\n",
    "            answer.append(numbers[i])\n",
    "        answer.append(numbers[0])\n",
    "    return answer"
   ]
  },
  {
   "cell_type": "code",
   "execution_count": 151,
   "metadata": {},
   "outputs": [
    {
     "data": {
      "text/plain": [
       "[3, 1, 2]"
      ]
     },
     "execution_count": 151,
     "metadata": {},
     "output_type": "execute_result"
    }
   ],
   "source": [
    "solution([1, 2, 3], 'right')     # [3, 1, 2]"
   ]
  },
  {
   "cell_type": "code",
   "execution_count": 152,
   "metadata": {},
   "outputs": [
    {
     "data": {
      "text/plain": [
       "[455, 6, 4, -1, 45, 6, 4]"
      ]
     },
     "execution_count": 152,
     "metadata": {},
     "output_type": "execute_result"
    }
   ],
   "source": [
    "solution([4, 455, 6, 4, -1, 45, 6], \"left\")     # [455, 6, 4, -1, 45, 6, 4]"
   ]
  },
  {
   "cell_type": "markdown",
   "metadata": {},
   "source": [
    "# 풀이2"
   ]
  },
  {
   "cell_type": "code",
   "execution_count": 1,
   "metadata": {},
   "outputs": [],
   "source": [
    "def solution(numbers, direction):\n",
    "    return [numbers[-1]] + numbers[:-1] if direction == 'right' else numbers[1:] + [numbers[0]]"
   ]
  },
  {
   "cell_type": "code",
   "execution_count": 2,
   "metadata": {},
   "outputs": [
    {
     "data": {
      "text/plain": [
       "[3, 1, 2]"
      ]
     },
     "execution_count": 2,
     "metadata": {},
     "output_type": "execute_result"
    }
   ],
   "source": [
    "solution([1, 2, 3], 'right')"
   ]
  },
  {
   "cell_type": "code",
   "execution_count": 3,
   "metadata": {},
   "outputs": [
    {
     "data": {
      "text/plain": [
       "[455, 6, 4, -1, 45, 6, 4]"
      ]
     },
     "execution_count": 3,
     "metadata": {},
     "output_type": "execute_result"
    }
   ],
   "source": [
    "solution([4, 455, 6, 4, -1, 45, 6], \"left\") "
   ]
  }
 ],
 "metadata": {
  "kernelspec": {
   "display_name": "Python 3",
   "language": "python",
   "name": "python3"
  },
  "language_info": {
   "codemirror_mode": {
    "name": "ipython",
    "version": 3
   },
   "file_extension": ".py",
   "mimetype": "text/x-python",
   "name": "python",
   "nbconvert_exporter": "python",
   "pygments_lexer": "ipython3",
   "version": "3.7.6"
  }
 },
 "nbformat": 4,
 "nbformat_minor": 4
}
