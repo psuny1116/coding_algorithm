{
 "cells": [
  {
   "cell_type": "markdown",
   "metadata": {},
   "source": [
    "# 방문 길이\n",
    "\n",
    "## 문제 설명\n",
    "\n",
    "- 게임 캐릭터를 4가지 명령어를 통해 움직이려 합니다. 명령어는 다음과 같습니다.\n",
    "- U: 위쪽으로 한 칸 가기\n",
    "- D: 아래쪽으로 한 칸 가기\n",
    "- R: 오른쪽으로 한 칸 가기\n",
    "- L: 왼쪽으로 한 칸 가기\n",
    "\n",
    "- 캐릭터는 좌표평면의 (0, 0) 위치에서 시작합니다. 좌표평면의 경계는 왼쪽 위(-5, 5), 왼쪽 아래(-5, -5), 오른쪽 위(5, 5), 오른쪽 아래(5, -5)로 이루어져 있습니다.\n",
    "- 이때, 우리는 게임 캐릭터가 지나간 길 중 캐릭터가 처음 걸어본 길의 길이를 구하려고 합니다. 예를 들어 \"ULURRDLLU\"로 명령했다면 게임 캐릭터가 움직인 길이는 9이지만, 캐릭터가 처음 걸어본 길의 길이는 7이 됩니다. (8, 9번 명령어에서 움직인 길은 2, 3번 명령어에서 이미 거쳐 간 길입니다)\n",
    "\n",
    "- 단, 좌표평면의 경계를 넘어가는 명령어는 무시합니다.\n",
    "- 예를 들어, \"LULLLLLLU\"로 명령했다면\n",
    "- 1번 명령어부터 6번 명령어대로 움직인 후, 7, 8번 명령어는 무시합니다. 다시 9번 명령어대로 움직입니다.\n",
    "- 이때 캐릭터가 처음 걸어본 길의 길이는 7이 됩니다.\n",
    "\n",
    "- 명령어가 매개변수 dirs로 주어질 때, 게임 캐릭터가 처음 걸어본 길의 길이를 구하여 return 하는 solution 함수를 완성해 주세요.\n",
    "\n",
    "## 제한사항\n",
    "-  dirs는 string형으로 주어지며, 'U', 'D', 'R', 'L' 이외에 문자는 주어지지 않습니다.\n",
    "- dirs의 길이는 500 이하의 자연수입니다.\n",
    "\n",
    "## 입출력 예\n",
    "\n",
    "dirs|\tanswer\n",
    "-|-\n",
    "\"ULURRDLLU\"|\t7\n",
    "\"LULLLLLLU\"|\t7"
   ]
  },
  {
   "cell_type": "markdown",
   "metadata": {},
   "source": [
    "# 풀이"
   ]
  },
  {
   "cell_type": "code",
   "execution_count": 4,
   "metadata": {},
   "outputs": [],
   "source": [
    "def solution(dirs):\n",
    "    visit = set()     # 중복을 허용하지 않으므로 set으로 설정\n",
    "    x = 0\n",
    "    y = 0\n",
    "    \n",
    "    for d in dirs:\n",
    "        if d == 'U' and y < 5:     # x, y는 (-5, -5) ~ (5, 5) 위에서만 움직일 수 있음\n",
    "            visit.add(((x, y), (x, y + 1)))\n",
    "            y += 1\n",
    "        elif d == 'D' and y > -5:\n",
    "            visit.add(((x, y - 1), (x, y)))     # 집합에선 ((0, 0), (1, 1)) 과 ((1, 1), (0, 0))이 다르므로\n",
    "            y -= 1                              ## (x1, y1) < (x2, y2)가 되게 작성해야 함\n",
    "        elif d == 'R' and x < 5:\n",
    "            visit.add(((x, y), (x + 1, y)))\n",
    "            x += 1\n",
    "        elif d == 'L' and x > -5:\n",
    "            visit.add(((x - 1, y), (x, y)))\n",
    "            x -= 1\n",
    "            \n",
    "    return len(visit)"
   ]
  },
  {
   "cell_type": "code",
   "execution_count": 5,
   "metadata": {},
   "outputs": [
    {
     "data": {
      "text/plain": [
       "7"
      ]
     },
     "execution_count": 5,
     "metadata": {},
     "output_type": "execute_result"
    }
   ],
   "source": [
    "solution(\"ULURRDLLU\")"
   ]
  },
  {
   "cell_type": "code",
   "execution_count": 6,
   "metadata": {},
   "outputs": [
    {
     "data": {
      "text/plain": [
       "7"
      ]
     },
     "execution_count": 6,
     "metadata": {},
     "output_type": "execute_result"
    }
   ],
   "source": [
    "solution(\"LULLLLLLU\")"
   ]
  }
 ],
 "metadata": {
  "kernelspec": {
   "display_name": "Python 3",
   "language": "python",
   "name": "python3"
  },
  "language_info": {
   "codemirror_mode": {
    "name": "ipython",
    "version": 3
   },
   "file_extension": ".py",
   "mimetype": "text/x-python",
   "name": "python",
   "nbconvert_exporter": "python",
   "pygments_lexer": "ipython3",
   "version": "3.7.6"
  }
 },
 "nbformat": 4,
 "nbformat_minor": 4
}
