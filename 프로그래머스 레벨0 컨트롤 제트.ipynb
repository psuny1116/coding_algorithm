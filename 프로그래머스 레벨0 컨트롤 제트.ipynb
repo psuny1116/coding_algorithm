{
 "cells": [
  {
   "cell_type": "markdown",
   "metadata": {},
   "source": [
    "# 컨트롤 제트_레벨0\n",
    "\n",
    "## 문제 설명\n",
    "\n",
    "- 숫자와 \"Z\"가 공백으로 구분되어 담긴 문자열이 주어집니다. \n",
    "- 문자열에 있는 숫자를 차례대로 더하려고 합니다. \n",
    "- 이 때 \"Z\"가 나오면 바로 전에 더했던 숫자를 뺀다는 뜻입니다. \n",
    "- 숫자와 \"Z\"로 이루어진 문자열 s가 주어질 때, 머쓱이가 구한 값을 return 하도록 solution 함수를 완성해보세요.\n",
    "\n",
    "## 제한사항\n",
    "\n",
    "- 1 ≤ s의 길이 ≤ 200\n",
    "- -1,000 < s의 원소 중 숫자 < 1,000\n",
    "- s는 숫자, \"Z\", 공백으로 이루어져 있습니다.\n",
    "- s에 있는 숫자와 \"Z\"는 서로 공백으로 구분됩니다.\n",
    "- 연속된 공백은 주어지지 않습니다.\n",
    "- 0을 제외하고는 0으로 시작하는 숫자는 없습니다.\n",
    "- s는 \"Z\"로 시작하지 않습니다.\n",
    "- s의 시작과 끝에는 공백이 없습니다.\n",
    "- \"Z\"가 연속해서 나오는 경우는 없습니다.\n",
    "\n",
    "## 입출력 예\n",
    "\n",
    "s|\tresult\n",
    "-|-\n",
    "\"1 2 Z 3\"|\t4\n",
    "\"10 20 30 40\"|\t100\n",
    "\"10 Z 20 Z 1\"|\t1\n",
    "\"10 Z 20 Z\"|\t0\n",
    "\"-1 -2 -3 Z\"|\t-3\n",
    "\n",
    "## 입출력 예 설명\n",
    "\n",
    "### 입출력 예 #1\n",
    "\n",
    "- 본문과 동일합니다.\n",
    "\n",
    "### 입출력 예 #2\n",
    "\n",
    "- 10 + 20 + 30 + 40 = 100을 return 합니다.\n",
    "\n",
    "### 입출력 예 #3\n",
    "\n",
    "- \"10 Z 20 Z 1\"에서 10 다음 Z, 20 다음 Z로 10, 20이 지워지고 1만 더하여 1을 return 합니다.\n",
    "\n",
    "### 입출력 예 #4, #5\n",
    "\n",
    "- 설명 생략"
   ]
  },
  {
   "cell_type": "markdown",
   "metadata": {},
   "source": [
    "# 풀이"
   ]
  },
  {
   "cell_type": "code",
   "execution_count": 43,
   "metadata": {},
   "outputs": [],
   "source": [
    "def solution(s):\n",
    "    answer = 0\n",
    "    s = s.split()\n",
    "    for i in range(len(s)):\n",
    "        if s[i] == 'Z':\n",
    "            answer -= int(s[i-1])\n",
    "        else:\n",
    "            answer += int(s[i])\n",
    "    return answer"
   ]
  },
  {
   "cell_type": "code",
   "execution_count": 44,
   "metadata": {},
   "outputs": [
    {
     "data": {
      "text/plain": [
       "4"
      ]
     },
     "execution_count": 44,
     "metadata": {},
     "output_type": "execute_result"
    }
   ],
   "source": [
    "solution(\"1 2 Z 3\")     # 4"
   ]
  },
  {
   "cell_type": "code",
   "execution_count": 45,
   "metadata": {},
   "outputs": [
    {
     "data": {
      "text/plain": [
       "100"
      ]
     },
     "execution_count": 45,
     "metadata": {},
     "output_type": "execute_result"
    }
   ],
   "source": [
    "solution(\"10 20 30 40\")     # 100"
   ]
  },
  {
   "cell_type": "code",
   "execution_count": 46,
   "metadata": {},
   "outputs": [
    {
     "data": {
      "text/plain": [
       "1"
      ]
     },
     "execution_count": 46,
     "metadata": {},
     "output_type": "execute_result"
    }
   ],
   "source": [
    "solution(\"10 Z 20 Z 1\")     # 1"
   ]
  },
  {
   "cell_type": "code",
   "execution_count": 47,
   "metadata": {},
   "outputs": [
    {
     "data": {
      "text/plain": [
       "0"
      ]
     },
     "execution_count": 47,
     "metadata": {},
     "output_type": "execute_result"
    }
   ],
   "source": [
    "solution(\"10 Z 20 Z\")     # 0"
   ]
  },
  {
   "cell_type": "code",
   "execution_count": 48,
   "metadata": {},
   "outputs": [
    {
     "data": {
      "text/plain": [
       "-3"
      ]
     },
     "execution_count": 48,
     "metadata": {},
     "output_type": "execute_result"
    }
   ],
   "source": [
    "solution(\"-1 -2 -3 Z\")      # -3"
   ]
  }
 ],
 "metadata": {
  "kernelspec": {
   "display_name": "Python 3",
   "language": "python",
   "name": "python3"
  },
  "language_info": {
   "codemirror_mode": {
    "name": "ipython",
    "version": 3
   },
   "file_extension": ".py",
   "mimetype": "text/x-python",
   "name": "python",
   "nbconvert_exporter": "python",
   "pygments_lexer": "ipython3",
   "version": "3.7.6"
  }
 },
 "nbformat": 4,
 "nbformat_minor": 4
}
