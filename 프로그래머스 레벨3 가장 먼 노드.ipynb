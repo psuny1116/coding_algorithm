{
 "cells": [
  {
   "cell_type": "markdown",
   "metadata": {},
   "source": [
    "# 가장 먼 노드_레벨3 그래프\n",
    "\n",
    "## 문제 설명\n",
    "\n",
    "- n개의 노드가 있는 그래프가 있습니다. \n",
    "- 각 노드는 1부터 n까지 번호가 적혀있습니다. \n",
    "- 1번 노드에서 가장 멀리 떨어진 노드의 갯수를 구하려고 합니다. \n",
    "- 가장 멀리 떨어진 노드란 최단경로로 이동했을 때 간선의 개수가 가장 많은 노드들을 의미합니다.\n",
    "- 노드의 개수 n, 간선에 대한 정보가 담긴 2차원 배열 vertex가 매개변수로 주어질 때, 1번 노드로부터 가장 멀리 떨어진 노드가 몇 개인지를 return 하도록 solution 함수를 작성해주세요.\n",
    "\n",
    "## 제한사항\n",
    "\n",
    "- 노드의 개수 n은 2 이상 20,000 이하입니다.\n",
    "- 간선은 양방향이며 총 1개 이상 50,000개 이하의 간선이 있습니다.\n",
    "- vertex 배열 각 행 [a, b]는 a번 노드와 b번 노드 사이에 간선이 있다는 의미입니다.\n",
    "\n",
    "### 입출력 예\n",
    "\n",
    "n|\tvertex|\treturn\n",
    "-|-|-\n",
    "6|\t[[3, 6], [4, 3], [3, 2], [1, 3], [1, 2], [2, 4], [5, 2]]|\t3\n",
    "\n",
    "### 입출력 예 설명\n",
    "\n",
    "- 예제의 그래프를 표현하면 아래 그림과 같고, 1번 노드에서 가장 멀리 떨어진 노드는 4,5,6번 노드입니다.\n",
    "- .\n",
    "- .\n",
    "- .\n",
    "- .\n",
    "- ."
   ]
  },
  {
   "cell_type": "markdown",
   "metadata": {},
   "source": [
    "# 풀이1"
   ]
  },
  {
   "cell_type": "code",
   "execution_count": 1,
   "metadata": {},
   "outputs": [],
   "source": [
    "def solution(n, edge):\n",
    "    graph =[  [] for _ in range(n + 1) ]\n",
    "    distances = [ 0 for _ in range(n) ]\n",
    "    is_visit = [False for _ in range(n)]\n",
    "    queue = [0]\n",
    "    is_visit[0] = True\n",
    "    for (a, b) in edge:\n",
    "        graph[a-1].append(b-1)\n",
    "        graph[b-1].append(a-1)\n",
    "\n",
    "    while queue:\n",
    "        i = queue.pop(0)\n",
    "\n",
    "        for j in graph[i]:\n",
    "            if is_visit[j] == False:\n",
    "                is_visit[j] = True\n",
    "                queue.append(j)\n",
    "                distances[j] = distances[i] + 1\n",
    "\n",
    "    distances.sort(reverse=True)\n",
    "    answer = distances.count(distances[0])\n",
    "\n",
    "    return answer\n"
   ]
  },
  {
   "cell_type": "code",
   "execution_count": 2,
   "metadata": {},
   "outputs": [
    {
     "data": {
      "text/plain": [
       "3"
      ]
     },
     "execution_count": 2,
     "metadata": {},
     "output_type": "execute_result"
    }
   ],
   "source": [
    "solution(6, [[3, 6], [4, 3], [3, 2], [1, 3], [1, 2], [2, 4], [5, 2]])"
   ]
  }
 ],
 "metadata": {
  "kernelspec": {
   "display_name": "Python 3",
   "language": "python",
   "name": "python3"
  },
  "language_info": {
   "codemirror_mode": {
    "name": "ipython",
    "version": 3
   },
   "file_extension": ".py",
   "mimetype": "text/x-python",
   "name": "python",
   "nbconvert_exporter": "python",
   "pygments_lexer": "ipython3",
   "version": "3.7.6"
  }
 },
 "nbformat": 4,
 "nbformat_minor": 4
}
