{
 "cells": [
  {
   "cell_type": "markdown",
   "metadata": {},
   "source": [
    "# 특정 문자 제거하기_레벨0\n",
    "\n",
    "## 문제 설명\n",
    "\n",
    "- 문자열 my_string과 문자 letter이 매개변수로 주어집니다. \n",
    "- my_string에서 letter를 제거한 문자열을 return하도록 solution 함수를 완성해주세요.\n",
    "\n",
    "## 제한사항\n",
    "\n",
    "- 1 ≤ my_string의 길이 ≤ 100\n",
    "- letter은 길이가 1인 영문자입니다.\n",
    "- my_string과 letter은 알파벳 대소문자로 이루어져 있습니다.\n",
    "- 대문자와 소문자를 구분합니다.\n",
    "\n",
    "## 입출력 예\n",
    "\n",
    "my_string|\tletter|\tresult\n",
    "-|-|-\n",
    "\"abcdef\"|\t\"f\"|\t\"abcde\"\n",
    "\"BCBdbe\"|\t\"B\"|\t\"Cdbe\"\n",
    "\n",
    "## 입출력 예 설명\n",
    "\n",
    "### 입출력 예 #1\n",
    "\n",
    "- \"abcdef\" 에서 \"f\"를 제거한 \"abcde\"를 return합니다.\n",
    "\n",
    "### 입출력 예 #2\n",
    "\n",
    "- \"BCBdbe\" 에서 \"B\"를 모두 제거한 \"Cdbe\"를 return합니다."
   ]
  },
  {
   "cell_type": "markdown",
   "metadata": {},
   "source": [
    "# 풀이"
   ]
  },
  {
   "cell_type": "code",
   "execution_count": 42,
   "metadata": {},
   "outputs": [],
   "source": [
    "def solution(my_string, letter):\n",
    "    return my_string.replace(letter, '')"
   ]
  },
  {
   "cell_type": "code",
   "execution_count": 43,
   "metadata": {},
   "outputs": [
    {
     "data": {
      "text/plain": [
       "'abcde'"
      ]
     },
     "execution_count": 43,
     "metadata": {},
     "output_type": "execute_result"
    }
   ],
   "source": [
    "solution('abcdef', 'f')     # 'abcde'"
   ]
  },
  {
   "cell_type": "code",
   "execution_count": 44,
   "metadata": {},
   "outputs": [
    {
     "data": {
      "text/plain": [
       "'Cdbe'"
      ]
     },
     "execution_count": 44,
     "metadata": {},
     "output_type": "execute_result"
    }
   ],
   "source": [
    "solution('BCBdbe', 'B')     # 'Cdbe'"
   ]
  }
 ],
 "metadata": {
  "kernelspec": {
   "display_name": "Python 3",
   "language": "python",
   "name": "python3"
  },
  "language_info": {
   "codemirror_mode": {
    "name": "ipython",
    "version": 3
   },
   "file_extension": ".py",
   "mimetype": "text/x-python",
   "name": "python",
   "nbconvert_exporter": "python",
   "pygments_lexer": "ipython3",
   "version": "3.7.6"
  }
 },
 "nbformat": 4,
 "nbformat_minor": 4
}
