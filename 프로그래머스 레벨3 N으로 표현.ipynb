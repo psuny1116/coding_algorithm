{
 "cells": [
  {
   "cell_type": "markdown",
   "metadata": {},
   "source": [
    "# N으로 표현_레벨3 동적계획법(DP)\n",
    "\n",
    "## 문제 설명\n",
    "\n",
    "- 아래와 같이 5와 사칙연산만으로 12를 표현할 수 있습니다.\n",
    "    - 12 = 5 + 5 + (5 / 5) + (5 / 5)\n",
    "    - 12 = 55 / 5 + 5 / 5\n",
    "    - 12 = (55 + 5) / 5\n",
    "- 5를 사용한 횟수는 각각 6,5,4 입니다. \n",
    "- 그리고 이중 가장 작은 경우는 4입니다.\n",
    "- 이처럼 숫자 N과 number가 주어질 때, N과 사칙연산만 사용해서 표현 할 수 있는 방법 중 N 사용횟수의 최솟값을 return 하도록 solution 함수를 작성하세요.\n",
    "\n",
    "## 제한사항\n",
    "\n",
    "- N은 1 이상 9 이하입니다.\n",
    "- number는 1 이상 32,000 이하입니다.\n",
    "- 수식에는 괄호와 사칙연산만 가능하며 나누기 연산에서 나머지는 무시합니다.\n",
    "- 최솟값이 8보다 크면 -1을 return 합니다.\n",
    "\n",
    "### 입출력 예\n",
    "\n",
    "N|\tnumber|\treturn\n",
    "-|-|-\n",
    "5|\t12|\t4\n",
    "2|\t11| 3\n",
    "\n",
    "### 입출력 예 설명\n",
    "\n",
    "- 예제1\n",
    "    - 문제에 나온 예와 같습니다.\n",
    "\n",
    "- 예제2\n",
    "    - 11 = 22 / 2와 같이 2를 3번만 사용하여 표현할 수 있습니다."
   ]
  },
  {
   "cell_type": "markdown",
   "metadata": {},
   "source": [
    "# 풀이1"
   ]
  },
  {
   "cell_type": "code",
   "execution_count": 1,
   "metadata": {},
   "outputs": [],
   "source": [
    "def solution(N, number):\n",
    "    dp = [[]]\n",
    "\n",
    "    x = 0\n",
    "    for i in range(1, 9):\n",
    "        dp.append(set())\n",
    "        x = 10*x + N\n",
    "        dp[i].add(x) # N, NN, NNN...\n",
    "\n",
    "        for j in range(i):\n",
    "            # 연산자 케이스 \n",
    "            for op1 in dp[j]:\n",
    "                for op2 in dp[i-j]:\n",
    "                    dp[i].add(op1 + op2)\n",
    "                    dp[i].add(op1 - op2)\n",
    "                    dp[i].add(op1 * op2)\n",
    "                    if op2 != 0:\n",
    "                        dp[i].add(op1 // op2)\n",
    "\n",
    "\n",
    "            if number in dp[i]:\n",
    "                return i\n",
    "\n",
    "    return -1"
   ]
  },
  {
   "cell_type": "code",
   "execution_count": 2,
   "metadata": {},
   "outputs": [
    {
     "data": {
      "text/plain": [
       "4"
      ]
     },
     "execution_count": 2,
     "metadata": {},
     "output_type": "execute_result"
    }
   ],
   "source": [
    "solution(5, 12)"
   ]
  },
  {
   "cell_type": "code",
   "execution_count": 3,
   "metadata": {},
   "outputs": [
    {
     "data": {
      "text/plain": [
       "3"
      ]
     },
     "execution_count": 3,
     "metadata": {},
     "output_type": "execute_result"
    }
   ],
   "source": [
    "solution(2, 11)"
   ]
  }
 ],
 "metadata": {
  "kernelspec": {
   "display_name": "Python 3",
   "language": "python",
   "name": "python3"
  },
  "language_info": {
   "codemirror_mode": {
    "name": "ipython",
    "version": 3
   },
   "file_extension": ".py",
   "mimetype": "text/x-python",
   "name": "python",
   "nbconvert_exporter": "python",
   "pygments_lexer": "ipython3",
   "version": "3.7.6"
  }
 },
 "nbformat": 4,
 "nbformat_minor": 4
}
