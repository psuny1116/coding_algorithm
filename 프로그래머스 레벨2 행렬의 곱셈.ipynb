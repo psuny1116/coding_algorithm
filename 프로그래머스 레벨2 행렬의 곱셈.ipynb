{
 "cells": [
  {
   "cell_type": "markdown",
   "metadata": {},
   "source": [
    "# 행렬의 곱셈\n",
    "\n",
    "## 문제 설명\n",
    "\n",
    "- 2차원 행렬 arr1과 arr2를 입력받아, arr1에 arr2를 곱한 결과를 반환하는 함수, solution을 완성해주세요.\n",
    "\n",
    "## 제한 조건\n",
    "\n",
    "- 행렬 arr1, arr2의 행과 열의 길이는 2 이상 100 이하입니다.\n",
    "- 행렬 arr1, arr2의 원소는 -10 이상 20 이하인 자연수입니다.\n",
    "- 곱할 수 있는 배열만 주어집니다.\n",
    "\n",
    "## 입출력 예\n",
    "\n",
    "arr1|\tarr2|\treturn\n",
    "-|-|-\n",
    "[[1, 4], [3, 2], [4, 1]]|\t[[3, 3], [3, 3]]|\t[[15, 15], [15, 15], [15, 15]]\n",
    "[[2, 3, 2], [4, 2, 4], [3, 1, 4]]|\t[[5, 4, 3], [2, 4, 1], [3, 1, 1]]|\t[[22, 22, 11], [36, 28, 18], [29, 20, 14]]"
   ]
  },
  {
   "cell_type": "markdown",
   "metadata": {},
   "source": [
    "# 풀이"
   ]
  },
  {
   "cell_type": "code",
   "execution_count": 1,
   "metadata": {},
   "outputs": [],
   "source": [
    "def solution(arr1, arr2):\n",
    "    return [[sum(a * b for a, b in zip(A_row,B_col)) for B_col in zip(*arr2)] for A_row in arr1]"
   ]
  },
  {
   "cell_type": "code",
   "execution_count": 2,
   "metadata": {},
   "outputs": [
    {
     "data": {
      "text/plain": [
       "[[15, 15], [15, 15], [15, 15]]"
      ]
     },
     "execution_count": 2,
     "metadata": {},
     "output_type": "execute_result"
    }
   ],
   "source": [
    "solution([[1, 4], [3, 2], [4, 1]], [[3, 3], [3, 3]])"
   ]
  },
  {
   "cell_type": "code",
   "execution_count": 3,
   "metadata": {},
   "outputs": [
    {
     "data": {
      "text/plain": [
       "[[22, 22, 11], [36, 28, 18], [29, 20, 14]]"
      ]
     },
     "execution_count": 3,
     "metadata": {},
     "output_type": "execute_result"
    }
   ],
   "source": [
    "solution([[2, 3, 2], [4, 2, 4], [3, 1, 4]], [[5, 4, 3], [2, 4, 1], [3, 1, 1]])"
   ]
  },
  {
   "cell_type": "markdown",
   "metadata": {},
   "source": [
    "## 단계별 풀이"
   ]
  },
  {
   "cell_type": "code",
   "execution_count": 10,
   "metadata": {},
   "outputs": [
    {
     "name": "stdout",
     "output_type": "stream",
     "text": [
      "[2, 3, 2]\n",
      "[4, 2, 4]\n",
      "[3, 1, 4]\n"
     ]
    }
   ],
   "source": [
    "arr1 = [[2, 3, 2], [4, 2, 4], [3, 1, 4]]\n",
    "\n",
    "for i in arr1:\n",
    "    print(i)"
   ]
  },
  {
   "cell_type": "code",
   "execution_count": 11,
   "metadata": {},
   "outputs": [
    {
     "name": "stdout",
     "output_type": "stream",
     "text": [
      "(5, 2, 3)\n",
      "(4, 4, 1)\n",
      "(3, 1, 1)\n"
     ]
    }
   ],
   "source": [
    "arr2 = [[5, 4, 3], [2, 4, 1], [3, 1, 1]]\n",
    "\n",
    "for i in zip(*arr2):\n",
    "    print(i)"
   ]
  }
 ],
 "metadata": {
  "kernelspec": {
   "display_name": "Python 3",
   "language": "python",
   "name": "python3"
  },
  "language_info": {
   "codemirror_mode": {
    "name": "ipython",
    "version": 3
   },
   "file_extension": ".py",
   "mimetype": "text/x-python",
   "name": "python",
   "nbconvert_exporter": "python",
   "pygments_lexer": "ipython3",
   "version": "3.7.6"
  }
 },
 "nbformat": 4,
 "nbformat_minor": 4
}
