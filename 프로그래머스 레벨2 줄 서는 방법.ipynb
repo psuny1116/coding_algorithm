{
 "cells": [
  {
   "cell_type": "markdown",
   "metadata": {},
   "source": [
    "# 줄 서는 방법\n",
    "\n",
    "## 문제 설명\n",
    "\n",
    "- n명의 사람이 일렬로 줄을 서고 있습니다. n명의 사람들에게는 각각 1번부터 n번까지 번호가 매겨져 있습니다. \n",
    "- n명이 사람을 줄을 서는 방법은 여러가지 방법이 있습니다. 예를 들어서 3명의 사람이 있다면 다음과 같이 6개의 방법이 있습니다.\n",
    "    - [1, 2, 3]\n",
    "    - [1, 3, 2]\n",
    "    - [2, 1, 3]\n",
    "    - [2, 3, 1]\n",
    "    - [3, 1, 2]\n",
    "    - [3, 2, 1]\n",
    "\n",
    "- 사람의 수 n과, 자연수 k가 주어질 때, 사람을 나열 하는 방법을 사전 순으로 나열 했을 때, k번째 방법을 return하는 solution 함수를 완성해주세요.\n",
    "\n",
    "## 제한사항\n",
    "\n",
    "- n은 20이하의 자연수 입니다.\n",
    "- k는 n! 이하의 자연수 입니다.\n",
    "\n",
    "## 입출력 예\n",
    "\n",
    "n|\tk|\tresult\n",
    "-|-|-\n",
    "3|\t5|\t[3,1,2]\n",
    "\n",
    "## 입출력 예시 설명\n",
    "### 입출력 예 #1\n",
    "\n",
    "- 문제의 예시와 같습니다."
   ]
  },
  {
   "cell_type": "code",
   "execution_count": 1,
   "metadata": {},
   "outputs": [],
   "source": [
    "import math\n",
    "def solution(n, k):\n",
    "    Nums = list(range(1, n+1))     # 1부터 n까지의 수가 담긴 리스트\n",
    "    Answer = []\n",
    "    while n != 0:     # n이 0이 되기 전까지\n",
    "        temp = math.factorial(n-1)  # n = 3일떄 첫 자리에 올 수 있는 수는 1, 2, 3. 그리고 그 뒤에 올 수 있는 경우의  수(temp) = (n-1)!\n",
    "        Index, k = (k-1)//temp, k%temp  ## k - 1을 (n-1)!로 나눈 몫 = 각 숫자가 첫번째 왔을 때 몇번의 방법이 있는지.\n",
    "                                        ## k를 (n-1)!로 나눈 나머지 = 두번째 숫자가 지나가고 남은 수\n",
    "        Answer.append(Nums.pop(Index)) # Nums리스트에서 Index에 해당하는 숫자의 인덱스에 해당하는 수 추출\n",
    "        n -= 1\n",
    "    return Answer"
   ]
  },
  {
   "cell_type": "code",
   "execution_count": 2,
   "metadata": {},
   "outputs": [
    {
     "data": {
      "text/plain": [
       "[3, 1, 2]"
      ]
     },
     "execution_count": 2,
     "metadata": {},
     "output_type": "execute_result"
    }
   ],
   "source": [
    "solution(3, 5)"
   ]
  }
 ],
 "metadata": {
  "kernelspec": {
   "display_name": "Python 3",
   "language": "python",
   "name": "python3"
  },
  "language_info": {
   "codemirror_mode": {
    "name": "ipython",
    "version": 3
   },
   "file_extension": ".py",
   "mimetype": "text/x-python",
   "name": "python",
   "nbconvert_exporter": "python",
   "pygments_lexer": "ipython3",
   "version": "3.7.6"
  }
 },
 "nbformat": 4,
 "nbformat_minor": 4
}
