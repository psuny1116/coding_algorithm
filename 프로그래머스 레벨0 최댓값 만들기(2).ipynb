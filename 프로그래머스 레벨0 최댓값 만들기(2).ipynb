{
 "cells": [
  {
   "cell_type": "markdown",
   "metadata": {},
   "source": [
    "# 최댓값 만들기(2)_레벨0\n",
    "\n",
    "## 문제 설명\n",
    "\n",
    "- 정수 배열 numbers가 매개변수로 주어집니다. numbers의 원소 중 두 개를 곱해 만들 수 있는 최댓값을 return하도록 solution 함수를 완성해주세요.\n",
    "\n",
    "## 제한사항\n",
    "\n",
    "- -10,000 ≤ numbers의 원소 ≤ 10,000\n",
    "- 2 ≤ numbers 의 길이 ≤ 100\n",
    "\n",
    "## 입출력 예\n",
    "\n",
    "numbers|\tresult\n",
    "-|-\n",
    "[1, 2, -3, 4, -5]|\t15\n",
    "[0, -31, 24, 10, 1, 9]|\t240\n",
    "[10, 20, 30, 5, 5, 20, 5]|\t600\n",
    "\n",
    "## 입출력 예 설명\n",
    "\n",
    "### 입출력 예 #1\n",
    "\n",
    "- 두 수의 곱중 최댓값은 -3 * -5 = 15 입니다.\n",
    "\n",
    "### 입출력 예 #2\n",
    "\n",
    "- 두 수의 곱중 최댓값은 10 * 24 = 240 입니다.\n",
    "\n",
    "### 입출력 예 #3\n",
    "\n",
    "- 두 수의 곱중 최댓값은 20 * 30 = 600 입니다."
   ]
  },
  {
   "cell_type": "markdown",
   "metadata": {},
   "source": [
    "# 풀이"
   ]
  },
  {
   "cell_type": "code",
   "execution_count": 1,
   "metadata": {},
   "outputs": [],
   "source": [
    "def solution(numbers):\n",
    "    numbers = sorted(numbers)\n",
    "    return max(numbers[0] * numbers[1], numbers[-1] * numbers[-2])"
   ]
  },
  {
   "cell_type": "code",
   "execution_count": 2,
   "metadata": {},
   "outputs": [
    {
     "data": {
      "text/plain": [
       "15"
      ]
     },
     "execution_count": 2,
     "metadata": {},
     "output_type": "execute_result"
    }
   ],
   "source": [
    "solution([1, 2, -3, 4, -5])"
   ]
  },
  {
   "cell_type": "code",
   "execution_count": 3,
   "metadata": {},
   "outputs": [
    {
     "data": {
      "text/plain": [
       "240"
      ]
     },
     "execution_count": 3,
     "metadata": {},
     "output_type": "execute_result"
    }
   ],
   "source": [
    "solution([0, -31, 24, 10, 1, 9])"
   ]
  },
  {
   "cell_type": "code",
   "execution_count": 4,
   "metadata": {},
   "outputs": [
    {
     "data": {
      "text/plain": [
       "600"
      ]
     },
     "execution_count": 4,
     "metadata": {},
     "output_type": "execute_result"
    }
   ],
   "source": [
    "solution([10, 20, 30, 5, 5, 20, 5])"
   ]
  }
 ],
 "metadata": {
  "kernelspec": {
   "display_name": "Python 3",
   "language": "python",
   "name": "python3"
  },
  "language_info": {
   "codemirror_mode": {
    "name": "ipython",
    "version": 3
   },
   "file_extension": ".py",
   "mimetype": "text/x-python",
   "name": "python",
   "nbconvert_exporter": "python",
   "pygments_lexer": "ipython3",
   "version": "3.7.6"
  }
 },
 "nbformat": 4,
 "nbformat_minor": 4
}
