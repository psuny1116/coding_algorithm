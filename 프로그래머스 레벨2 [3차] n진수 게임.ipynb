{
 "cells": [
  {
   "cell_type": "markdown",
   "metadata": {},
   "source": [
    "# [3차] n진수 게임\n",
    "\n",
    "## 문제 설명\n",
    "\n",
    "- 튜브가 활동하는 코딩 동아리에서는 전통적으로 해오는 게임이 있다. 이 게임은 여러 사람이 둥글게 앉아서 숫자를 하나씩 차례대로 말하는 게임인데, 규칙은 다음과 같다.\n",
    "- 숫자를 0부터 시작해서 차례대로 말한다. 첫 번째 사람은 0, 두 번째 사람은 1, … 열 번째 사람은 9를 말한다.\n",
    "- 10 이상의 숫자부터는 한 자리씩 끊어서 말한다. 즉 열한 번째 사람은 10의 첫 자리인 1, 열두 번째 사람은 둘째 자리인 0을 말한다.\n",
    "- 이렇게 게임을 진행할 경우,\n",
    "- 0, 1, 2, 3, 4, 5, 6, 7, 8, 9, 1, 0, 1, 1, 1, 2, 1, 3, 1, 4, …\n",
    "- 순으로 숫자를 말하면 된다.\n",
    "-  한편 코딩 동아리 일원들은 컴퓨터를 다루는 사람답게 이진수로 이 게임을 진행하기도 하는데, 이 경우에는\n",
    "- 0, 1, 1, 0, 1, 1, 1, 0, 0, 1, 0, 1, 1, 1, 0, 1, 1, 1, …\n",
    "- 순으로 숫자를 말하면 된다.\n",
    "\n",
    "- 이진수로 진행하는 게임에 익숙해져 질려가던 사람들은 좀 더 난이도를 높이기 위해 이진법에서 십육진법까지 모든 진법으로 게임을 진행해보기로 했다. \n",
    "- 숫자 게임이 익숙하지 않은 튜브는 게임에 져서 벌칙을 받는 굴욕을 피하기 위해, 자신이 말해야 하는 숫자를 스마트폰에 미리 출력해주는 프로그램을 만들려고 한다. 튜브의 프로그램을 구현하라.\n",
    "\n",
    "## 입력 형식\n",
    "\n",
    "- 진법 n, 미리 구할 숫자의 갯수 t, 게임에 참가하는 인원 m, 튜브의 순서 p 가 주어진다.\n",
    "\n",
    "- 2 ≦ n ≦ 16\n",
    "- 0 ＜ t ≦ 1000\n",
    "- 2 ≦ m ≦ 100\n",
    "- 1 ≦ p ≦ m\n",
    "\n",
    "## 출력 형식\n",
    "\n",
    "- 튜브가 말해야 하는 숫자 t개를 공백 없이 차례대로 나타낸 문자열. 단, 10~15는 각각 대문자 A~F로 출력한다.\n",
    "\n",
    "## 입출력 예제\n",
    "\n",
    "n|\tt|\tm|\tp|\tresult\n",
    "-|-|-|-|-\n",
    "2|\t4|\t2|\t1|\t\"0111\"\n",
    "16|\t16|\t2|\t1|\t\"02468ACE11111111\"\n",
    "16|\t16|\t2|\t2|\t\"13579BDF01234567\""
   ]
  },
  {
   "cell_type": "markdown",
   "metadata": {},
   "source": [
    "# 풀이"
   ]
  },
  {
   "cell_type": "code",
   "execution_count": 1,
   "metadata": {},
   "outputs": [],
   "source": [
    "def convert(n, base):\n",
    "    arr = '0123456789ABCDEF'\n",
    "    q, r = divmod(n, base)\n",
    "    if q == 0:\n",
    "        return arr[r]\n",
    "    else:\n",
    "        return convert(q, base) + arr[r]\n",
    "\n",
    "def solution(n, t, m, p):\n",
    "    answer = ''\n",
    "    test = ''\n",
    "    for i in range(t * m):     # 미리 구할 숫자의 갯수 * 게임 참가 인원만큼 반복\n",
    "        test += str(convert(i, n))     # test에는 전체 숫자 저장됨\n",
    "        \n",
    "    while len(answer) < t:    # answer에 t개 만큼의 숫자가 있을 때까지 반복\n",
    "        answer += test[p - 1]     # test에서 튜브의 순서(p - 1)에 해당하는 수 추출\n",
    "        p += m     # 사람수만큼 p에 더해가며 반복\n",
    "    return answer"
   ]
  },
  {
   "cell_type": "code",
   "execution_count": 2,
   "metadata": {},
   "outputs": [
    {
     "data": {
      "text/plain": [
       "'0111'"
      ]
     },
     "execution_count": 2,
     "metadata": {},
     "output_type": "execute_result"
    }
   ],
   "source": [
    "solution(2, 4, 2, 1)"
   ]
  },
  {
   "cell_type": "code",
   "execution_count": 3,
   "metadata": {},
   "outputs": [
    {
     "data": {
      "text/plain": [
       "'02468ACE11111111'"
      ]
     },
     "execution_count": 3,
     "metadata": {},
     "output_type": "execute_result"
    }
   ],
   "source": [
    "solution(16, 16, 2, 1)"
   ]
  },
  {
   "cell_type": "code",
   "execution_count": 4,
   "metadata": {},
   "outputs": [
    {
     "data": {
      "text/plain": [
       "'13579BDF01234567'"
      ]
     },
     "execution_count": 4,
     "metadata": {},
     "output_type": "execute_result"
    }
   ],
   "source": [
    "solution(16, 16, 2, 2)"
   ]
  }
 ],
 "metadata": {
  "kernelspec": {
   "display_name": "Python 3",
   "language": "python",
   "name": "python3"
  },
  "language_info": {
   "codemirror_mode": {
    "name": "ipython",
    "version": 3
   },
   "file_extension": ".py",
   "mimetype": "text/x-python",
   "name": "python",
   "nbconvert_exporter": "python",
   "pygments_lexer": "ipython3",
   "version": "3.7.6"
  }
 },
 "nbformat": 4,
 "nbformat_minor": 4
}
