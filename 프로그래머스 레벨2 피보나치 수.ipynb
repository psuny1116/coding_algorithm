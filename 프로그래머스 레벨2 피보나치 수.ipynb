{
 "cells": [
  {
   "cell_type": "markdown",
   "metadata": {},
   "source": [
    "# 피보나치 수\n",
    "\n",
    "## 문제 설명\n",
    "\n",
    "- 피보나치 수는 F(0) = 0, F(1) = 1일 때, 1 이상의 n에 대하여 F(n) = F(n-1) + F(n-2) 가 적용되는 수 입니다.\n",
    "\n",
    "- 예를들어\n",
    "\n",
    "- F(2) = F(0) + F(1) = 0 + 1 = 1\n",
    "- F(3) = F(1) + F(2) = 1 + 1 = 2\n",
    "- F(4) = F(2) + F(3) = 1 + 2 = 3\n",
    "- F(5) = F(3) + F(4) = 2 + 3 = 5\n",
    "- 와 같이 이어집니다.\n",
    "\n",
    "- 2 이상의 n이 입력되었을 때, n번째 피보나치 수를 1234567으로 나눈 나머지를 리턴하는 함수, solution을 완성해 주세요.\n",
    "\n",
    "## 제한 사항\n",
    "\n",
    "- n은 2 이상 100,000 이하인 자연수입니다.\n",
    "\n",
    "## 입출력 예\n",
    "\n",
    "n|\treturn\n",
    "-|-\n",
    "3|\t2\n",
    "5|\t5\n",
    "\n",
    "### 입출력 예 설명\n",
    "\n",
    "- 피보나치수는 0번째부터 0, 1, 1, 2, 3, 5, ... 와 같이 이어집니다."
   ]
  },
  {
   "cell_type": "markdown",
   "metadata": {},
   "source": [
    "# 풀이"
   ]
  },
  {
   "cell_type": "code",
   "execution_count": 1,
   "metadata": {},
   "outputs": [],
   "source": [
    "# 재귀함수로 풀면 시간초과 나옴\n",
    "\n",
    "def solution(n):\n",
    "    answer = [0,1]     # F(0)=0, F(1)=1\n",
    "    for i in range(2,n+1):     \n",
    "        answer.append((answer[i-1] + answer[i-2]) % 1234567)      # F(n) = (F(n-1) + F(n-2)) % 1234567\n",
    "    \n",
    "    return answer[-1]     # answer 리스트의 마지막 값 반환"
   ]
  },
  {
   "cell_type": "code",
   "execution_count": 2,
   "metadata": {},
   "outputs": [
    {
     "data": {
      "text/plain": [
       "2"
      ]
     },
     "execution_count": 2,
     "metadata": {},
     "output_type": "execute_result"
    }
   ],
   "source": [
    "solution(3)"
   ]
  },
  {
   "cell_type": "code",
   "execution_count": 3,
   "metadata": {},
   "outputs": [
    {
     "data": {
      "text/plain": [
       "5"
      ]
     },
     "execution_count": 3,
     "metadata": {},
     "output_type": "execute_result"
    }
   ],
   "source": [
    "solution(5)"
   ]
  }
 ],
 "metadata": {
  "kernelspec": {
   "display_name": "Python 3",
   "language": "python",
   "name": "python3"
  },
  "language_info": {
   "codemirror_mode": {
    "name": "ipython",
    "version": 3
   },
   "file_extension": ".py",
   "mimetype": "text/x-python",
   "name": "python",
   "nbconvert_exporter": "python",
   "pygments_lexer": "ipython3",
   "version": "3.7.6"
  }
 },
 "nbformat": 4,
 "nbformat_minor": 4
}
