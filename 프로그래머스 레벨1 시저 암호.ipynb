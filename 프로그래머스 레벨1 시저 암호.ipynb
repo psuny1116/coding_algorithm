{
 "cells": [
  {
   "cell_type": "markdown",
   "metadata": {},
   "source": [
    "# 시저 암호\n",
    "\n",
    "## 문제 설명\n",
    "어떤 문장의 각 알파벳을 일정한 거리만큼 밀어서 다른 알파벳으로 바꾸는 암호화 방식을 시저 암호라고 합니다.<br>\n",
    "예를 들어 \"AB\"는 1만큼 밀면 \"BC\"가 되고, 3만큼 밀면 \"DE\"가 됩니다.<br>\n",
    "\"z\"는 1만큼 밀면 \"a\"가 됩니다.<br>\n",
    "문자열 s와 거리 n을 입력받아 s를 n만큼 민 암호문을 만드는 함수, solution을 완성해 보세요.\n",
    "\n",
    "## 제한 조건\n",
    "공백은 아무리 밀어도 공백입니다.<br>\n",
    "s는 알파벳 소문자, 대문자, 공백으로만 이루어져 있습니다.<br>\n",
    "s의 길이는 8000이하입니다.<br>\n",
    "n은 1 이상, 25이하인 자연수입니다."
   ]
  },
  {
   "cell_type": "markdown",
   "metadata": {},
   "source": [
    "# 내가 푼 방법"
   ]
  },
  {
   "cell_type": "code",
   "execution_count": 11,
   "metadata": {},
   "outputs": [],
   "source": [
    "def solution(s, n):\n",
    "    \n",
    "    answer = ''\n",
    "\n",
    "    up = 'ABCDEFGHIJKLMNOPQRSTUVWXYZ'\n",
    "    low = up.lower()\n",
    "\n",
    "    for i in range(len(s)):\n",
    "        if s[i] in up:\n",
    "            index = up.find(s[i])\n",
    "            change = (index + n) % 26\n",
    "            answer += up[change]\n",
    "        elif s[i] in low:\n",
    "            index = low.find(s[i])\n",
    "            change = (index + n) % 26\n",
    "            answer += low[change]\n",
    "        elif s[i] == ' ':\n",
    "            answer += ' '\n",
    "            \n",
    "    return answer"
   ]
  },
  {
   "cell_type": "code",
   "execution_count": 12,
   "metadata": {},
   "outputs": [
    {
     "data": {
      "text/plain": [
       "'BC'"
      ]
     },
     "execution_count": 12,
     "metadata": {},
     "output_type": "execute_result"
    }
   ],
   "source": [
    "solution('AB', 1)"
   ]
  },
  {
   "cell_type": "code",
   "execution_count": 14,
   "metadata": {},
   "outputs": [
    {
     "data": {
      "text/plain": [
       "'a'"
      ]
     },
     "execution_count": 14,
     "metadata": {},
     "output_type": "execute_result"
    }
   ],
   "source": [
    "solution('z', 1)"
   ]
  },
  {
   "cell_type": "code",
   "execution_count": 16,
   "metadata": {},
   "outputs": [
    {
     "data": {
      "text/plain": [
       "'e F d'"
      ]
     },
     "execution_count": 16,
     "metadata": {},
     "output_type": "execute_result"
    }
   ],
   "source": [
    "solution('a B z', 4)"
   ]
  },
  {
   "cell_type": "markdown",
   "metadata": {},
   "source": [
    "# 간단한 방법"
   ]
  },
  {
   "cell_type": "code",
   "execution_count": 17,
   "metadata": {},
   "outputs": [],
   "source": [
    "def solution(s, n):\n",
    "    s = list(s)\n",
    "    for i in range(len(s)):\n",
    "        if s[i].isupper():\n",
    "            s[i] = chr((ord(s[i]) - ord('A') + n) % 26 + ord('A'))     # chr(x)는 인자로 들어온 x를 문자로 변환시켜서 반환\n",
    "        elif s[i].islower():\n",
    "            s[i] = chr((ord(s[i]) - ord('a') + n) % 26 + ord('a'))     # ord()함수는 입력된 문자의 아스키 코드값 반환\n",
    "    return ''.join(s)"
   ]
  },
  {
   "cell_type": "code",
   "execution_count": 18,
   "metadata": {},
   "outputs": [
    {
     "data": {
      "text/plain": [
       "'BC'"
      ]
     },
     "execution_count": 18,
     "metadata": {},
     "output_type": "execute_result"
    }
   ],
   "source": [
    "solution('AB', 1)"
   ]
  },
  {
   "cell_type": "code",
   "execution_count": 19,
   "metadata": {},
   "outputs": [
    {
     "data": {
      "text/plain": [
       "'a'"
      ]
     },
     "execution_count": 19,
     "metadata": {},
     "output_type": "execute_result"
    }
   ],
   "source": [
    "solution('z', 1)"
   ]
  },
  {
   "cell_type": "code",
   "execution_count": 20,
   "metadata": {},
   "outputs": [
    {
     "data": {
      "text/plain": [
       "'e F d'"
      ]
     },
     "execution_count": 20,
     "metadata": {},
     "output_type": "execute_result"
    }
   ],
   "source": [
    "solution('a B z', 4)"
   ]
  }
 ],
 "metadata": {
  "kernelspec": {
   "display_name": "Python 3",
   "language": "python",
   "name": "python3"
  },
  "language_info": {
   "codemirror_mode": {
    "name": "ipython",
    "version": 3
   },
   "file_extension": ".py",
   "mimetype": "text/x-python",
   "name": "python",
   "nbconvert_exporter": "python",
   "pygments_lexer": "ipython3",
   "version": "3.7.6"
  }
 },
 "nbformat": 4,
 "nbformat_minor": 4
}
