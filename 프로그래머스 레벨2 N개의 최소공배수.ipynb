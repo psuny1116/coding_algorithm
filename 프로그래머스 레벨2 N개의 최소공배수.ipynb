{
 "cells": [
  {
   "cell_type": "markdown",
   "metadata": {},
   "source": [
    "# N개의 최소공배수\n",
    "\n",
    "## 문제 설명\n",
    "\n",
    "- 두 수의 최소공배수(Least Common Multiple)란 입력된 두 수의 배수 중 공통이 되는 가장 작은 숫자를 의미합니다. \n",
    "- 예를 들어 2와 7의 최소공배수는 14가 됩니다. \n",
    "- 정의를 확장해서, n개의 수의 최소공배수는 n 개의 수들의 배수 중 공통이 되는 가장 작은 숫자가 됩니다. \n",
    "- n개의 숫자를 담은 배열 arr이 입력되었을 때 이 수들의 최소공배수를 반환하는 함수, solution을 완성해 주세요.\n",
    "\n",
    "## 제한 사항\n",
    "\n",
    "- arr은 길이 1이상, 15이하인 배열입니다.\n",
    "- arr의 원소는 100 이하인 자연수입니다.\n",
    "\n",
    "## 입출력 예\n",
    "\n",
    "arr|\tresult\n",
    "-|-\n",
    "[2,6,8,14]|\t168\n",
    "[1,2,3]|\t6"
   ]
  },
  {
   "cell_type": "markdown",
   "metadata": {},
   "source": [
    "# 풀이"
   ]
  },
  {
   "cell_type": "code",
   "execution_count": 6,
   "metadata": {},
   "outputs": [],
   "source": [
    "def solution(arr):\n",
    "    from math import gcd     #  gcd함수는 두 수의 최대공약수를 구해주는 함수               \n",
    "    answer = arr[0]           # arr의 첫 원소를 answer로 지정               \n",
    "\n",
    "    for num in arr:                              \n",
    "        answer = (answer * num) // gcd(answer, num)     # 최소공배수 구하는 식\n",
    "\n",
    "    return answer"
   ]
  },
  {
   "cell_type": "code",
   "execution_count": 7,
   "metadata": {},
   "outputs": [
    {
     "data": {
      "text/plain": [
       "168"
      ]
     },
     "execution_count": 7,
     "metadata": {},
     "output_type": "execute_result"
    }
   ],
   "source": [
    "solution([2, 6, 8, 14])"
   ]
  },
  {
   "cell_type": "code",
   "execution_count": 8,
   "metadata": {},
   "outputs": [
    {
     "data": {
      "text/plain": [
       "6"
      ]
     },
     "execution_count": 8,
     "metadata": {},
     "output_type": "execute_result"
    }
   ],
   "source": [
    "solution([1, 2, 3])"
   ]
  }
 ],
 "metadata": {
  "kernelspec": {
   "display_name": "Python 3",
   "language": "python",
   "name": "python3"
  },
  "language_info": {
   "codemirror_mode": {
    "name": "ipython",
    "version": 3
   },
   "file_extension": ".py",
   "mimetype": "text/x-python",
   "name": "python",
   "nbconvert_exporter": "python",
   "pygments_lexer": "ipython3",
   "version": "3.7.6"
  }
 },
 "nbformat": 4,
 "nbformat_minor": 4
}
