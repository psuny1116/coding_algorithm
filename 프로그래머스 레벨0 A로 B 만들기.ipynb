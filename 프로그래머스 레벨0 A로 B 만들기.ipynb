{
 "cells": [
  {
   "cell_type": "markdown",
   "metadata": {},
   "source": [
    "# A로 B 만들기_레벨0\n",
    "\n",
    "## 문제 설명\n",
    "\n",
    "- 문자열 before와 after가 매개변수로 주어질 때, before의 순서를 바꾸어 after를 만들 수 있으면 1을, 만들 수 없으면 0을 return 하도록 solution 함수를 완성해보세요.\n",
    "\n",
    "## 제한사항\n",
    "\n",
    "- 0 < before의 길이 == after의 길이 < 1,000\n",
    "- before와 after는 모두 소문자로 이루어져 있습니다.\n",
    "\n",
    "## 입출력 예\n",
    "\n",
    "before|\tafter|\tresult\n",
    "-|-|-\n",
    "\"olleh\"|\t\"hello\"|\t1\n",
    "\"allpe\"|\t\"apple\"|\t0\n",
    "\n",
    "## 입출력 예 설명\n",
    "\n",
    "### 입출력 예 #1\n",
    "\n",
    "- \"olleh\"의 순서를 바꾸면 \"hello\"를 만들 수 있습니다.\n",
    "\n",
    "### 입출력 예 #2\n",
    "\n",
    "- \"allpe\"의 순서를 바꿔도 \"apple\"을 만들 수 없습니다."
   ]
  },
  {
   "cell_type": "markdown",
   "metadata": {},
   "source": [
    "# 풀이"
   ]
  },
  {
   "cell_type": "code",
   "execution_count": 1,
   "metadata": {},
   "outputs": [],
   "source": [
    "def solution(before, after):\n",
    "    return 1 if sorted(before) == sorted(after) else 0"
   ]
  },
  {
   "cell_type": "code",
   "execution_count": 2,
   "metadata": {},
   "outputs": [
    {
     "data": {
      "text/plain": [
       "1"
      ]
     },
     "execution_count": 2,
     "metadata": {},
     "output_type": "execute_result"
    }
   ],
   "source": [
    "solution(\"olleh\", 'hello')     # 1"
   ]
  },
  {
   "cell_type": "code",
   "execution_count": 3,
   "metadata": {},
   "outputs": [
    {
     "data": {
      "text/plain": [
       "0"
      ]
     },
     "execution_count": 3,
     "metadata": {},
     "output_type": "execute_result"
    }
   ],
   "source": [
    "solution(\"allpe\", 'apple')     # 0"
   ]
  }
 ],
 "metadata": {
  "kernelspec": {
   "display_name": "Python 3",
   "language": "python",
   "name": "python3"
  },
  "language_info": {
   "codemirror_mode": {
    "name": "ipython",
    "version": 3
   },
   "file_extension": ".py",
   "mimetype": "text/x-python",
   "name": "python",
   "nbconvert_exporter": "python",
   "pygments_lexer": "ipython3",
   "version": "3.7.6"
  }
 },
 "nbformat": 4,
 "nbformat_minor": 4
}
